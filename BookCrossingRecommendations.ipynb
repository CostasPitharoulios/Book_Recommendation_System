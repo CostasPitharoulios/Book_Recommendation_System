{
 "cells": [
  {
   "cell_type": "markdown",
   "metadata": {},
   "source": [
    "# EXPLORING AND DESCRIBING DATA"
   ]
  },
  {
   "cell_type": "markdown",
   "metadata": {},
   "source": [
    "### Essential imports"
   ]
  },
  {
   "cell_type": "code",
   "execution_count": 1,
   "metadata": {},
   "outputs": [],
   "source": [
    "%matplotlib inline\n",
    "from matplotlib import pyplot as plt\n",
    "from matplotlib.ticker import MultipleLocator\n",
    "import pandas as pd\n",
    "import seaborn as sns\n",
    "sns.set()\n",
    "import numpy as np\n",
    "import time"
   ]
  },
  {
   "cell_type": "code",
   "execution_count": 2,
   "metadata": {},
   "outputs": [],
   "source": [
    "import pandas as pd\n",
    "from surprise import Reader\n",
    "from surprise import Dataset\n",
    "from surprise.model_selection import cross_validate\n",
    "from surprise import NormalPredictor\n",
    "from surprise import KNNBasic\n",
    "from surprise import KNNWithMeans\n",
    "from surprise import KNNWithZScore\n",
    "from surprise import KNNBaseline\n",
    "from surprise import SVD\n",
    "from surprise import NMF\n",
    "from surprise import BaselineOnly\n",
    "from surprise import SVDpp\n",
    "from surprise import SlopeOne\n",
    "from surprise import CoClustering\n",
    "from surprise import accuracy\n"
   ]
  },
  {
   "cell_type": "markdown",
   "metadata": {},
   "source": [
    "## Converting our .csv files to pandas\n",
    "*By doing this we can observe and use the content of csv files in a better way*"
   ]
  },
  {
   "cell_type": "markdown",
   "metadata": {},
   "source": [
    "#### Loading BX-Books-Ratings-Test to panda"
   ]
  },
  {
   "cell_type": "code",
   "execution_count": 3,
   "metadata": {},
   "outputs": [],
   "source": [
    "booksRatings_test = pd.read_csv('07/BX-Book-Ratings-Test.csv', sep=';', header=0)"
   ]
  },
  {
   "cell_type": "markdown",
   "metadata": {},
   "source": [
    "#### Loading BX-Books-Train to panda\n",
    "*Added encoding='latin-1' in the parameters because some bytes could not be decoded*"
   ]
  },
  {
   "cell_type": "code",
   "execution_count": 4,
   "metadata": {},
   "outputs": [],
   "source": [
    "booksRatings_train = pd.read_csv('07/BX-Book-Ratings-Train.csv', sep=';', header=0, encoding='latin-1')"
   ]
  },
  {
   "cell_type": "code",
   "execution_count": 5,
   "metadata": {},
   "outputs": [],
   "source": [
    "# Removing non-ASCII characters\n",
    "booksRatings_train = booksRatings_train.replace({r'[^\\x00-\\x7F]+':''}, regex=True)"
   ]
  },
  {
   "cell_type": "markdown",
   "metadata": {},
   "source": [
    "#### Loading BX-Books to panda\n",
    "##### Here when trying to load BX-Books.csv to panda we have two problems\n",
    "\n",
    "\n",
    "*1. Some rows did not have the same columns as the header so we skipped them.*\n",
    "\n",
    "*2. Some bytes could not be decoded so we changed encoding to 'latin-1'*"
   ]
  },
  {
   "cell_type": "code",
   "execution_count": 6,
   "metadata": {},
   "outputs": [
    {
     "name": "stderr",
     "output_type": "stream",
     "text": [
      "b'Skipping line 6452: expected 8 fields, saw 9\\nSkipping line 43667: expected 8 fields, saw 10\\nSkipping line 51751: expected 8 fields, saw 9\\n'\n",
      "b'Skipping line 92038: expected 8 fields, saw 9\\nSkipping line 104319: expected 8 fields, saw 9\\nSkipping line 121768: expected 8 fields, saw 9\\n'\n",
      "b'Skipping line 144058: expected 8 fields, saw 9\\nSkipping line 150789: expected 8 fields, saw 9\\nSkipping line 157128: expected 8 fields, saw 9\\nSkipping line 180189: expected 8 fields, saw 9\\nSkipping line 185738: expected 8 fields, saw 9\\n'\n",
      "b'Skipping line 209388: expected 8 fields, saw 9\\nSkipping line 220626: expected 8 fields, saw 9\\nSkipping line 227933: expected 8 fields, saw 11\\nSkipping line 228957: expected 8 fields, saw 10\\nSkipping line 245933: expected 8 fields, saw 9\\nSkipping line 251296: expected 8 fields, saw 9\\nSkipping line 259941: expected 8 fields, saw 9\\nSkipping line 261529: expected 8 fields, saw 9\\n'\n",
      "/opt/anaconda3/lib/python3.7/site-packages/IPython/core/interactiveshell.py:3058: DtypeWarning: Columns (3) have mixed types. Specify dtype option on import or set low_memory=False.\n",
      "  interactivity=interactivity, compiler=compiler, result=result)\n"
     ]
    }
   ],
   "source": [
    "books =  pd.read_csv('07/BX-Books.csv', sep=';', header=0, error_bad_lines=False, encoding='latin-1')"
   ]
  },
  {
   "cell_type": "code",
   "execution_count": 7,
   "metadata": {},
   "outputs": [],
   "source": [
    "# Removing non-ASCII characters\n",
    "books = books.replace({r'[^\\x00-\\x7F]+':''}, regex=True)"
   ]
  },
  {
   "cell_type": "markdown",
   "metadata": {},
   "source": [
    "#### Loading BX-Users to pandas\n",
    "*Added encoding='latin-1' in the parameters because some bytes could not be decoded*"
   ]
  },
  {
   "cell_type": "code",
   "execution_count": 8,
   "metadata": {},
   "outputs": [],
   "source": [
    "users = pd.read_csv('07/BX-Users.csv', sep=';', header=0, error_bad_lines=False, encoding='latin-1')"
   ]
  },
  {
   "cell_type": "code",
   "execution_count": 9,
   "metadata": {},
   "outputs": [],
   "source": [
    "# Removing non-ASCII characters\n",
    "users = users.replace({r'[^\\x00-\\x7F]+':''}, regex=True)"
   ]
  },
  {
   "cell_type": "markdown",
   "metadata": {},
   "source": [
    "## Data observation"
   ]
  },
  {
   "cell_type": "markdown",
   "metadata": {},
   "source": [
    "### Books' Dataframe"
   ]
  },
  {
   "cell_type": "code",
   "execution_count": 10,
   "metadata": {},
   "outputs": [],
   "source": [
    "books.dtypes\n",
    "books.columns = books.columns.str.replace('-', '_')"
   ]
  },
  {
   "cell_type": "code",
   "execution_count": 11,
   "metadata": {},
   "outputs": [
    {
     "data": {
      "text/html": [
       "<div>\n",
       "<style scoped>\n",
       "    .dataframe tbody tr th:only-of-type {\n",
       "        vertical-align: middle;\n",
       "    }\n",
       "\n",
       "    .dataframe tbody tr th {\n",
       "        vertical-align: top;\n",
       "    }\n",
       "\n",
       "    .dataframe thead th {\n",
       "        text-align: right;\n",
       "    }\n",
       "</style>\n",
       "<table border=\"1\" class=\"dataframe\">\n",
       "  <thead>\n",
       "    <tr style=\"text-align: right;\">\n",
       "      <th></th>\n",
       "      <th>ISBN</th>\n",
       "      <th>Book_Title</th>\n",
       "      <th>Book_Author</th>\n",
       "      <th>Year_Of_Publication</th>\n",
       "      <th>Publisher</th>\n",
       "      <th>Image_URL_S</th>\n",
       "      <th>Image_URL_M</th>\n",
       "      <th>Image_URL_L</th>\n",
       "    </tr>\n",
       "  </thead>\n",
       "  <tbody>\n",
       "    <tr>\n",
       "      <td>0</td>\n",
       "      <td>0195153448</td>\n",
       "      <td>Classical Mythology</td>\n",
       "      <td>Mark P. O. Morford</td>\n",
       "      <td>2002</td>\n",
       "      <td>Oxford University Press</td>\n",
       "      <td>http://images.amazon.com/images/P/0195153448.0...</td>\n",
       "      <td>http://images.amazon.com/images/P/0195153448.0...</td>\n",
       "      <td>http://images.amazon.com/images/P/0195153448.0...</td>\n",
       "    </tr>\n",
       "    <tr>\n",
       "      <td>1</td>\n",
       "      <td>0002005018</td>\n",
       "      <td>Clara Callan</td>\n",
       "      <td>Richard Bruce Wright</td>\n",
       "      <td>2001</td>\n",
       "      <td>HarperFlamingo Canada</td>\n",
       "      <td>http://images.amazon.com/images/P/0002005018.0...</td>\n",
       "      <td>http://images.amazon.com/images/P/0002005018.0...</td>\n",
       "      <td>http://images.amazon.com/images/P/0002005018.0...</td>\n",
       "    </tr>\n",
       "    <tr>\n",
       "      <td>2</td>\n",
       "      <td>0060973129</td>\n",
       "      <td>Decision in Normandy</td>\n",
       "      <td>Carlo D'Este</td>\n",
       "      <td>1991</td>\n",
       "      <td>HarperPerennial</td>\n",
       "      <td>http://images.amazon.com/images/P/0060973129.0...</td>\n",
       "      <td>http://images.amazon.com/images/P/0060973129.0...</td>\n",
       "      <td>http://images.amazon.com/images/P/0060973129.0...</td>\n",
       "    </tr>\n",
       "    <tr>\n",
       "      <td>3</td>\n",
       "      <td>0374157065</td>\n",
       "      <td>Flu: The Story of the Great Influenza Pandemic...</td>\n",
       "      <td>Gina Bari Kolata</td>\n",
       "      <td>1999</td>\n",
       "      <td>Farrar Straus Giroux</td>\n",
       "      <td>http://images.amazon.com/images/P/0374157065.0...</td>\n",
       "      <td>http://images.amazon.com/images/P/0374157065.0...</td>\n",
       "      <td>http://images.amazon.com/images/P/0374157065.0...</td>\n",
       "    </tr>\n",
       "    <tr>\n",
       "      <td>4</td>\n",
       "      <td>0393045218</td>\n",
       "      <td>The Mummies of Urumchi</td>\n",
       "      <td>E. J. W. Barber</td>\n",
       "      <td>1999</td>\n",
       "      <td>W. W. Norton &amp;amp; Company</td>\n",
       "      <td>http://images.amazon.com/images/P/0393045218.0...</td>\n",
       "      <td>http://images.amazon.com/images/P/0393045218.0...</td>\n",
       "      <td>http://images.amazon.com/images/P/0393045218.0...</td>\n",
       "    </tr>\n",
       "  </tbody>\n",
       "</table>\n",
       "</div>"
      ],
      "text/plain": [
       "         ISBN                                         Book_Title  \\\n",
       "0  0195153448                                Classical Mythology   \n",
       "1  0002005018                                       Clara Callan   \n",
       "2  0060973129                               Decision in Normandy   \n",
       "3  0374157065  Flu: The Story of the Great Influenza Pandemic...   \n",
       "4  0393045218                             The Mummies of Urumchi   \n",
       "\n",
       "            Book_Author Year_Of_Publication                   Publisher  \\\n",
       "0    Mark P. O. Morford                2002     Oxford University Press   \n",
       "1  Richard Bruce Wright                2001       HarperFlamingo Canada   \n",
       "2          Carlo D'Este                1991             HarperPerennial   \n",
       "3      Gina Bari Kolata                1999        Farrar Straus Giroux   \n",
       "4       E. J. W. Barber                1999  W. W. Norton &amp; Company   \n",
       "\n",
       "                                         Image_URL_S  \\\n",
       "0  http://images.amazon.com/images/P/0195153448.0...   \n",
       "1  http://images.amazon.com/images/P/0002005018.0...   \n",
       "2  http://images.amazon.com/images/P/0060973129.0...   \n",
       "3  http://images.amazon.com/images/P/0374157065.0...   \n",
       "4  http://images.amazon.com/images/P/0393045218.0...   \n",
       "\n",
       "                                         Image_URL_M  \\\n",
       "0  http://images.amazon.com/images/P/0195153448.0...   \n",
       "1  http://images.amazon.com/images/P/0002005018.0...   \n",
       "2  http://images.amazon.com/images/P/0060973129.0...   \n",
       "3  http://images.amazon.com/images/P/0374157065.0...   \n",
       "4  http://images.amazon.com/images/P/0393045218.0...   \n",
       "\n",
       "                                         Image_URL_L  \n",
       "0  http://images.amazon.com/images/P/0195153448.0...  \n",
       "1  http://images.amazon.com/images/P/0002005018.0...  \n",
       "2  http://images.amazon.com/images/P/0060973129.0...  \n",
       "3  http://images.amazon.com/images/P/0374157065.0...  \n",
       "4  http://images.amazon.com/images/P/0393045218.0...  "
      ]
     },
     "execution_count": 11,
     "metadata": {},
     "output_type": "execute_result"
    }
   ],
   "source": [
    "books.head()"
   ]
  },
  {
   "cell_type": "markdown",
   "metadata": {},
   "source": [
    "#### Here we observe that BX-Books.csv contains 8 different columns of information for each book. For each book (the key here is ISBN) information about the title of the book, its author, the year of its publication, the publisher as well as three links for photos of the book are given."
   ]
  },
  {
   "cell_type": "markdown",
   "metadata": {},
   "source": [
    "#### The url columns do not really help us anywhere in our calculations so we can drop them off."
   ]
  },
  {
   "cell_type": "code",
   "execution_count": 12,
   "metadata": {},
   "outputs": [],
   "source": [
    "books = books.drop(['Image_URL_S',\"Image_URL_M\",\"Image_URL_L\" ], axis=1)"
   ]
  },
  {
   "cell_type": "code",
   "execution_count": 13,
   "metadata": {
    "scrolled": true
   },
   "outputs": [
    {
     "data": {
      "text/html": [
       "<div>\n",
       "<style scoped>\n",
       "    .dataframe tbody tr th:only-of-type {\n",
       "        vertical-align: middle;\n",
       "    }\n",
       "\n",
       "    .dataframe tbody tr th {\n",
       "        vertical-align: top;\n",
       "    }\n",
       "\n",
       "    .dataframe thead th {\n",
       "        text-align: right;\n",
       "    }\n",
       "</style>\n",
       "<table border=\"1\" class=\"dataframe\">\n",
       "  <thead>\n",
       "    <tr style=\"text-align: right;\">\n",
       "      <th></th>\n",
       "      <th>ISBN</th>\n",
       "      <th>BookTitle</th>\n",
       "      <th>BookAuthor</th>\n",
       "      <th>YearOfPublication</th>\n",
       "      <th>Publisher</th>\n",
       "    </tr>\n",
       "  </thead>\n",
       "  <tbody>\n",
       "    <tr>\n",
       "      <td>0</td>\n",
       "      <td>0195153448</td>\n",
       "      <td>Classical Mythology</td>\n",
       "      <td>Mark P. O. Morford</td>\n",
       "      <td>2002</td>\n",
       "      <td>Oxford University Press</td>\n",
       "    </tr>\n",
       "    <tr>\n",
       "      <td>1</td>\n",
       "      <td>0002005018</td>\n",
       "      <td>Clara Callan</td>\n",
       "      <td>Richard Bruce Wright</td>\n",
       "      <td>2001</td>\n",
       "      <td>HarperFlamingo Canada</td>\n",
       "    </tr>\n",
       "    <tr>\n",
       "      <td>2</td>\n",
       "      <td>0060973129</td>\n",
       "      <td>Decision in Normandy</td>\n",
       "      <td>Carlo D'Este</td>\n",
       "      <td>1991</td>\n",
       "      <td>HarperPerennial</td>\n",
       "    </tr>\n",
       "    <tr>\n",
       "      <td>3</td>\n",
       "      <td>0374157065</td>\n",
       "      <td>Flu: The Story of the Great Influenza Pandemic...</td>\n",
       "      <td>Gina Bari Kolata</td>\n",
       "      <td>1999</td>\n",
       "      <td>Farrar Straus Giroux</td>\n",
       "    </tr>\n",
       "    <tr>\n",
       "      <td>4</td>\n",
       "      <td>0393045218</td>\n",
       "      <td>The Mummies of Urumchi</td>\n",
       "      <td>E. J. W. Barber</td>\n",
       "      <td>1999</td>\n",
       "      <td>W. W. Norton &amp;amp; Company</td>\n",
       "    </tr>\n",
       "  </tbody>\n",
       "</table>\n",
       "</div>"
      ],
      "text/plain": [
       "         ISBN                                          BookTitle  \\\n",
       "0  0195153448                                Classical Mythology   \n",
       "1  0002005018                                       Clara Callan   \n",
       "2  0060973129                               Decision in Normandy   \n",
       "3  0374157065  Flu: The Story of the Great Influenza Pandemic...   \n",
       "4  0393045218                             The Mummies of Urumchi   \n",
       "\n",
       "             BookAuthor YearOfPublication                   Publisher  \n",
       "0    Mark P. O. Morford              2002     Oxford University Press  \n",
       "1  Richard Bruce Wright              2001       HarperFlamingo Canada  \n",
       "2          Carlo D'Este              1991             HarperPerennial  \n",
       "3      Gina Bari Kolata              1999        Farrar Straus Giroux  \n",
       "4       E. J. W. Barber              1999  W. W. Norton &amp; Company  "
      ]
     },
     "execution_count": 13,
     "metadata": {},
     "output_type": "execute_result"
    }
   ],
   "source": [
    "# Renaiming the columns\n",
    "books.columns = ['ISBN', 'BookTitle', 'BookAuthor', 'YearOfPublication', 'Publisher']\n",
    "\n",
    "books.head()"
   ]
  },
  {
   "cell_type": "code",
   "execution_count": 14,
   "metadata": {},
   "outputs": [
    {
     "data": {
      "text/plain": [
       "ISBN                 271360\n",
       "BookTitle            271360\n",
       "BookAuthor           271359\n",
       "YearOfPublication    271360\n",
       "Publisher            271358\n",
       "dtype: int64"
      ]
     },
     "execution_count": 14,
     "metadata": {},
     "output_type": "execute_result"
    }
   ],
   "source": [
    "books.count()"
   ]
  },
  {
   "cell_type": "code",
   "execution_count": 15,
   "metadata": {},
   "outputs": [
    {
     "data": {
      "text/plain": [
       "ISBN                 0\n",
       "BookTitle            0\n",
       "BookAuthor           1\n",
       "YearOfPublication    0\n",
       "Publisher            2\n",
       "dtype: int64"
      ]
     },
     "execution_count": 15,
     "metadata": {},
     "output_type": "execute_result"
    }
   ],
   "source": [
    "books.isna().sum()"
   ]
  },
  {
   "cell_type": "code",
   "execution_count": 16,
   "metadata": {},
   "outputs": [
    {
     "data": {
      "text/plain": [
       "array([2002, 2001, 1991, 1999, 2000, 1993, 1996, 1988, 2004, 1998, 1994,\n",
       "       2003, 1997, 1983, 1979, 1995, 1982, 1985, 1992, 1986, 1978, 1980,\n",
       "       1952, 1987, 1990, 1981, 1989, 1984, 0, 1968, 1961, 1958, 1974,\n",
       "       1976, 1971, 1977, 1975, 1965, 1941, 1970, 1962, 1973, 1972, 1960,\n",
       "       1966, 1920, 1956, 1959, 1953, 1951, 1942, 1963, 1964, 1969, 1954,\n",
       "       1950, 1967, 2005, 1957, 1940, 1937, 1955, 1946, 1936, 1930, 2011,\n",
       "       1925, 1948, 1943, 1947, 1945, 1923, 2020, 1939, 1926, 1938, 2030,\n",
       "       1911, 1904, 1949, 1932, 1928, 1929, 1927, 1931, 1914, 2050, 1934,\n",
       "       1910, 1933, 1902, 1924, 1921, 1900, 2038, 2026, 1944, 1917, 1901,\n",
       "       2010, 1908, 1906, 1935, 1806, 2021, '2000', '1995', '1999', '2004',\n",
       "       '2003', '1990', '1994', '1986', '1989', '2002', '1981', '1993',\n",
       "       '1983', '1982', '1976', '1991', '1977', '1998', '1992', '1996',\n",
       "       '0', '1997', '2001', '1974', '1968', '1987', '1984', '1988',\n",
       "       '1963', '1956', '1970', '1985', '1978', '1973', '1980', '1979',\n",
       "       '1975', '1969', '1961', '1965', '1939', '1958', '1950', '1953',\n",
       "       '1966', '1971', '1959', '1972', '1955', '1957', '1945', '1960',\n",
       "       '1967', '1932', '1924', '1964', '2012', '1911', '1927', '1948',\n",
       "       '1962', '2006', '1952', '1940', '1951', '1931', '1954', '2005',\n",
       "       '1930', '1941', '1944', 'DK Publishing Inc', '1943', '1938',\n",
       "       '1900', '1942', '1923', '1920', '1933', 'Gallimard', '1909',\n",
       "       '1946', '2008', '1378', '2030', '1936', '1947', '2011', '2020',\n",
       "       '1919', '1949', '1922', '1897', '2024', '1376', '1926', '2037'],\n",
       "      dtype=object)"
      ]
     },
     "execution_count": 16,
     "metadata": {},
     "output_type": "execute_result"
    }
   ],
   "source": [
    "#books['YearOfPublication'] = books['YearOfPublication'].astype(int)\n",
    "books.YearOfPublication.unique()"
   ]
  },
  {
   "cell_type": "markdown",
   "metadata": {},
   "source": [
    "#### We can see from the above that \"Gallimard\" and \"DK Publishing Inc\" are mistakenly inside the years of publiation. Thus we are going to fix them."
   ]
  },
  {
   "cell_type": "code",
   "execution_count": 17,
   "metadata": {},
   "outputs": [
    {
     "data": {
      "text/html": [
       "<div>\n",
       "<style scoped>\n",
       "    .dataframe tbody tr th:only-of-type {\n",
       "        vertical-align: middle;\n",
       "    }\n",
       "\n",
       "    .dataframe tbody tr th {\n",
       "        vertical-align: top;\n",
       "    }\n",
       "\n",
       "    .dataframe thead th {\n",
       "        text-align: right;\n",
       "    }\n",
       "</style>\n",
       "<table border=\"1\" class=\"dataframe\">\n",
       "  <thead>\n",
       "    <tr style=\"text-align: right;\">\n",
       "      <th></th>\n",
       "      <th>ISBN</th>\n",
       "      <th>BookTitle</th>\n",
       "      <th>BookAuthor</th>\n",
       "      <th>YearOfPublication</th>\n",
       "      <th>Publisher</th>\n",
       "    </tr>\n",
       "  </thead>\n",
       "  <tbody>\n",
       "    <tr>\n",
       "      <td>220731</td>\n",
       "      <td>2070426769</td>\n",
       "      <td>Peuple du ciel, suivi de 'Les Bergers\\\";Jean-Marie Gustave Le Cl?zio\"</td>\n",
       "      <td>2003</td>\n",
       "      <td>Gallimard</td>\n",
       "      <td>http://images.amazon.com/images/P/2070426769.01.THUMBZZZ.jpg</td>\n",
       "    </tr>\n",
       "  </tbody>\n",
       "</table>\n",
       "</div>"
      ],
      "text/plain": [
       "              ISBN  \\\n",
       "220731  2070426769   \n",
       "\n",
       "                                                                    BookTitle  \\\n",
       "220731  Peuple du ciel, suivi de 'Les Bergers\\\";Jean-Marie Gustave Le Cl?zio\"   \n",
       "\n",
       "       BookAuthor YearOfPublication  \\\n",
       "220731  2003       Gallimard          \n",
       "\n",
       "                                                           Publisher  \n",
       "220731  http://images.amazon.com/images/P/2070426769.01.THUMBZZZ.jpg  "
      ]
     },
     "execution_count": 17,
     "metadata": {},
     "output_type": "execute_result"
    }
   ],
   "source": [
    "pd.set_option('display.max_colwidth', -1)\n",
    "books.loc[books.YearOfPublication == 'Gallimard', :]"
   ]
  },
  {
   "cell_type": "code",
   "execution_count": 18,
   "metadata": {},
   "outputs": [
    {
     "data": {
      "text/html": [
       "<div>\n",
       "<style scoped>\n",
       "    .dataframe tbody tr th:only-of-type {\n",
       "        vertical-align: middle;\n",
       "    }\n",
       "\n",
       "    .dataframe tbody tr th {\n",
       "        vertical-align: top;\n",
       "    }\n",
       "\n",
       "    .dataframe thead th {\n",
       "        text-align: right;\n",
       "    }\n",
       "</style>\n",
       "<table border=\"1\" class=\"dataframe\">\n",
       "  <thead>\n",
       "    <tr style=\"text-align: right;\">\n",
       "      <th></th>\n",
       "      <th>ISBN</th>\n",
       "      <th>BookTitle</th>\n",
       "      <th>BookAuthor</th>\n",
       "      <th>YearOfPublication</th>\n",
       "      <th>Publisher</th>\n",
       "    </tr>\n",
       "  </thead>\n",
       "  <tbody>\n",
       "    <tr>\n",
       "      <td>209538</td>\n",
       "      <td>078946697X</td>\n",
       "      <td>DK Readers: Creating the X-Men, How It All Began (Level 4: Proficient Readers)\\\";Michael Teitelbaum\"</td>\n",
       "      <td>2000</td>\n",
       "      <td>DK Publishing Inc</td>\n",
       "      <td>http://images.amazon.com/images/P/078946697X.01.THUMBZZZ.jpg</td>\n",
       "    </tr>\n",
       "    <tr>\n",
       "      <td>221678</td>\n",
       "      <td>0789466953</td>\n",
       "      <td>DK Readers: Creating the X-Men, How Comic Books Come to Life (Level 4: Proficient Readers)\\\";James Buckley\"</td>\n",
       "      <td>2000</td>\n",
       "      <td>DK Publishing Inc</td>\n",
       "      <td>http://images.amazon.com/images/P/0789466953.01.THUMBZZZ.jpg</td>\n",
       "    </tr>\n",
       "  </tbody>\n",
       "</table>\n",
       "</div>"
      ],
      "text/plain": [
       "              ISBN  \\\n",
       "209538  078946697X   \n",
       "221678  0789466953   \n",
       "\n",
       "                                                                                                          BookTitle  \\\n",
       "209538  DK Readers: Creating the X-Men, How It All Began (Level 4: Proficient Readers)\\\";Michael Teitelbaum\"          \n",
       "221678  DK Readers: Creating the X-Men, How Comic Books Come to Life (Level 4: Proficient Readers)\\\";James Buckley\"   \n",
       "\n",
       "       BookAuthor  YearOfPublication  \\\n",
       "209538  2000       DK Publishing Inc   \n",
       "221678  2000       DK Publishing Inc   \n",
       "\n",
       "                                                           Publisher  \n",
       "209538  http://images.amazon.com/images/P/078946697X.01.THUMBZZZ.jpg  \n",
       "221678  http://images.amazon.com/images/P/0789466953.01.THUMBZZZ.jpg  "
      ]
     },
     "execution_count": 18,
     "metadata": {},
     "output_type": "execute_result"
    }
   ],
   "source": [
    "\n",
    "books.loc[books.YearOfPublication == 'DK Publishing Inc', :]"
   ]
  },
  {
   "cell_type": "code",
   "execution_count": 19,
   "metadata": {},
   "outputs": [],
   "source": [
    "books.loc[books.ISBN == '2070426769', 'BookTitle'] = \"Peuple du ciel, suivi de 'Les Bergers\"\n",
    "books.loc[books.ISBN == '2070426769', 'BookAuthor'] = \"Jean-Marie Gustave Le Clzio\"\n",
    "books.loc[books.ISBN == '2070426769', 'YearOfPublication'] = 2003\n",
    "books.loc[books.ISBN == '2070426769', 'Publisher'] = 'Gallimard'\n",
    "\n",
    "books.loc[books.ISBN == '0789466953', 'BookTitle'] = \"DK Readers: Creating the X-Men, How Comic Books Come to Life (Level 4: Proficient Readers)\"\n",
    "books.loc[books.ISBN == '0789466953', 'BookAuthor'] = \"James Buckley\"\n",
    "books.loc[books.ISBN == '0789466953', 'YearOfPublication'] = 2000\n",
    "books.loc[books.ISBN == '0789466953', 'Publisher'] = 'DK Publishing Inc'\n",
    "\n",
    "books.loc[books.ISBN == '078946697X', 'BookTitle'] = \"DK Readers: Creating the X-Men, How It All Began (Level 4: Proficient Readers)\"\n",
    "books.loc[books.ISBN == '078946697X', 'BookAuthor'] = \"James Buckley\"\n",
    "books.loc[books.ISBN == '078946697X', 'YearOfPublication'] = 2000\n",
    "books.loc[books.ISBN == '078946697X', 'Publisher'] = 'DK Publishing Inc'"
   ]
  },
  {
   "cell_type": "code",
   "execution_count": 20,
   "metadata": {},
   "outputs": [
    {
     "name": "stdout",
     "output_type": "stream",
     "text": [
      "[0, 1376, 1378, 1806, 1897, 1900, 1901, 1902, 1904, 1906, 1908, 1909, 1910, 1911, 1914, 1917, 1919, 1920, 1921, 1922, 1923, 1924, 1925, 1926, 1927, 1928, 1929, 1930, 1931, 1932, 1933, 1934, 1935, 1936, 1937, 1938, 1939, 1940, 1941, 1942, 1943, 1944, 1945, 1946, 1947, 1948, 1949, 1950, 1951, 1952, 1953, 1954, 1955, 1956, 1957, 1958, 1959, 1960, 1961, 1962, 1963, 1964, 1965, 1966, 1967, 1968, 1969, 1970, 1971, 1972, 1973, 1974, 1975, 1976, 1977, 1978, 1979, 1980, 1981, 1982, 1983, 1984, 1985, 1986, 1987, 1988, 1989, 1990, 1991, 1992, 1993, 1994, 1995, 1996, 1997, 1998, 1999, 2000, 2001, 2002, 2003, 2004, 2005, 2006, 2008, 2010, 2011, 2012, 2020, 2021, 2024, 2026, 2030, 2037, 2038, 2050]\n"
     ]
    }
   ],
   "source": [
    "books['YearOfPublication'] = books['YearOfPublication'].astype(int)\n",
    "print(sorted(books.YearOfPublication.unique()))"
   ]
  },
  {
   "cell_type": "code",
   "execution_count": 21,
   "metadata": {},
   "outputs": [
    {
     "name": "stdout",
     "output_type": "stream",
     "text": [
      "Number of boos with year of publication greater than 2020: 14/271360\n",
      "Number of boos with year of publication 0: 4618/271360\n"
     ]
    }
   ],
   "source": [
    "#test\n",
    "print(\"Number of boos with year of publication greater than 2020: \" + str(books[books.YearOfPublication > 2020].shape[0]) + \"/\" + str(len(books)))\n",
    "print(\"Number of boos with year of publication 0: \" + str(books[books.YearOfPublication == 0].shape[0]) + \"/\" + str(len(books)))"
   ]
  },
  {
   "cell_type": "markdown",
   "metadata": {},
   "source": [
    "####  From the above, we can see that there are many UNREAL values of \"YearOfPublication\" columns like 0 or years greaters than the current 2020th year. We will try to replace all these unreal values of \"YearOfPublication\" with real values. To do so, we will use either \"mean\" if the distribution of years is normal or \"median\" if the distribution of years is skewed."
   ]
  },
  {
   "cell_type": "code",
   "execution_count": 22,
   "metadata": {},
   "outputs": [
    {
     "data": {
      "text/plain": [
       "array([[<matplotlib.axes._subplots.AxesSubplot object at 0x1a241ff610>]],\n",
       "      dtype=object)"
      ]
     },
     "execution_count": 22,
     "metadata": {},
     "output_type": "execute_result"
    },
    {
     "data": {
      "image/png": "[encoded data removed]",
      "text/plain": [
       "<Figure size 432x288 with 1 Axes>"
      ]
     },
     "metadata": {
      "needs_background": "light"
     },
     "output_type": "display_data"
    }
   ],
   "source": [
    "books.hist(column='YearOfPublication', bins=100, alpha=0.75, range=[1300,2050])"
   ]
  },
  {
   "cell_type": "markdown",
   "metadata": {},
   "source": [
    "*And the distribution seems like negative skewed thus we are going to use \"median\" to fill unreal values.*"
   ]
  },
  {
   "cell_type": "code",
   "execution_count": 23,
   "metadata": {},
   "outputs": [
    {
     "name": "stdout",
     "output_type": "stream",
     "text": [
      "[1376, 1378, 1806, 1897, 1900, 1901, 1902, 1904, 1906, 1908, 1909, 1910, 1911, 1914, 1917, 1919, 1920, 1921, 1922, 1923, 1924, 1925, 1926, 1927, 1928, 1929, 1930, 1931, 1932, 1933, 1934, 1935, 1936, 1937, 1938, 1939, 1940, 1941, 1942, 1943, 1944, 1945, 1946, 1947, 1948, 1949, 1950, 1951, 1952, 1953, 1954, 1955, 1956, 1957, 1958, 1959, 1960, 1961, 1962, 1963, 1964, 1965, 1966, 1967, 1968, 1969, 1970, 1971, 1972, 1973, 1974, 1975, 1976, 1977, 1978, 1979, 1980, 1981, 1982, 1983, 1984, 1985, 1986, 1987, 1988, 1989, 1990, 1991, 1992, 1993, 1994, 1995, 1996, 1997, 1998, 1999, 2000, 2001, 2002, 2003, 2004, 2005, 2006, 2008, 2010, 2011, 2012, 2020]\n"
     ]
    }
   ],
   "source": [
    "books.loc[(books.YearOfPublication > 2020), 'YearOfPublication'] = np.nan\n",
    "books.loc[(books.YearOfPublication == 0), 'YearOfPublication'] = np.nan\n",
    "books.YearOfPublication.fillna(round(books.YearOfPublication.median()), inplace=True)\n",
    "books['YearOfPublication'] = books['YearOfPublication'].astype(int)\n",
    "print(sorted(books.YearOfPublication.unique()))"
   ]
  },
  {
   "cell_type": "markdown",
   "metadata": {},
   "source": [
    "#### Checking if \"YearOfPublication\" column is free of NaNs. Just to be sure everything went fine."
   ]
  },
  {
   "cell_type": "code",
   "execution_count": 24,
   "metadata": {},
   "outputs": [
    {
     "data": {
      "text/plain": [
       "ISBN                 0\n",
       "BookTitle            0\n",
       "BookAuthor           1\n",
       "YearOfPublication    0\n",
       "Publisher            2\n",
       "dtype: int64"
      ]
     },
     "execution_count": 24,
     "metadata": {},
     "output_type": "execute_result"
    }
   ],
   "source": [
    "books.isna().sum()"
   ]
  },
  {
   "cell_type": "markdown",
   "metadata": {},
   "source": [
    "#### Let's see how is the distribution now, that we have substitute unreal values with the median."
   ]
  },
  {
   "cell_type": "code",
   "execution_count": 25,
   "metadata": {},
   "outputs": [
    {
     "data": {
      "text/plain": [
       "array([[<matplotlib.axes._subplots.AxesSubplot object at 0x1a241ec690>]],\n",
       "      dtype=object)"
      ]
     },
     "execution_count": 25,
     "metadata": {},
     "output_type": "execute_result"
    },
    {
     "data": {
      "image/png": "[encoded data removed]",
      "text/plain": [
       "<Figure size 432x288 with 1 Axes>"
      ]
     },
     "metadata": {
      "needs_background": "light"
     },
     "output_type": "display_data"
    }
   ],
   "source": [
    "books.hist(column='YearOfPublication', bins=100)"
   ]
  },
  {
   "cell_type": "markdown",
   "metadata": {},
   "source": [
    "*The number of years greater than 2020 and years 0 were 4632/271360, which is actually a really small part of the whole set of books, so this is why we do not have a serious change on the distribution after the substitution of unreal years with the median.*"
   ]
  },
  {
   "cell_type": "code",
   "execution_count": 26,
   "metadata": {},
   "outputs": [
    {
     "name": "stdout",
     "output_type": "stream",
     "text": [
      "The number of 0s in YearOfPublication column after using median is: 0\n",
      "The number of NaNs in YearOfPublication is: 0\n"
     ]
    }
   ],
   "source": [
    "print(\"The number of 0s in YearOfPublication column after using median is: \" + str((books.YearOfPublication == 0).sum()))\n",
    "print(\"The number of NaNs in YearOfPublication is: \" + str(books.YearOfPublication.isna().sum()))"
   ]
  },
  {
   "cell_type": "markdown",
   "metadata": {},
   "source": [
    "##### Now...checking if this dataframe has any NaN values."
   ]
  },
  {
   "cell_type": "code",
   "execution_count": 27,
   "metadata": {},
   "outputs": [
    {
     "data": {
      "text/plain": [
       "ISBN                 0\n",
       "BookTitle            0\n",
       "BookAuthor           1\n",
       "YearOfPublication    0\n",
       "Publisher            2\n",
       "dtype: int64"
      ]
     },
     "execution_count": 27,
     "metadata": {},
     "output_type": "execute_result"
    }
   ],
   "source": [
    "books.isna().sum()"
   ]
  },
  {
   "cell_type": "markdown",
   "metadata": {},
   "source": [
    "*Since there are some, we are going to check them. We do not know yet if we are going to use this information so we are not going to change them for now.*"
   ]
  },
  {
   "cell_type": "code",
   "execution_count": 28,
   "metadata": {
    "scrolled": true
   },
   "outputs": [
    {
     "data": {
      "text/html": [
       "<div>\n",
       "<style scoped>\n",
       "    .dataframe tbody tr th:only-of-type {\n",
       "        vertical-align: middle;\n",
       "    }\n",
       "\n",
       "    .dataframe tbody tr th {\n",
       "        vertical-align: top;\n",
       "    }\n",
       "\n",
       "    .dataframe thead th {\n",
       "        text-align: right;\n",
       "    }\n",
       "</style>\n",
       "<table border=\"1\" class=\"dataframe\">\n",
       "  <thead>\n",
       "    <tr style=\"text-align: right;\">\n",
       "      <th></th>\n",
       "      <th>ISBN</th>\n",
       "      <th>BookTitle</th>\n",
       "      <th>BookAuthor</th>\n",
       "      <th>YearOfPublication</th>\n",
       "      <th>Publisher</th>\n",
       "    </tr>\n",
       "  </thead>\n",
       "  <tbody>\n",
       "    <tr>\n",
       "      <td>128890</td>\n",
       "      <td>193169656X</td>\n",
       "      <td>Tyrant Moon</td>\n",
       "      <td>Elaine Corvidae</td>\n",
       "      <td>2002</td>\n",
       "      <td>NaN</td>\n",
       "    </tr>\n",
       "    <tr>\n",
       "      <td>129037</td>\n",
       "      <td>1931696993</td>\n",
       "      <td>Finders Keepers</td>\n",
       "      <td>Linnea Sinclair</td>\n",
       "      <td>2001</td>\n",
       "      <td>NaN</td>\n",
       "    </tr>\n",
       "    <tr>\n",
       "      <td>187689</td>\n",
       "      <td>9627982032</td>\n",
       "      <td>The Credit Suisse Guide to Managing Your Personal Wealth</td>\n",
       "      <td>NaN</td>\n",
       "      <td>1995</td>\n",
       "      <td>Edinburgh Financial Publishing</td>\n",
       "    </tr>\n",
       "  </tbody>\n",
       "</table>\n",
       "</div>"
      ],
      "text/plain": [
       "              ISBN                                                 BookTitle  \\\n",
       "128890  193169656X  Tyrant Moon                                                \n",
       "129037  1931696993  Finders Keepers                                            \n",
       "187689  9627982032  The Credit Suisse Guide to Managing Your Personal Wealth   \n",
       "\n",
       "             BookAuthor  YearOfPublication                       Publisher  \n",
       "128890  Elaine Corvidae  2002               NaN                             \n",
       "129037  Linnea Sinclair  2001               NaN                             \n",
       "187689  NaN              1995               Edinburgh Financial Publishing  "
      ]
     },
     "execution_count": 28,
     "metadata": {},
     "output_type": "execute_result"
    }
   ],
   "source": [
    "books[books.isna().any(axis=1)]"
   ]
  },
  {
   "cell_type": "markdown",
   "metadata": {},
   "source": [
    "#### We can also check if there are are duplicated books in the dataframe: "
   ]
  },
  {
   "cell_type": "code",
   "execution_count": 29,
   "metadata": {},
   "outputs": [
    {
     "name": "stdout",
     "output_type": "stream",
     "text": [
      "Number of unique books: 271360/271360\n"
     ]
    }
   ],
   "source": [
    "print(\"Number of unique books: \" + str(books.ISBN.nunique()) + \"/\" + str(books.ISBN.count()))"
   ]
  },
  {
   "cell_type": "markdown",
   "metadata": {},
   "source": [
    "*So all books are unique inside books' dataframe*"
   ]
  },
  {
   "cell_type": "markdown",
   "metadata": {},
   "source": [
    "#### Now we can discover the authors with the most books."
   ]
  },
  {
   "cell_type": "code",
   "execution_count": 30,
   "metadata": {},
   "outputs": [
    {
     "name": "stdout",
     "output_type": "stream",
     "text": [
      "Top 10 authors with the most books written are: \n",
      "Agatha Christie        632\n",
      "William Shakespeare    567\n",
      "Stephen King           524\n",
      "Ann M. Martin          423\n",
      "Carolyn Keene          373\n",
      "Francine Pascal        372\n",
      "Isaac Asimov           330\n",
      "Nora Roberts           315\n",
      "Barbara Cartland       307\n",
      "Charles Dickens        302\n",
      "Name: BookAuthor, dtype: int64\n"
     ]
    }
   ],
   "source": [
    "top10_authors = books.BookAuthor.value_counts()[:10]\n",
    "print(\"Top 10 authors with the most books written are: \\n\" + str(top10_authors))"
   ]
  },
  {
   "cell_type": "code",
   "execution_count": 31,
   "metadata": {},
   "outputs": [
    {
     "name": "stdout",
     "output_type": "stream",
     "text": [
      "There are 102018 unique authors out of 271360 different books.\n"
     ]
    }
   ],
   "source": [
    "print(\"There are \" + str(books['BookAuthor'].nunique()) + ' unique authors out of ' + str(len(books)) + ' different books.')"
   ]
  },
  {
   "cell_type": "markdown",
   "metadata": {},
   "source": [
    "#### As about the book publisher we could also find the top 10"
   ]
  },
  {
   "cell_type": "code",
   "execution_count": 32,
   "metadata": {},
   "outputs": [
    {
     "name": "stdout",
     "output_type": "stream",
     "text": [
      "Top 10 publisher with the most books published are: \n",
      "Harlequin                   7535\n",
      "Silhouette                  4220\n",
      "Pocket                      3905\n",
      "Ballantine Books            3783\n",
      "Bantam Books                3646\n",
      "Scholastic                  3160\n",
      "Simon &amp; Schuster        2971\n",
      "Penguin Books               2844\n",
      "Berkley Publishing Group    2771\n",
      "Warner Books                2727\n",
      "Name: Publisher, dtype: int64\n"
     ]
    }
   ],
   "source": [
    "top10_publishers = books.Publisher.value_counts()[:10]\n",
    "print(\"Top 10 publisher with the most books published are: \\n\" + str(top10_publishers))"
   ]
  },
  {
   "cell_type": "markdown",
   "metadata": {},
   "source": [
    "#### We clean  \"&amp\" which is not proper.  e.x. \"Simon &amp; Schuster \""
   ]
  },
  {
   "cell_type": "code",
   "execution_count": 33,
   "metadata": {},
   "outputs": [],
   "source": [
    "books.Publisher = books.Publisher.str.replace('&amp;', '&', regex=False)"
   ]
  },
  {
   "cell_type": "markdown",
   "metadata": {},
   "source": [
    "#### It would be interesting to check about repeated titles"
   ]
  },
  {
   "cell_type": "code",
   "execution_count": 34,
   "metadata": {},
   "outputs": [
    {
     "name": "stdout",
     "output_type": "stream",
     "text": [
      "Top 10 publisher with the most books published are: \n",
      "Selected Poems                    27\n",
      "Little Women                      24\n",
      "Wuthering Heights                 21\n",
      "The Secret Garden                 20\n",
      "Adventures of Huckleberry Finn    20\n",
      "Dracula                           20\n",
      "Jane Eyre                         19\n",
      "The Night Before Christmas        18\n",
      "Pride and Prejudice               18\n",
      "Great Expectations                17\n",
      "Name: BookTitle, dtype: int64\n"
     ]
    }
   ],
   "source": [
    "top10_bookTitles = books.BookTitle.value_counts()[:10]\n",
    "print(\"Top 10 publisher with the most books published are: \\n\" + str(top10_bookTitles))"
   ]
  },
  {
   "cell_type": "markdown",
   "metadata": {},
   "source": [
    "*Oops...there are plenty of repeated titles. Let's check why...*"
   ]
  },
  {
   "cell_type": "code",
   "execution_count": 35,
   "metadata": {},
   "outputs": [
    {
     "data": {
      "text/html": [
       "<div>\n",
       "<style scoped>\n",
       "    .dataframe tbody tr th:only-of-type {\n",
       "        vertical-align: middle;\n",
       "    }\n",
       "\n",
       "    .dataframe tbody tr th {\n",
       "        vertical-align: top;\n",
       "    }\n",
       "\n",
       "    .dataframe thead th {\n",
       "        text-align: right;\n",
       "    }\n",
       "</style>\n",
       "<table border=\"1\" class=\"dataframe\">\n",
       "  <thead>\n",
       "    <tr style=\"text-align: right;\">\n",
       "      <th></th>\n",
       "      <th>ISBN</th>\n",
       "      <th>BookTitle</th>\n",
       "      <th>BookAuthor</th>\n",
       "      <th>YearOfPublication</th>\n",
       "      <th>Publisher</th>\n",
       "    </tr>\n",
       "  </thead>\n",
       "  <tbody>\n",
       "    <tr>\n",
       "      <td>3759</td>\n",
       "      <td>0812505018</td>\n",
       "      <td>The Secret Garden</td>\n",
       "      <td>Frances Hodgson Burnett</td>\n",
       "      <td>1989</td>\n",
       "      <td>Tor Books</td>\n",
       "    </tr>\n",
       "    <tr>\n",
       "      <td>19955</td>\n",
       "      <td>0590433466</td>\n",
       "      <td>The Secret Garden</td>\n",
       "      <td>Frances H. Burnett</td>\n",
       "      <td>1997</td>\n",
       "      <td>Scholastic</td>\n",
       "    </tr>\n",
       "    <tr>\n",
       "      <td>29729</td>\n",
       "      <td>006440188X</td>\n",
       "      <td>The Secret Garden</td>\n",
       "      <td>Frances Hodgson Burnett</td>\n",
       "      <td>1998</td>\n",
       "      <td>HarperTrophy</td>\n",
       "    </tr>\n",
       "    <tr>\n",
       "      <td>40444</td>\n",
       "      <td>0590471724</td>\n",
       "      <td>The Secret Garden</td>\n",
       "      <td>M.J. Carr</td>\n",
       "      <td>1993</td>\n",
       "      <td>Scholastic Paperbacks (Mm)</td>\n",
       "    </tr>\n",
       "    <tr>\n",
       "      <td>58789</td>\n",
       "      <td>0440977096</td>\n",
       "      <td>The Secret Garden</td>\n",
       "      <td>Frances Hodgson Burnett</td>\n",
       "      <td>1989</td>\n",
       "      <td>Laure Leaf</td>\n",
       "    </tr>\n",
       "    <tr>\n",
       "      <td>63044</td>\n",
       "      <td>0879236493</td>\n",
       "      <td>The Secret Garden</td>\n",
       "      <td>Frances Hodgson Burnett</td>\n",
       "      <td>1987</td>\n",
       "      <td>David R. Godine Publisher</td>\n",
       "    </tr>\n",
       "    <tr>\n",
       "      <td>66430</td>\n",
       "      <td>055321201X</td>\n",
       "      <td>The Secret Garden</td>\n",
       "      <td>Frances H. Burnett</td>\n",
       "      <td>1987</td>\n",
       "      <td>Bantam</td>\n",
       "    </tr>\n",
       "    <tr>\n",
       "      <td>66734</td>\n",
       "      <td>0439099390</td>\n",
       "      <td>The Secret Garden</td>\n",
       "      <td>Frances Hodgson Burnett</td>\n",
       "      <td>1999</td>\n",
       "      <td>Scholastic</td>\n",
       "    </tr>\n",
       "    <tr>\n",
       "      <td>74812</td>\n",
       "      <td>0440777062</td>\n",
       "      <td>The Secret Garden</td>\n",
       "      <td>Frances Hodgson Burnett</td>\n",
       "      <td>1979</td>\n",
       "      <td>Dell Publishing</td>\n",
       "    </tr>\n",
       "    <tr>\n",
       "      <td>75968</td>\n",
       "      <td>0812519108</td>\n",
       "      <td>The Secret Garden</td>\n",
       "      <td>Frances Hodgson Burnett</td>\n",
       "      <td>1991</td>\n",
       "      <td>Tor Books (Mm)</td>\n",
       "    </tr>\n",
       "    <tr>\n",
       "      <td>85991</td>\n",
       "      <td>0451525817</td>\n",
       "      <td>The Secret Garden</td>\n",
       "      <td>Frances Hodgson Burnett</td>\n",
       "      <td>1994</td>\n",
       "      <td>Signet Classics</td>\n",
       "    </tr>\n",
       "    <tr>\n",
       "      <td>86572</td>\n",
       "      <td>0451524179</td>\n",
       "      <td>The Secret Garden</td>\n",
       "      <td>Frances Hodgson Burnett</td>\n",
       "      <td>1994</td>\n",
       "      <td>Signet Classics</td>\n",
       "    </tr>\n",
       "    <tr>\n",
       "      <td>128165</td>\n",
       "      <td>0397321651</td>\n",
       "      <td>The Secret Garden</td>\n",
       "      <td>Frances Hodgson Burnett</td>\n",
       "      <td>1998</td>\n",
       "      <td>HarperCollins</td>\n",
       "    </tr>\n",
       "    <tr>\n",
       "      <td>132565</td>\n",
       "      <td>0451520807</td>\n",
       "      <td>The Secret Garden</td>\n",
       "      <td>Frances Hodgson Burnett</td>\n",
       "      <td>1987</td>\n",
       "      <td>Signet Book</td>\n",
       "    </tr>\n",
       "    <tr>\n",
       "      <td>134508</td>\n",
       "      <td>0440477093</td>\n",
       "      <td>The Secret Garden</td>\n",
       "      <td>Frances H. Burnett</td>\n",
       "      <td>1990</td>\n",
       "      <td>Yearling Books</td>\n",
       "    </tr>\n",
       "    <tr>\n",
       "      <td>162395</td>\n",
       "      <td>1569874115</td>\n",
       "      <td>The Secret Garden</td>\n",
       "      <td>Frances Hodgson Burnett</td>\n",
       "      <td>1996</td>\n",
       "      <td>Landoll</td>\n",
       "    </tr>\n",
       "    <tr>\n",
       "      <td>179660</td>\n",
       "      <td>0453008402</td>\n",
       "      <td>The Secret Garden</td>\n",
       "      <td>Frances Hodgson Burnett</td>\n",
       "      <td>1993</td>\n",
       "      <td>Highbridge Audio</td>\n",
       "    </tr>\n",
       "    <tr>\n",
       "      <td>183816</td>\n",
       "      <td>1569873925</td>\n",
       "      <td>The Secret Garden</td>\n",
       "      <td>Frances Hodgson Burnett</td>\n",
       "      <td>1996</td>\n",
       "      <td>Landoll</td>\n",
       "    </tr>\n",
       "    <tr>\n",
       "      <td>196343</td>\n",
       "      <td>0590407201</td>\n",
       "      <td>The Secret Garden</td>\n",
       "      <td>Frances Hodgson Burnett</td>\n",
       "      <td>1987</td>\n",
       "      <td>Scholastic</td>\n",
       "    </tr>\n",
       "    <tr>\n",
       "      <td>262640</td>\n",
       "      <td>0340611839</td>\n",
       "      <td>The Secret Garden</td>\n",
       "      <td>Frances Hodgson Burnett</td>\n",
       "      <td>1994</td>\n",
       "      <td>Hodder Children's Books</td>\n",
       "    </tr>\n",
       "  </tbody>\n",
       "</table>\n",
       "</div>"
      ],
      "text/plain": [
       "              ISBN          BookTitle               BookAuthor  \\\n",
       "3759    0812505018  The Secret Garden  Frances Hodgson Burnett   \n",
       "19955   0590433466  The Secret Garden  Frances H. Burnett        \n",
       "29729   006440188X  The Secret Garden  Frances Hodgson Burnett   \n",
       "40444   0590471724  The Secret Garden  M.J. Carr                 \n",
       "58789   0440977096  The Secret Garden  Frances Hodgson Burnett   \n",
       "63044   0879236493  The Secret Garden  Frances Hodgson Burnett   \n",
       "66430   055321201X  The Secret Garden  Frances H. Burnett        \n",
       "66734   0439099390  The Secret Garden  Frances Hodgson Burnett   \n",
       "74812   0440777062  The Secret Garden  Frances Hodgson Burnett   \n",
       "75968   0812519108  The Secret Garden  Frances Hodgson Burnett   \n",
       "85991   0451525817  The Secret Garden  Frances Hodgson Burnett   \n",
       "86572   0451524179  The Secret Garden  Frances Hodgson Burnett   \n",
       "128165  0397321651  The Secret Garden  Frances Hodgson Burnett   \n",
       "132565  0451520807  The Secret Garden  Frances Hodgson Burnett   \n",
       "134508  0440477093  The Secret Garden  Frances H. Burnett        \n",
       "162395  1569874115  The Secret Garden  Frances Hodgson Burnett   \n",
       "179660  0453008402  The Secret Garden  Frances Hodgson Burnett   \n",
       "183816  1569873925  The Secret Garden  Frances Hodgson Burnett   \n",
       "196343  0590407201  The Secret Garden  Frances Hodgson Burnett   \n",
       "262640  0340611839  The Secret Garden  Frances Hodgson Burnett   \n",
       "\n",
       "        YearOfPublication                   Publisher  \n",
       "3759    1989               Tor Books                   \n",
       "19955   1997               Scholastic                  \n",
       "29729   1998               HarperTrophy                \n",
       "40444   1993               Scholastic Paperbacks (Mm)  \n",
       "58789   1989               Laure Leaf                  \n",
       "63044   1987               David R. Godine Publisher   \n",
       "66430   1987               Bantam                      \n",
       "66734   1999               Scholastic                  \n",
       "74812   1979               Dell Publishing             \n",
       "75968   1991               Tor Books (Mm)              \n",
       "85991   1994               Signet Classics             \n",
       "86572   1994               Signet Classics             \n",
       "128165  1998               HarperCollins               \n",
       "132565  1987               Signet Book                 \n",
       "134508  1990               Yearling Books              \n",
       "162395  1996               Landoll                     \n",
       "179660  1993               Highbridge Audio            \n",
       "183816  1996               Landoll                     \n",
       "196343  1987               Scholastic                  \n",
       "262640  1994               Hodder Children's Books     "
      ]
     },
     "execution_count": 35,
     "metadata": {},
     "output_type": "execute_result"
    }
   ],
   "source": [
    "books.loc[books.BookTitle == 'The Secret Garden', :]\n"
   ]
  },
  {
   "cell_type": "markdown",
   "metadata": {},
   "source": [
    "*As it seems, the same book from the same author may have plenty of unique ISBNs. This happens because the same book could either be published by different publishers or in different years. For example this is something that we should later consider because our goal is to recommend books. Perhaps it would be a good idea if we could give the same ISBN to the same books. But we will figure out this later when developing the recommendation system.*"
   ]
  },
  {
   "cell_type": "markdown",
   "metadata": {},
   "source": [
    "### Users' DataFrame"
   ]
  },
  {
   "cell_type": "code",
   "execution_count": 137,
   "metadata": {},
   "outputs": [
    {
     "data": {
      "text/plain": [
       "User_ID    int64  \n",
       "Age        float64\n",
       "City       object \n",
       "Region     object \n",
       "Country    object \n",
       "dtype: object"
      ]
     },
     "execution_count": 137,
     "metadata": {},
     "output_type": "execute_result"
    }
   ],
   "source": [
    "users.dtypes"
   ]
  },
  {
   "cell_type": "markdown",
   "metadata": {},
   "source": [
    "#### Taking a look of the first five rows of the users datafram."
   ]
  },
  {
   "cell_type": "code",
   "execution_count": 138,
   "metadata": {},
   "outputs": [
    {
     "data": {
      "text/html": [
       "<div>\n",
       "<style scoped>\n",
       "    .dataframe tbody tr th:only-of-type {\n",
       "        vertical-align: middle;\n",
       "    }\n",
       "\n",
       "    .dataframe tbody tr th {\n",
       "        vertical-align: top;\n",
       "    }\n",
       "\n",
       "    .dataframe thead th {\n",
       "        text-align: right;\n",
       "    }\n",
       "</style>\n",
       "<table border=\"1\" class=\"dataframe\">\n",
       "  <thead>\n",
       "    <tr style=\"text-align: right;\">\n",
       "      <th></th>\n",
       "      <th>User_ID</th>\n",
       "      <th>Age</th>\n",
       "      <th>City</th>\n",
       "      <th>Region</th>\n",
       "      <th>Country</th>\n",
       "    </tr>\n",
       "  </thead>\n",
       "  <tbody>\n",
       "    <tr>\n",
       "      <td>0</td>\n",
       "      <td>1</td>\n",
       "      <td>NaN</td>\n",
       "      <td>nyc</td>\n",
       "      <td>new york</td>\n",
       "      <td>usa</td>\n",
       "    </tr>\n",
       "    <tr>\n",
       "      <td>1</td>\n",
       "      <td>2</td>\n",
       "      <td>18.0</td>\n",
       "      <td>stockton</td>\n",
       "      <td>california</td>\n",
       "      <td>usa</td>\n",
       "    </tr>\n",
       "    <tr>\n",
       "      <td>2</td>\n",
       "      <td>3</td>\n",
       "      <td>NaN</td>\n",
       "      <td>moscow</td>\n",
       "      <td>yukon territory</td>\n",
       "      <td>russia</td>\n",
       "    </tr>\n",
       "    <tr>\n",
       "      <td>3</td>\n",
       "      <td>4</td>\n",
       "      <td>17.0</td>\n",
       "      <td>porto</td>\n",
       "      <td>v.n.gaia</td>\n",
       "      <td>portugal</td>\n",
       "    </tr>\n",
       "    <tr>\n",
       "      <td>4</td>\n",
       "      <td>5</td>\n",
       "      <td>NaN</td>\n",
       "      <td>farnborough</td>\n",
       "      <td>hants</td>\n",
       "      <td>united kingdom</td>\n",
       "    </tr>\n",
       "  </tbody>\n",
       "</table>\n",
       "</div>"
      ],
      "text/plain": [
       "   User_ID   Age         City            Region          Country\n",
       "0  1       NaN    nyc           new york          usa           \n",
       "1  2        18.0  stockton      california        usa           \n",
       "2  3       NaN    moscow        yukon territory   russia        \n",
       "3  4        17.0  porto         v.n.gaia          portugal      \n",
       "4  5       NaN    farnborough   hants             united kingdom"
      ]
     },
     "execution_count": 138,
     "metadata": {},
     "output_type": "execute_result"
    }
   ],
   "source": [
    "users.head()"
   ]
  },
  {
   "cell_type": "markdown",
   "metadata": {},
   "source": [
    "#### Here we observe that in the column \"Location\" three different infos are given so it would be better to split them in three columns in order to handle them better later."
   ]
  },
  {
   "cell_type": "code",
   "execution_count": 38,
   "metadata": {},
   "outputs": [
    {
     "data": {
      "text/html": [
       "<div>\n",
       "<style scoped>\n",
       "    .dataframe tbody tr th:only-of-type {\n",
       "        vertical-align: middle;\n",
       "    }\n",
       "\n",
       "    .dataframe tbody tr th {\n",
       "        vertical-align: top;\n",
       "    }\n",
       "\n",
       "    .dataframe thead th {\n",
       "        text-align: right;\n",
       "    }\n",
       "</style>\n",
       "<table border=\"1\" class=\"dataframe\">\n",
       "  <thead>\n",
       "    <tr style=\"text-align: right;\">\n",
       "      <th></th>\n",
       "      <th>User-ID</th>\n",
       "      <th>Age</th>\n",
       "      <th>City</th>\n",
       "      <th>Region</th>\n",
       "      <th>Country</th>\n",
       "    </tr>\n",
       "  </thead>\n",
       "  <tbody>\n",
       "    <tr>\n",
       "      <td>0</td>\n",
       "      <td>1</td>\n",
       "      <td>NaN</td>\n",
       "      <td>nyc</td>\n",
       "      <td>new york</td>\n",
       "      <td>usa</td>\n",
       "    </tr>\n",
       "    <tr>\n",
       "      <td>1</td>\n",
       "      <td>2</td>\n",
       "      <td>18.0</td>\n",
       "      <td>stockton</td>\n",
       "      <td>california</td>\n",
       "      <td>usa</td>\n",
       "    </tr>\n",
       "    <tr>\n",
       "      <td>2</td>\n",
       "      <td>3</td>\n",
       "      <td>NaN</td>\n",
       "      <td>moscow</td>\n",
       "      <td>yukon territory</td>\n",
       "      <td>russia</td>\n",
       "    </tr>\n",
       "    <tr>\n",
       "      <td>3</td>\n",
       "      <td>4</td>\n",
       "      <td>17.0</td>\n",
       "      <td>porto</td>\n",
       "      <td>v.n.gaia</td>\n",
       "      <td>portugal</td>\n",
       "    </tr>\n",
       "    <tr>\n",
       "      <td>4</td>\n",
       "      <td>5</td>\n",
       "      <td>NaN</td>\n",
       "      <td>farnborough</td>\n",
       "      <td>hants</td>\n",
       "      <td>united kingdom</td>\n",
       "    </tr>\n",
       "  </tbody>\n",
       "</table>\n",
       "</div>"
      ],
      "text/plain": [
       "   User-ID   Age         City            Region          Country\n",
       "0  1       NaN    nyc           new york          usa           \n",
       "1  2        18.0  stockton      california        usa           \n",
       "2  3       NaN    moscow        yukon territory   russia        \n",
       "3  4        17.0  porto         v.n.gaia          portugal      \n",
       "4  5       NaN    farnborough   hants             united kingdom"
      ]
     },
     "execution_count": 38,
     "metadata": {},
     "output_type": "execute_result"
    }
   ],
   "source": [
    "users['City'], users['Region'], users['Country'] = users['Location'].str.split(',',2).str\n",
    "users = users.drop(['Location'],axis=1)\n",
    "users.head()"
   ]
  },
  {
   "cell_type": "markdown",
   "metadata": {},
   "source": [
    "#### Checking how many different users we have."
   ]
  },
  {
   "cell_type": "code",
   "execution_count": 39,
   "metadata": {},
   "outputs": [
    {
     "name": "stdout",
     "output_type": "stream",
     "text": [
      "Number of different users is: 278858/278858\n"
     ]
    }
   ],
   "source": [
    "users.rename(columns = {'User-ID':'User_ID'}, inplace=True)\n",
    "users['User_ID'] = users['User_ID'].astype(int)\n",
    "print(\"Number of different users is: \" + str(users.User_ID.nunique()) + \"/\" + str(users.User_ID.count()))"
   ]
  },
  {
   "cell_type": "markdown",
   "metadata": {},
   "source": [
    "*So all users are different*"
   ]
  },
  {
   "cell_type": "markdown",
   "metadata": {},
   "source": [
    "#### We can also see expression \"n/a\" to be used instead of NaN so we are going to change this also."
   ]
  },
  {
   "cell_type": "code",
   "execution_count": 40,
   "metadata": {},
   "outputs": [],
   "source": [
    "new_users = users.replace(to_replace =\"n/a\", value = np.nan,  regex=True)\n",
    "new_users = users.replace(to_replace =\"\", value = np.nan,  regex=True)"
   ]
  },
  {
   "cell_type": "code",
   "execution_count": 41,
   "metadata": {},
   "outputs": [],
   "source": [
    "#pd.set_option('display.max_rows', None)\n",
    "#print(new_users.tail(150))"
   ]
  },
  {
   "cell_type": "markdown",
   "metadata": {},
   "source": [
    "#### We also observe that we have words \"england\" and \"united kingdom\" which represent the same so we keep only \"england\" by replacing \"United Kingdom\". We do the same for \"united states of america\" and \"usa\", \"l'italia\" and \"italy\"."
   ]
  },
  {
   "cell_type": "code",
   "execution_count": 42,
   "metadata": {},
   "outputs": [],
   "source": [
    "new_users = new_users.replace(to_replace =[\"england, united kingdom\",\"united kingdom\"], value = \"england\",  regex=True)\n",
    "new_users = new_users.replace(to_replace =\"united states of america\", value = \"usa\",  regex=True)\n",
    "new_users = new_users.replace(to_replace =\"l`italia\", value = \"italy\",  regex=True)"
   ]
  },
  {
   "cell_type": "markdown",
   "metadata": {},
   "source": [
    "#### Let's take a look at the ages now..."
   ]
  },
  {
   "cell_type": "code",
   "execution_count": 43,
   "metadata": {},
   "outputs": [
    {
     "name": "stdout",
     "output_type": "stream",
     "text": [
      "[nan, 0.0, 1.0, 2.0, 3.0, 4.0, 5.0, 6.0, 7.0, 8.0, 9.0, 10.0, 11.0, 12.0, 13.0, 14.0, 15.0, 16.0, 17.0, 18.0, 19.0, 20.0, 21.0, 22.0, 23.0, 24.0, 25.0, 26.0, 27.0, 28.0, 29.0, 30.0, 31.0, 32.0, 33.0, 34.0, 35.0, 36.0, 37.0, 38.0, 39.0, 40.0, 41.0, 42.0, 43.0, 44.0, 45.0, 46.0, 47.0, 48.0, 49.0, 50.0, 51.0, 52.0, 53.0, 54.0, 55.0, 56.0, 57.0, 58.0, 59.0, 60.0, 61.0, 62.0, 63.0, 64.0, 65.0, 66.0, 67.0, 68.0, 69.0, 70.0, 71.0, 72.0, 73.0, 74.0, 75.0, 76.0, 77.0, 78.0, 79.0, 80.0, 81.0, 82.0, 83.0, 84.0, 85.0, 86.0, 87.0, 88.0, 89.0, 90.0, 91.0, 92.0, 93.0, 94.0, 95.0, 96.0, 97.0, 98.0, 99.0, 100.0, 101.0, 102.0, 103.0, 104.0, 105.0, 106.0, 107.0, 108.0, 109.0, 110.0, 111.0, 113.0, 114.0, 115.0, 116.0, 118.0, 119.0, 123.0, 124.0, 127.0, 128.0, 132.0, 133.0, 136.0, 137.0, 138.0, 140.0, 141.0, 143.0, 146.0, 147.0, 148.0, 151.0, 152.0, 156.0, 157.0, 159.0, 162.0, 168.0, 172.0, 175.0, 183.0, 186.0, 189.0, 199.0, 200.0, 201.0, 204.0, 207.0, 208.0, 209.0, 210.0, 212.0, 219.0, 220.0, 223.0, 226.0, 228.0, 229.0, 230.0, 231.0, 237.0, 239.0, 244.0]\n"
     ]
    }
   ],
   "source": [
    "print(sorted(new_users.Age.unique()))"
   ]
  },
  {
   "cell_type": "markdown",
   "metadata": {},
   "source": [
    "#### As it seems there are some readers' ages which are unreal like 140 or 189 or 3.  First thought was to replace each age greater than 100 and smaller than 5 with the most probable value. We can calculate either the median or the mean of the ages in order to substitute unreal ages with this number. In order to find which of one of the two better fits this situation we are going to check the distribution of ages. If the distribution seems approximately normal \"means\" will be our choice! If the distribution is skewed we will go with the \"median\"."
   ]
  },
  {
   "cell_type": "code",
   "execution_count": 44,
   "metadata": {},
   "outputs": [
    {
     "name": "stdout",
     "output_type": "stream",
     "text": [
      "Total number of ages from different users: 278858\n",
      "Total number of unknown ages: 110762\n"
     ]
    }
   ],
   "source": [
    "print(\"Total number of ages from different users: \" + str(len(new_users)))\n",
    "print(\"Total number of unknown ages: \" + str(len(new_users) - new_users['Age'].count()))\n"
   ]
  },
  {
   "cell_type": "markdown",
   "metadata": {},
   "source": [
    "*As it seems, we have 278858 users and the age of almost the half of them is missing. So finally we dicide that age is not a good metric since we have not a big knowledge about this. Thus we will not try to substitute missing ages or unreal with a mean or median value.*"
   ]
  },
  {
   "cell_type": "markdown",
   "metadata": {},
   "source": [
    "#### But just to have an idea... we will check the distribution of existing ages from 0 to 100."
   ]
  },
  {
   "cell_type": "code",
   "execution_count": 45,
   "metadata": {},
   "outputs": [
    {
     "data": {
      "text/plain": [
       "array([[<matplotlib.axes._subplots.AxesSubplot object at 0x1a2f0c80d0>]],\n",
       "      dtype=object)"
      ]
     },
     "execution_count": 45,
     "metadata": {},
     "output_type": "execute_result"
    },
    {
     "data": {
      "image/png": "[encoded data removed]",
      "text/plain": [
       "<Figure size 432x288 with 1 Axes>"
      ]
     },
     "metadata": {
      "needs_background": "light"
     },
     "output_type": "display_data"
    }
   ],
   "source": [
    "new_users.hist(column='Age', bins=40, alpha=0.75, range=[0,100])\n"
   ]
  },
  {
   "cell_type": "code",
   "execution_count": 46,
   "metadata": {},
   "outputs": [
    {
     "name": "stderr",
     "output_type": "stream",
     "text": [
      "/Users/costakis/.local/lib/python3.7/site-packages/numpy/lib/histograms.py:839: RuntimeWarning: invalid value encountered in greater_equal\n",
      "  keep = (tmp_a >= first_edge)\n",
      "/Users/costakis/.local/lib/python3.7/site-packages/numpy/lib/histograms.py:840: RuntimeWarning: invalid value encountered in less_equal\n",
      "  keep &= (tmp_a <= last_edge)\n",
      "/opt/anaconda3/lib/python3.7/site-packages/statsmodels/nonparametric/kde.py:447: RuntimeWarning: invalid value encountered in greater\n",
      "  X = X[np.logical_and(X > clip[0], X < clip[1])] # won't work for two columns.\n",
      "/opt/anaconda3/lib/python3.7/site-packages/statsmodels/nonparametric/kde.py:447: RuntimeWarning: invalid value encountered in less\n",
      "  X = X[np.logical_and(X > clip[0], X < clip[1])] # won't work for two columns.\n"
     ]
    },
    {
     "data": {
      "image/png": "[encoded data removed]",
      "text/plain": [
       "<Figure size 432x288 with 1 Axes>"
      ]
     },
     "metadata": {
      "needs_background": "light"
     },
     "output_type": "display_data"
    }
   ],
   "source": [
    "# Include gaussian kernel density estimate #\n",
    "sns.distplot(new_users['Age'], color='b', bins=40, hist_kws={'alpha': 0.4});"
   ]
  },
  {
   "cell_type": "markdown",
   "metadata": {},
   "source": [
    "##### As we can see in the above histograms, the distribution of ages is skewed positively. Thus in case we wanted to replace missing values with a real value we would use the median value."
   ]
  },
  {
   "cell_type": "code",
   "execution_count": 47,
   "metadata": {},
   "outputs": [
    {
     "data": {
      "image/png": "[encoded data removed]",
      "text/plain": [
       "<Figure size 576x288 with 1 Axes>"
      ]
     },
     "metadata": {
      "needs_background": "light"
     },
     "output_type": "display_data"
    }
   ],
   "source": [
    "ax_age = new_users.boxplot('Age', vert=False, figsize=(8, 4), \n",
    "                            widths=0.3, showmeans=True, meanline=True)"
   ]
  },
  {
   "cell_type": "markdown",
   "metadata": {},
   "source": [
    "*We have the same observations by using a boxplot. The distribution is concentrated at the ages of 20-40 but there are many unreal-outlier ages greater than 40.*"
   ]
  },
  {
   "cell_type": "code",
   "execution_count": 48,
   "metadata": {},
   "outputs": [
    {
     "name": "stdout",
     "output_type": "stream",
     "text": [
      "[nan, 5.0, 6.0, 7.0, 8.0, 9.0, 10.0, 11.0, 12.0, 13.0, 14.0, 15.0, 16.0, 17.0, 18.0, 19.0, 20.0, 21.0, 22.0, 23.0, 24.0, 25.0, 26.0, 27.0, 28.0, 29.0, 30.0, 31.0, 32.0, 33.0, 34.0, 35.0, 36.0, 37.0, 38.0, 39.0, 40.0, 41.0, 42.0, 43.0, 44.0, 45.0, 46.0, 47.0, 48.0, 49.0, 50.0, 51.0, 52.0, 53.0, 54.0, 55.0, 56.0, 57.0, 58.0, 59.0, 60.0, 61.0, 62.0, 63.0, 64.0, 65.0, 66.0, 67.0, 68.0, 69.0, 70.0, 71.0, 72.0, 73.0, 74.0, 75.0, 76.0, 77.0, 78.0, 79.0, 80.0, 81.0, 82.0, 83.0, 84.0, 85.0, 86.0, 87.0, 88.0, 89.0, 90.0, 91.0, 92.0, 93.0, 94.0, 95.0, 96.0, 97.0, 98.0, 99.0, 100.0]\n"
     ]
    }
   ],
   "source": [
    "new_users.loc[(new_users.Age > 100) | (new_users.Age < 5), 'Age'] = np.nan\n",
    "print(sorted(new_users.Age.unique()))"
   ]
  },
  {
   "cell_type": "code",
   "execution_count": 49,
   "metadata": {},
   "outputs": [
    {
     "data": {
      "text/plain": [
       "array([[<matplotlib.axes._subplots.AxesSubplot object at 0x1a30e49650>]],\n",
       "      dtype=object)"
      ]
     },
     "execution_count": 49,
     "metadata": {},
     "output_type": "execute_result"
    },
    {
     "data": {
      "image/png": "[encoded data removed]",
      "text/plain": [
       "<Figure size 432x288 with 1 Axes>"
      ]
     },
     "metadata": {
      "needs_background": "light"
     },
     "output_type": "display_data"
    }
   ],
   "source": [
    "new_users.hist(column='Age', bins=10, alpha=0.75, range=[0,100])\n",
    "\n"
   ]
  },
  {
   "cell_type": "markdown",
   "metadata": {},
   "source": [
    "*As we can understand from above, the most users are between 20-40 years old*"
   ]
  },
  {
   "cell_type": "markdown",
   "metadata": {},
   "source": [
    "#### Lets check for NaN values in the whole dataframe of users..."
   ]
  },
  {
   "cell_type": "code",
   "execution_count": 50,
   "metadata": {},
   "outputs": [
    {
     "data": {
      "text/plain": [
       "User_ID    0     \n",
       "Age        112010\n",
       "City       150   \n",
       "Region     253   \n",
       "Country    4563  \n",
       "dtype: int64"
      ]
     },
     "execution_count": 50,
     "metadata": {},
     "output_type": "execute_result"
    }
   ],
   "source": [
    "new_users.isna().sum()"
   ]
  },
  {
   "cell_type": "code",
   "execution_count": 51,
   "metadata": {},
   "outputs": [
    {
     "data": {
      "image/png": "[encoded data removed]",
      "text/plain": [
       "<Figure size 576x288 with 1 Axes>"
      ]
     },
     "metadata": {
      "needs_background": "light"
     },
     "output_type": "display_data"
    }
   ],
   "source": [
    "users_countries = pd.DataFrame(new_users.groupby('Country').Country.count().sort_values(ascending=False))\n",
    "users_countries.rename(columns={\"Country\": \"Population\"})\n",
    "\n",
    "ax_age = users_countries.boxplot('Country', vert=False, figsize=(8, 4), \n",
    "                            widths=0.3, showmeans=True, meanline=True)\n"
   ]
  },
  {
   "cell_type": "markdown",
   "metadata": {},
   "source": [
    "*Taking a look at the distribution of Countries along with the ratings came from them, we have an outlier with the most users, and then all the other countires seem to have a lot less users who have rated.*"
   ]
  },
  {
   "cell_type": "code",
   "execution_count": 52,
   "metadata": {},
   "outputs": [
    {
     "data": {
      "text/plain": [
       "<matplotlib.axes._subplots.AxesSubplot at 0x1a23b43890>"
      ]
     },
     "execution_count": 52,
     "metadata": {},
     "output_type": "execute_result"
    },
    {
     "data": {
      "image/png": "[encoded data removed]",
      "text/plain": [
       "<Figure size 432x288 with 1 Axes>"
      ]
     },
     "metadata": {
      "needs_background": "light"
     },
     "output_type": "display_data"
    }
   ],
   "source": [
    "users_countries = users_countries.head()\n",
    "users_countries.plot()"
   ]
  },
  {
   "cell_type": "markdown",
   "metadata": {},
   "source": [
    "*The most users who have rated books are from USA with a great difference from Canada which is the second country with the most users who have rated.*"
   ]
  },
  {
   "cell_type": "markdown",
   "metadata": {},
   "source": [
    "### Books Ranking (Training) Dataframe\n",
    "\n",
    "#### This part is based ONLY on numerical variables.\n",
    "\n",
    "*Also, by looking at \"count\" we can figure out how many ratings were calculated among all rows*\n",
    "\n",
    "*It was important here to having already changed 0 values of Book-Rating to NaN because they just represent that a user has not rated a book and not that his rating was so bad.*"
   ]
  },
  {
   "cell_type": "code",
   "execution_count": 53,
   "metadata": {},
   "outputs": [
    {
     "data": {
      "text/plain": [
       "User_ID        int64 \n",
       "ISBN           object\n",
       "Book_Rating    int64 \n",
       "dtype: object"
      ]
     },
     "execution_count": 53,
     "metadata": {},
     "output_type": "execute_result"
    }
   ],
   "source": [
    "booksRatings_train.columns = booksRatings_train.columns.str.replace('-', '_')\n",
    "booksRatings_train.dtypes"
   ]
  },
  {
   "cell_type": "code",
   "execution_count": 54,
   "metadata": {},
   "outputs": [
    {
     "data": {
      "text/html": [
       "<div>\n",
       "<style scoped>\n",
       "    .dataframe tbody tr th:only-of-type {\n",
       "        vertical-align: middle;\n",
       "    }\n",
       "\n",
       "    .dataframe tbody tr th {\n",
       "        vertical-align: top;\n",
       "    }\n",
       "\n",
       "    .dataframe thead th {\n",
       "        text-align: right;\n",
       "    }\n",
       "</style>\n",
       "<table border=\"1\" class=\"dataframe\">\n",
       "  <thead>\n",
       "    <tr style=\"text-align: right;\">\n",
       "      <th></th>\n",
       "      <th>User_ID</th>\n",
       "      <th>ISBN</th>\n",
       "      <th>Book_Rating</th>\n",
       "    </tr>\n",
       "  </thead>\n",
       "  <tbody>\n",
       "    <tr>\n",
       "      <td>0</td>\n",
       "      <td>276725</td>\n",
       "      <td>034545104X</td>\n",
       "      <td>0</td>\n",
       "    </tr>\n",
       "    <tr>\n",
       "      <td>1</td>\n",
       "      <td>276726</td>\n",
       "      <td>0155061224</td>\n",
       "      <td>5</td>\n",
       "    </tr>\n",
       "    <tr>\n",
       "      <td>2</td>\n",
       "      <td>276727</td>\n",
       "      <td>0446520802</td>\n",
       "      <td>0</td>\n",
       "    </tr>\n",
       "    <tr>\n",
       "      <td>3</td>\n",
       "      <td>276729</td>\n",
       "      <td>052165615X</td>\n",
       "      <td>3</td>\n",
       "    </tr>\n",
       "    <tr>\n",
       "      <td>4</td>\n",
       "      <td>276729</td>\n",
       "      <td>0521795028</td>\n",
       "      <td>6</td>\n",
       "    </tr>\n",
       "  </tbody>\n",
       "</table>\n",
       "</div>"
      ],
      "text/plain": [
       "   User_ID        ISBN  Book_Rating\n",
       "0  276725   034545104X  0          \n",
       "1  276726   0155061224  5          \n",
       "2  276727   0446520802  0          \n",
       "3  276729   052165615X  3          \n",
       "4  276729   0521795028  6          "
      ]
     },
     "execution_count": 54,
     "metadata": {},
     "output_type": "execute_result"
    }
   ],
   "source": [
    "booksRatings_train.head()"
   ]
  },
  {
   "cell_type": "markdown",
   "metadata": {},
   "source": [
    "#### So we observe that BX-Book-Ratings-Train contains a list of Book-Ratings (1-10 for explicit ratings or 0 for implicit ratings)  that specific users gave to specific books. Each user may has given ratings for more than one book in the list as we can easily see from the 3rd and 4th row of the panda."
   ]
  },
  {
   "cell_type": "code",
   "execution_count": 55,
   "metadata": {},
   "outputs": [],
   "source": [
    "# Replacing 0 from Book-Ratings with NaN in order to be more easily understandable. We van do this \n",
    "# because ratings are in this scope: [1,10].\n",
    "explicit_booksRatings_train = booksRatings_train.copy()\n",
    "explicit_booksRatings_train[\"Book_Rating\"] = explicit_booksRatings_train[\"Book_Rating\"].replace(to_replace =0, value = np.nan,  regex=True)\n"
   ]
  },
  {
   "cell_type": "code",
   "execution_count": 56,
   "metadata": {},
   "outputs": [
    {
     "name": "stdout",
     "output_type": "stream",
     "text": [
      "User_ID        int64  \n",
      "ISBN           object \n",
      "Book_Rating    float64\n",
      "dtype: object\n"
     ]
    }
   ],
   "source": [
    "print(explicit_booksRatings_train.dtypes)"
   ]
  },
  {
   "cell_type": "code",
   "execution_count": 57,
   "metadata": {},
   "outputs": [
    {
     "data": {
      "text/plain": [
       "count    379020.000000\n",
       "mean     7.599786     \n",
       "std      1.838548     \n",
       "min      1.000000     \n",
       "25%      7.000000     \n",
       "50%      8.000000     \n",
       "75%      9.000000     \n",
       "max      10.000000    \n",
       "Name: Book_Rating, dtype: float64"
      ]
     },
     "execution_count": 57,
     "metadata": {},
     "output_type": "execute_result"
    }
   ],
   "source": [
    "explicit_booksRatings_train[\"Book_Rating\"].describe()"
   ]
  },
  {
   "cell_type": "markdown",
   "metadata": {},
   "source": [
    "*Interesting to say that the mean value of explicit rating is around 7,5.*"
   ]
  },
  {
   "cell_type": "code",
   "execution_count": 58,
   "metadata": {},
   "outputs": [
    {
     "name": "stdout",
     "output_type": "stream",
     "text": [
      "Number of unique users who have rated atleast a book: 91407/999999\n"
     ]
    }
   ],
   "source": [
    "print(\"Number of unique users who have rated atleast a book: \" + str(explicit_booksRatings_train.User_ID.nunique()) + \"/\" + str(explicit_booksRatings_train.ISBN.count()))"
   ]
  },
  {
   "cell_type": "code",
   "execution_count": 59,
   "metadata": {},
   "outputs": [
    {
     "name": "stdout",
     "output_type": "stream",
     "text": [
      "Number of all rows: \n"
     ]
    },
    {
     "data": {
      "text/plain": [
       "(999999, 3)"
      ]
     },
     "execution_count": 59,
     "metadata": {},
     "output_type": "execute_result"
    }
   ],
   "source": [
    "print(\"Number of all rows: \")\n",
    "booksRatings_train.shape"
   ]
  },
  {
   "cell_type": "markdown",
   "metadata": {},
   "source": [
    "#### So only 379.020/999.999 ratings are not 0, which is the actual portion of ratings from users."
   ]
  },
  {
   "cell_type": "code",
   "execution_count": 60,
   "metadata": {},
   "outputs": [
    {
     "data": {
      "text/plain": [
       "User_ID        0\n",
       "ISBN           0\n",
       "Book_Rating    0\n",
       "dtype: int64"
      ]
     },
     "execution_count": 60,
     "metadata": {},
     "output_type": "execute_result"
    }
   ],
   "source": [
    "booksRatings_train.isna().sum()"
   ]
  },
  {
   "cell_type": "markdown",
   "metadata": {},
   "source": [
    "#### This part is based ONLY on non-numerical variables."
   ]
  },
  {
   "cell_type": "code",
   "execution_count": 61,
   "metadata": {},
   "outputs": [
    {
     "data": {
      "text/html": [
       "<div>\n",
       "<style scoped>\n",
       "    .dataframe tbody tr th:only-of-type {\n",
       "        vertical-align: middle;\n",
       "    }\n",
       "\n",
       "    .dataframe tbody tr th {\n",
       "        vertical-align: top;\n",
       "    }\n",
       "\n",
       "    .dataframe thead th {\n",
       "        text-align: right;\n",
       "    }\n",
       "</style>\n",
       "<table border=\"1\" class=\"dataframe\">\n",
       "  <thead>\n",
       "    <tr style=\"text-align: right;\">\n",
       "      <th></th>\n",
       "      <th>User_ID</th>\n",
       "      <th>ISBN</th>\n",
       "    </tr>\n",
       "  </thead>\n",
       "  <tbody>\n",
       "    <tr>\n",
       "      <td>count</td>\n",
       "      <td>999999</td>\n",
       "      <td>999999</td>\n",
       "    </tr>\n",
       "    <tr>\n",
       "      <td>unique</td>\n",
       "      <td>91407</td>\n",
       "      <td>313704</td>\n",
       "    </tr>\n",
       "    <tr>\n",
       "      <td>top</td>\n",
       "      <td>11676</td>\n",
       "      <td>0971880107</td>\n",
       "    </tr>\n",
       "    <tr>\n",
       "      <td>freq</td>\n",
       "      <td>13602</td>\n",
       "      <td>2143</td>\n",
       "    </tr>\n",
       "  </tbody>\n",
       "</table>\n",
       "</div>"
      ],
      "text/plain": [
       "       User_ID        ISBN\n",
       "count   999999  999999    \n",
       "unique  91407   313704    \n",
       "top     11676   0971880107\n",
       "freq    13602   2143      "
      ]
     },
     "execution_count": 61,
     "metadata": {},
     "output_type": "execute_result"
    }
   ],
   "source": [
    "explicit_booksRatings_train.rename(columns = {'User-ID':'User_ID'}, inplace=True)\n",
    "explicit_booksRatings_train['User_ID'] = booksRatings_train['User_ID'].astype(str)\n",
    "explicit_booksRatings_train.loc[:, 'User_ID':'ISBN'].describe()"
   ]
  },
  {
   "cell_type": "markdown",
   "metadata": {},
   "source": [
    "*From the above we see that inside the 999999 rows of the ratings dataframe, there are 91407 unique users and 313704 unique books. The ID of the user with the most ratings is \"11676\" and the ISBN of the book with the most ratings is  \"0971880107\".*"
   ]
  },
  {
   "cell_type": "markdown",
   "metadata": {},
   "source": [
    "#### Let's find out the distribution of users and the number of the reviews they have given sofar."
   ]
  },
  {
   "cell_type": "code",
   "execution_count": 62,
   "metadata": {},
   "outputs": [
    {
     "name": "stdout",
     "output_type": "stream",
     "text": [
      "Top 10 users with the most ratings are:\n",
      "User_ID\n",
      "11676     13602\n",
      "198711    7550 \n",
      "153662    6109 \n",
      "98391     5891 \n",
      "35859     5850 \n",
      "212898    4785 \n",
      "278418    4533 \n",
      "76352     3367 \n",
      "110973    3100 \n",
      "235105    3067 \n",
      "Name: ISBN, dtype: int64\n"
     ]
    }
   ],
   "source": [
    "users_who_rated = explicit_booksRatings_train.groupby('User_ID').ISBN.count().sort_values(ascending=False)\n",
    "\n",
    "#super_users = book_ratings.groupby('user_id').isbn.count().sort_values(ascending=False)\n",
    "print(\"Top 10 users with the most ratings are:\\n\" + str(users_who_rated[:10]))"
   ]
  },
  {
   "cell_type": "markdown",
   "metadata": {},
   "source": [
    "*Indeed, user 11676 who we found in the precious step, has given the most ratings (13602)!"
   ]
  },
  {
   "cell_type": "code",
   "execution_count": 63,
   "metadata": {},
   "outputs": [
    {
     "data": {
      "image/png": "[encoded data removed]",
      "text/plain": [
       "<Figure size 432x288 with 1 Axes>"
      ]
     },
     "metadata": {
      "needs_background": "light"
     },
     "output_type": "display_data"
    }
   ],
   "source": [
    "users_who_rated.hist(bins=30)\n",
    "plt.xlabel('Number of ratings')\n",
    "plt.ylabel('Users')\n",
    "plt.show()"
   ]
  },
  {
   "cell_type": "markdown",
   "metadata": {},
   "source": [
    "*As we can see from the plot, the most users have rated only a few books (less than 50), whereas those who have rated a big amount of books (more than 50) belong to the outliers. * "
   ]
  },
  {
   "cell_type": "code",
   "execution_count": 64,
   "metadata": {},
   "outputs": [],
   "source": [
    "# Keeping only users who have rated less than 50 books because the above histogram shows us that \n",
    "# the most values occure somewhere there.\n",
    "# We also skip rating value 0 because this is not a real rating. Ratings are from 1 to 10.\n",
    "part_users_who_rated = users_who_rated.where(users_who_rated < 50)"
   ]
  },
  {
   "cell_type": "code",
   "execution_count": 65,
   "metadata": {},
   "outputs": [
    {
     "data": {
      "image/png": "[encoded data removed]",
      "text/plain": [
       "<Figure size 432x288 with 1 Axes>"
      ]
     },
     "metadata": {
      "needs_background": "light"
     },
     "output_type": "display_data"
    }
   ],
   "source": [
    "\n",
    "part_users_who_rated.hist(bins=50)\n",
    "plt.xlabel('Number of Ratings')\n",
    "plt.ylabel('Number of Users')\n",
    "plt.show()"
   ]
  },
  {
   "cell_type": "markdown",
   "metadata": {},
   "source": [
    "*So the most users who have rated books, they have rated only one! After this the most have rated 2 or 3 books. Wherease the users who we saw earlier with very big numbers of ratings are outliers.*"
   ]
  },
  {
   "cell_type": "markdown",
   "metadata": {},
   "source": [
    "#### And what about the distribution of the ratings?!"
   ]
  },
  {
   "cell_type": "code",
   "execution_count": 66,
   "metadata": {},
   "outputs": [
    {
     "data": {
      "text/html": [
       "<div>\n",
       "<style scoped>\n",
       "    .dataframe tbody tr th:only-of-type {\n",
       "        vertical-align: middle;\n",
       "    }\n",
       "\n",
       "    .dataframe tbody tr th {\n",
       "        vertical-align: top;\n",
       "    }\n",
       "\n",
       "    .dataframe thead th {\n",
       "        text-align: right;\n",
       "    }\n",
       "</style>\n",
       "<table border=\"1\" class=\"dataframe\">\n",
       "  <thead>\n",
       "    <tr style=\"text-align: right;\">\n",
       "      <th></th>\n",
       "      <th>User_ID</th>\n",
       "      <th>ISBN</th>\n",
       "      <th>Book_Rating</th>\n",
       "    </tr>\n",
       "  </thead>\n",
       "  <tbody>\n",
       "    <tr>\n",
       "      <td>0</td>\n",
       "      <td>2</td>\n",
       "      <td>0195153448</td>\n",
       "      <td>0</td>\n",
       "    </tr>\n",
       "    <tr>\n",
       "      <td>1</td>\n",
       "      <td>7</td>\n",
       "      <td>034542252</td>\n",
       "      <td>0</td>\n",
       "    </tr>\n",
       "    <tr>\n",
       "      <td>2</td>\n",
       "      <td>8</td>\n",
       "      <td>0002005018</td>\n",
       "      <td>5</td>\n",
       "    </tr>\n",
       "    <tr>\n",
       "      <td>3</td>\n",
       "      <td>8</td>\n",
       "      <td>0060973129</td>\n",
       "      <td>0</td>\n",
       "    </tr>\n",
       "    <tr>\n",
       "      <td>4</td>\n",
       "      <td>8</td>\n",
       "      <td>0374157065</td>\n",
       "      <td>0</td>\n",
       "    </tr>\n",
       "  </tbody>\n",
       "</table>\n",
       "</div>"
      ],
      "text/plain": [
       "   User_ID        ISBN  Book_Rating\n",
       "0  2        0195153448  0          \n",
       "1  7        034542252   0          \n",
       "2  8        0002005018  5          \n",
       "3  8        0060973129  0          \n",
       "4  8        0374157065  0          "
      ]
     },
     "execution_count": 66,
     "metadata": {},
     "output_type": "execute_result"
    }
   ],
   "source": [
    "users_ratings_df = pd.merge(users,booksRatings_train,on='User_ID',how='inner')\n",
    "\n",
    "users_ratings_df.drop(['City','Age', 'Region', 'Country'],axis=1,inplace=True)\n",
    "users_ratings_df.head()"
   ]
  },
  {
   "cell_type": "code",
   "execution_count": 67,
   "metadata": {},
   "outputs": [
    {
     "data": {
      "text/html": [
       "        <script type=\"text/javascript\">\n",
       "        window.PlotlyConfig = {MathJaxConfig: 'local'};\n",
       "        if (window.MathJax) {MathJax.Hub.Config({SVG: {font: \"STIX-Web\"}});}\n",
       "        if (typeof require !== 'undefined') {\n",
       "        require.undef(\"plotly\");\n",
       "        requirejs.config({\n",
       "            paths: {\n",
       "                'plotly': ['https://cdn.plot.ly/plotly-latest.min']\n",
       "            }\n",
       "        });\n",
       "        require(['plotly'], function(Plotly) {\n",
       "            window._Plotly = Plotly;\n",
       "        });\n",
       "        }\n",
       "        </script>\n",
       "        "
      ]
     },
     "metadata": {},
     "output_type": "display_data"
    }
   ],
   "source": [
    "from plotly.offline import init_notebook_mode, plot, iplot\n",
    "import plotly.graph_objs as go\n",
    "init_notebook_mode(connected=True)"
   ]
  },
  {
   "cell_type": "code",
   "execution_count": 68,
   "metadata": {},
   "outputs": [
    {
     "data": {
      "text/plain": [
       "10    68104 \n",
       "9     59251 \n",
       "8     90883 \n",
       "7     67039 \n",
       "6     32277 \n",
       "5     44760 \n",
       "4     7671  \n",
       "3     5144  \n",
       "2     2366  \n",
       "1     1525  \n",
       "0     620979\n",
       "Name: Book_Rating, dtype: int64"
      ]
     },
     "execution_count": 68,
     "metadata": {},
     "output_type": "execute_result"
    }
   ],
   "source": [
    "data = users_ratings_df['Book_Rating'].value_counts().sort_index(ascending=False)\n",
    "data"
   ]
  },
  {
   "cell_type": "markdown",
   "metadata": {},
   "source": [
    "*Above we can see the exact occurence of each one of the ratings. We observe that the majority is 0 (which represents the emplicit method), and then the most ratings are from 7 to 10.*"
   ]
  },
  {
   "cell_type": "markdown",
   "metadata": {},
   "source": [
    "#### Different Kinds of plots to observe distribution of ratings..."
   ]
  },
  {
   "cell_type": "code",
   "execution_count": 69,
   "metadata": {},
   "outputs": [
    {
     "data": {
      "application/vnd.plotly.v1+json": {
       "config": {
        "linkText": "Export to plot.ly",
        "plotlyServerURL": "https://plot.ly",
        "showLink": false
       },
       "data": [
        {
         "text": [
          "6.81%",
          "5.93%",
          "9.09%",
          "6.70%",
          "3.23%",
          "4.48%",
          "0.77%",
          "0.51%",
          "0.24%",
          "0.15%",
          "62.10%"
         ],
         "textfont": {
          "color": "#000000"
         },
         "textposition": "auto",
         "type": "bar",
         "x": [
          10,
          9,
          8,
          7,
          6,
          5,
          4,
          3,
          2,
          1,
          0
         ],
         "y": [
          68104,
          59251,
          90883,
          67039,
          32277,
          44760,
          7671,
          5144,
          2366,
          1525,
          620979
         ]
        }
       ],
       "layout": {
        "template": {
         "data": {
          "bar": [
           {
            "error_x": {
             "color": "#2a3f5f"
            },
            "error_y": {
             "color": "#2a3f5f"
            },
            "marker": {
             "line": {
              "color": "#E5ECF6",
              "width": 0.5
             }
            },
            "type": "bar"
           }
          ],
          "barpolar": [
           {
            "marker": {
             "line": {
              "color": "#E5ECF6",
              "width": 0.5
             }
            },
            "type": "barpolar"
           }
          ],
          "carpet": [
           {
            "aaxis": {
             "endlinecolor": "#2a3f5f",
             "gridcolor": "white",
             "linecolor": "white",
             "minorgridcolor": "white",
             "startlinecolor": "#2a3f5f"
            },
            "baxis": {
             "endlinecolor": "#2a3f5f",
             "gridcolor": "white",
             "linecolor": "white",
             "minorgridcolor": "white",
             "startlinecolor": "#2a3f5f"
            },
            "type": "carpet"
           }
          ],
          "choropleth": [
           {
            "colorbar": {
             "outlinewidth": 0,
             "ticks": ""
            },
            "type": "choropleth"
           }
          ],
          "contour": [
           {
            "colorbar": {
             "outlinewidth": 0,
             "ticks": ""
            },
            "colorscale": [
             [
              0,
              "#0d0887"
             ],
             [
              0.1111111111111111,
              "#46039f"
             ],
             [
              0.2222222222222222,
              "#7201a8"
             ],
             [
              0.3333333333333333,
              "#9c179e"
             ],
             [
              0.4444444444444444,
              "#bd3786"
             ],
             [
              0.5555555555555556,
              "#d8576b"
             ],
             [
              0.6666666666666666,
              "#ed7953"
             ],
             [
              0.7777777777777778,
              "#fb9f3a"
             ],
             [
              0.8888888888888888,
              "#fdca26"
             ],
             [
              1,
              "#f0f921"
             ]
            ],
            "type": "contour"
           }
          ],
          "contourcarpet": [
           {
            "colorbar": {
             "outlinewidth": 0,
             "ticks": ""
            },
            "type": "contourcarpet"
           }
          ],
          "heatmap": [
           {
            "colorbar": {
             "outlinewidth": 0,
             "ticks": ""
            },
            "colorscale": [
             [
              0,
              "#0d0887"
             ],
             [
              0.1111111111111111,
              "#46039f"
             ],
             [
              0.2222222222222222,
              "#7201a8"
             ],
             [
              0.3333333333333333,
              "#9c179e"
             ],
             [
              0.4444444444444444,
              "#bd3786"
             ],
             [
              0.5555555555555556,
              "#d8576b"
             ],
             [
              0.6666666666666666,
              "#ed7953"
             ],
             [
              0.7777777777777778,
              "#fb9f3a"
             ],
             [
              0.8888888888888888,
              "#fdca26"
             ],
             [
              1,
              "#f0f921"
             ]
            ],
            "type": "heatmap"
           }
          ],
          "heatmapgl": [
           {
            "colorbar": {
             "outlinewidth": 0,
             "ticks": ""
            },
            "colorscale": [
             [
              0,
              "#0d0887"
             ],
             [
              0.1111111111111111,
              "#46039f"
             ],
             [
              0.2222222222222222,
              "#7201a8"
             ],
             [
              0.3333333333333333,
              "#9c179e"
             ],
             [
              0.4444444444444444,
              "#bd3786"
             ],
             [
              0.5555555555555556,
              "#d8576b"
             ],
             [
              0.6666666666666666,
              "#ed7953"
             ],
             [
              0.7777777777777778,
              "#fb9f3a"
             ],
             [
              0.8888888888888888,
              "#fdca26"
             ],
             [
              1,
              "#f0f921"
             ]
            ],
            "type": "heatmapgl"
           }
          ],
          "histogram": [
           {
            "marker": {
             "colorbar": {
              "outlinewidth": 0,
              "ticks": ""
             }
            },
            "type": "histogram"
           }
          ],
          "histogram2d": [
           {
            "colorbar": {
             "outlinewidth": 0,
             "ticks": ""
            },
            "colorscale": [
             [
              0,
              "#0d0887"
             ],
             [
              0.1111111111111111,
              "#46039f"
             ],
             [
              0.2222222222222222,
              "#7201a8"
             ],
             [
              0.3333333333333333,
              "#9c179e"
             ],
             [
              0.4444444444444444,
              "#bd3786"
             ],
             [
              0.5555555555555556,
              "#d8576b"
             ],
             [
              0.6666666666666666,
              "#ed7953"
             ],
             [
              0.7777777777777778,
              "#fb9f3a"
             ],
             [
              0.8888888888888888,
              "#fdca26"
             ],
             [
              1,
              "#f0f921"
             ]
            ],
            "type": "histogram2d"
           }
          ],
          "histogram2dcontour": [
           {
            "colorbar": {
             "outlinewidth": 0,
             "ticks": ""
            },
            "colorscale": [
             [
              0,
              "#0d0887"
             ],
             [
              0.1111111111111111,
              "#46039f"
             ],
             [
              0.2222222222222222,
              "#7201a8"
             ],
             [
              0.3333333333333333,
              "#9c179e"
             ],
             [
              0.4444444444444444,
              "#bd3786"
             ],
             [
              0.5555555555555556,
              "#d8576b"
             ],
             [
              0.6666666666666666,
              "#ed7953"
             ],
             [
              0.7777777777777778,
              "#fb9f3a"
             ],
             [
              0.8888888888888888,
              "#fdca26"
             ],
             [
              1,
              "#f0f921"
             ]
            ],
            "type": "histogram2dcontour"
           }
          ],
          "mesh3d": [
           {
            "colorbar": {
             "outlinewidth": 0,
             "ticks": ""
            },
            "type": "mesh3d"
           }
          ],
          "parcoords": [
           {
            "line": {
             "colorbar": {
              "outlinewidth": 0,
              "ticks": ""
             }
            },
            "type": "parcoords"
           }
          ],
          "pie": [
           {
            "automargin": true,
            "type": "pie"
           }
          ],
          "scatter": [
           {
            "marker": {
             "colorbar": {
              "outlinewidth": 0,
              "ticks": ""
             }
            },
            "type": "scatter"
           }
          ],
          "scatter3d": [
           {
            "line": {
             "colorbar": {
              "outlinewidth": 0,
              "ticks": ""
             }
            },
            "marker": {
             "colorbar": {
              "outlinewidth": 0,
              "ticks": ""
             }
            },
            "type": "scatter3d"
           }
          ],
          "scattercarpet": [
           {
            "marker": {
             "colorbar": {
              "outlinewidth": 0,
              "ticks": ""
             }
            },
            "type": "scattercarpet"
           }
          ],
          "scattergeo": [
           {
            "marker": {
             "colorbar": {
              "outlinewidth": 0,
              "ticks": ""
             }
            },
            "type": "scattergeo"
           }
          ],
          "scattergl": [
           {
            "marker": {
             "colorbar": {
              "outlinewidth": 0,
              "ticks": ""
             }
            },
            "type": "scattergl"
           }
          ],
          "scattermapbox": [
           {
            "marker": {
             "colorbar": {
              "outlinewidth": 0,
              "ticks": ""
             }
            },
            "type": "scattermapbox"
           }
          ],
          "scatterpolar": [
           {
            "marker": {
             "colorbar": {
              "outlinewidth": 0,
              "ticks": ""
             }
            },
            "type": "scatterpolar"
           }
          ],
          "scatterpolargl": [
           {
            "marker": {
             "colorbar": {
              "outlinewidth": 0,
              "ticks": ""
             }
            },
            "type": "scatterpolargl"
           }
          ],
          "scatterternary": [
           {
            "marker": {
             "colorbar": {
              "outlinewidth": 0,
              "ticks": ""
             }
            },
            "type": "scatterternary"
           }
          ],
          "surface": [
           {
            "colorbar": {
             "outlinewidth": 0,
             "ticks": ""
            },
            "colorscale": [
             [
              0,
              "#0d0887"
             ],
             [
              0.1111111111111111,
              "#46039f"
             ],
             [
              0.2222222222222222,
              "#7201a8"
             ],
             [
              0.3333333333333333,
              "#9c179e"
             ],
             [
              0.4444444444444444,
              "#bd3786"
             ],
             [
              0.5555555555555556,
              "#d8576b"
             ],
             [
              0.6666666666666666,
              "#ed7953"
             ],
             [
              0.7777777777777778,
              "#fb9f3a"
             ],
             [
              0.8888888888888888,
              "#fdca26"
             ],
             [
              1,
              "#f0f921"
             ]
            ],
            "type": "surface"
           }
          ],
          "table": [
           {
            "cells": {
             "fill": {
              "color": "#EBF0F8"
             },
             "line": {
              "color": "white"
             }
            },
            "header": {
             "fill": {
              "color": "#C8D4E3"
             },
             "line": {
              "color": "white"
             }
            },
            "type": "table"
           }
          ]
         },
         "layout": {
          "annotationdefaults": {
           "arrowcolor": "#2a3f5f",
           "arrowhead": 0,
           "arrowwidth": 1
          },
          "coloraxis": {
           "colorbar": {
            "outlinewidth": 0,
            "ticks": ""
           }
          },
          "colorscale": {
           "diverging": [
            [
             0,
             "#8e0152"
            ],
            [
             0.1,
             "#c51b7d"
            ],
            [
             0.2,
             "#de77ae"
            ],
            [
             0.3,
             "#f1b6da"
            ],
            [
             0.4,
             "#fde0ef"
            ],
            [
             0.5,
             "#f7f7f7"
            ],
            [
             0.6,
             "#e6f5d0"
            ],
            [
             0.7,
             "#b8e186"
            ],
            [
             0.8,
             "#7fbc41"
            ],
            [
             0.9,
             "#4d9221"
            ],
            [
             1,
             "#276419"
            ]
           ],
           "sequential": [
            [
             0,
             "#0d0887"
            ],
            [
             0.1111111111111111,
             "#46039f"
            ],
            [
             0.2222222222222222,
             "#7201a8"
            ],
            [
             0.3333333333333333,
             "#9c179e"
            ],
            [
             0.4444444444444444,
             "#bd3786"
            ],
            [
             0.5555555555555556,
             "#d8576b"
            ],
            [
             0.6666666666666666,
             "#ed7953"
            ],
            [
             0.7777777777777778,
             "#fb9f3a"
            ],
            [
             0.8888888888888888,
             "#fdca26"
            ],
            [
             1,
             "#f0f921"
            ]
           ],
           "sequentialminus": [
            [
             0,
             "#0d0887"
            ],
            [
             0.1111111111111111,
             "#46039f"
            ],
            [
             0.2222222222222222,
             "#7201a8"
            ],
            [
             0.3333333333333333,
             "#9c179e"
            ],
            [
             0.4444444444444444,
             "#bd3786"
            ],
            [
             0.5555555555555556,
             "#d8576b"
            ],
            [
             0.6666666666666666,
             "#ed7953"
            ],
            [
             0.7777777777777778,
             "#fb9f3a"
            ],
            [
             0.8888888888888888,
             "#fdca26"
            ],
            [
             1,
             "#f0f921"
            ]
           ]
          },
          "colorway": [
           "#636efa",
           "#EF553B",
           "#00cc96",
           "#ab63fa",
           "#FFA15A",
           "#19d3f3",
           "#FF6692",
           "#B6E880",
           "#FF97FF",
           "#FECB52"
          ],
          "font": {
           "color": "#2a3f5f"
          },
          "geo": {
           "bgcolor": "white",
           "lakecolor": "white",
           "landcolor": "#E5ECF6",
           "showlakes": true,
           "showland": true,
           "subunitcolor": "white"
          },
          "hoverlabel": {
           "align": "left"
          },
          "hovermode": "closest",
          "mapbox": {
           "style": "light"
          },
          "paper_bgcolor": "white",
          "plot_bgcolor": "#E5ECF6",
          "polar": {
           "angularaxis": {
            "gridcolor": "white",
            "linecolor": "white",
            "ticks": ""
           },
           "bgcolor": "#E5ECF6",
           "radialaxis": {
            "gridcolor": "white",
            "linecolor": "white",
            "ticks": ""
           }
          },
          "scene": {
           "xaxis": {
            "backgroundcolor": "#E5ECF6",
            "gridcolor": "white",
            "gridwidth": 2,
            "linecolor": "white",
            "showbackground": true,
            "ticks": "",
            "zerolinecolor": "white"
           },
           "yaxis": {
            "backgroundcolor": "#E5ECF6",
            "gridcolor": "white",
            "gridwidth": 2,
            "linecolor": "white",
            "showbackground": true,
            "ticks": "",
            "zerolinecolor": "white"
           },
           "zaxis": {
            "backgroundcolor": "#E5ECF6",
            "gridcolor": "white",
            "gridwidth": 2,
            "linecolor": "white",
            "showbackground": true,
            "ticks": "",
            "zerolinecolor": "white"
           }
          },
          "shapedefaults": {
           "line": {
            "color": "#2a3f5f"
           }
          },
          "ternary": {
           "aaxis": {
            "gridcolor": "white",
            "linecolor": "white",
            "ticks": ""
           },
           "baxis": {
            "gridcolor": "white",
            "linecolor": "white",
            "ticks": ""
           },
           "bgcolor": "#E5ECF6",
           "caxis": {
            "gridcolor": "white",
            "linecolor": "white",
            "ticks": ""
           }
          },
          "title": {
           "x": 0.05
          },
          "xaxis": {
           "automargin": true,
           "gridcolor": "white",
           "linecolor": "white",
           "ticks": "",
           "title": {
            "standoff": 15
           },
           "zerolinecolor": "white",
           "zerolinewidth": 2
          },
          "yaxis": {
           "automargin": true,
           "gridcolor": "white",
           "linecolor": "white",
           "ticks": "",
           "title": {
            "standoff": 15
           },
           "zerolinecolor": "white",
           "zerolinewidth": 2
          }
         }
        },
        "title": {
         "text": "Distribution of book ratings (training set)"
        },
        "xaxis": {
         "title": {
          "text": "Rating"
         }
        },
        "yaxis": {
         "title": {
          "text": "Number of Ratings"
         }
        }
       }
      },
      "text/html": [
       "<div>\n",
       "        \n",
       "        \n",
       "            <div id=\"48cf4bd7-71b2-4c8f-8612-666355ed5053\" class=\"plotly-graph-div\" style=\"height:525px; width:100%;\"></div>\n",
       "            <script type=\"text/javascript\">\n",
       "                require([\"plotly\"], function(Plotly) {\n",
       "                    window.PLOTLYENV=window.PLOTLYENV || {};\n",
       "                    \n",
       "                if (document.getElementById(\"48cf4bd7-71b2-4c8f-8612-666355ed5053\")) {\n",
       "                    Plotly.newPlot(\n",
       "                        '48cf4bd7-71b2-4c8f-8612-666355ed5053',\n",
       "                        [{\"text\": [\"6.81%\", \"5.93%\", \"9.09%\", \"6.70%\", \"3.23%\", \"4.48%\", \"0.77%\", \"0.51%\", \"0.24%\", \"0.15%\", \"62.10%\"], \"textfont\": {\"color\": \"#000000\"}, \"textposition\": \"auto\", \"type\": \"bar\", \"x\": [10, 9, 8, 7, 6, 5, 4, 3, 2, 1, 0], \"y\": [68104, 59251, 90883, 67039, 32277, 44760, 7671, 5144, 2366, 1525, 620979]}],\n",
       "                        {\"template\": {\"data\": {\"bar\": [{\"error_x\": {\"color\": \"#2a3f5f\"}, \"error_y\": {\"color\": \"#2a3f5f\"}, \"marker\": {\"line\": {\"color\": \"#E5ECF6\", \"width\": 0.5}}, \"type\": \"bar\"}], \"barpolar\": [{\"marker\": {\"line\": {\"color\": \"#E5ECF6\", \"width\": 0.5}}, \"type\": \"barpolar\"}], \"carpet\": [{\"aaxis\": {\"endlinecolor\": \"#2a3f5f\", \"gridcolor\": \"white\", \"linecolor\": \"white\", \"minorgridcolor\": \"white\", \"startlinecolor\": \"#2a3f5f\"}, \"baxis\": {\"endlinecolor\": \"#2a3f5f\", \"gridcolor\": \"white\", \"linecolor\": \"white\", \"minorgridcolor\": \"white\", \"startlinecolor\": \"#2a3f5f\"}, \"type\": \"carpet\"}], \"choropleth\": [{\"colorbar\": {\"outlinewidth\": 0, \"ticks\": \"\"}, \"type\": \"choropleth\"}], \"contour\": [{\"colorbar\": {\"outlinewidth\": 0, \"ticks\": \"\"}, \"colorscale\": [[0.0, \"#0d0887\"], [0.1111111111111111, \"#46039f\"], [0.2222222222222222, \"#7201a8\"], [0.3333333333333333, \"#9c179e\"], [0.4444444444444444, \"#bd3786\"], [0.5555555555555556, \"#d8576b\"], [0.6666666666666666, \"#ed7953\"], [0.7777777777777778, \"#fb9f3a\"], [0.8888888888888888, \"#fdca26\"], [1.0, \"#f0f921\"]], \"type\": \"contour\"}], \"contourcarpet\": [{\"colorbar\": {\"outlinewidth\": 0, \"ticks\": \"\"}, \"type\": \"contourcarpet\"}], \"heatmap\": [{\"colorbar\": {\"outlinewidth\": 0, \"ticks\": \"\"}, \"colorscale\": [[0.0, \"#0d0887\"], [0.1111111111111111, \"#46039f\"], [0.2222222222222222, \"#7201a8\"], [0.3333333333333333, \"#9c179e\"], [0.4444444444444444, \"#bd3786\"], [0.5555555555555556, \"#d8576b\"], [0.6666666666666666, \"#ed7953\"], [0.7777777777777778, \"#fb9f3a\"], [0.8888888888888888, \"#fdca26\"], [1.0, \"#f0f921\"]], \"type\": \"heatmap\"}], \"heatmapgl\": [{\"colorbar\": {\"outlinewidth\": 0, \"ticks\": \"\"}, \"colorscale\": [[0.0, \"#0d0887\"], [0.1111111111111111, \"#46039f\"], [0.2222222222222222, \"#7201a8\"], [0.3333333333333333, \"#9c179e\"], [0.4444444444444444, \"#bd3786\"], [0.5555555555555556, \"#d8576b\"], [0.6666666666666666, \"#ed7953\"], [0.7777777777777778, \"#fb9f3a\"], [0.8888888888888888, \"#fdca26\"], [1.0, \"#f0f921\"]], \"type\": \"heatmapgl\"}], \"histogram\": [{\"marker\": {\"colorbar\": {\"outlinewidth\": 0, \"ticks\": \"\"}}, \"type\": \"histogram\"}], \"histogram2d\": [{\"colorbar\": {\"outlinewidth\": 0, \"ticks\": \"\"}, \"colorscale\": [[0.0, \"#0d0887\"], [0.1111111111111111, \"#46039f\"], [0.2222222222222222, \"#7201a8\"], [0.3333333333333333, \"#9c179e\"], [0.4444444444444444, \"#bd3786\"], [0.5555555555555556, \"#d8576b\"], [0.6666666666666666, \"#ed7953\"], [0.7777777777777778, \"#fb9f3a\"], [0.8888888888888888, \"#fdca26\"], [1.0, \"#f0f921\"]], \"type\": \"histogram2d\"}], \"histogram2dcontour\": [{\"colorbar\": {\"outlinewidth\": 0, \"ticks\": \"\"}, \"colorscale\": [[0.0, \"#0d0887\"], [0.1111111111111111, \"#46039f\"], [0.2222222222222222, \"#7201a8\"], [0.3333333333333333, \"#9c179e\"], [0.4444444444444444, \"#bd3786\"], [0.5555555555555556, \"#d8576b\"], [0.6666666666666666, \"#ed7953\"], [0.7777777777777778, \"#fb9f3a\"], [0.8888888888888888, \"#fdca26\"], [1.0, \"#f0f921\"]], \"type\": \"histogram2dcontour\"}], \"mesh3d\": [{\"colorbar\": {\"outlinewidth\": 0, \"ticks\": \"\"}, \"type\": \"mesh3d\"}], \"parcoords\": [{\"line\": {\"colorbar\": {\"outlinewidth\": 0, \"ticks\": \"\"}}, \"type\": \"parcoords\"}], \"pie\": [{\"automargin\": true, \"type\": \"pie\"}], \"scatter\": [{\"marker\": {\"colorbar\": {\"outlinewidth\": 0, \"ticks\": \"\"}}, \"type\": \"scatter\"}], \"scatter3d\": [{\"line\": {\"colorbar\": {\"outlinewidth\": 0, \"ticks\": \"\"}}, \"marker\": {\"colorbar\": {\"outlinewidth\": 0, \"ticks\": \"\"}}, \"type\": \"scatter3d\"}], \"scattercarpet\": [{\"marker\": {\"colorbar\": {\"outlinewidth\": 0, \"ticks\": \"\"}}, \"type\": \"scattercarpet\"}], \"scattergeo\": [{\"marker\": {\"colorbar\": {\"outlinewidth\": 0, \"ticks\": \"\"}}, \"type\": \"scattergeo\"}], \"scattergl\": [{\"marker\": {\"colorbar\": {\"outlinewidth\": 0, \"ticks\": \"\"}}, \"type\": \"scattergl\"}], \"scattermapbox\": [{\"marker\": {\"colorbar\": {\"outlinewidth\": 0, \"ticks\": \"\"}}, \"type\": \"scattermapbox\"}], \"scatterpolar\": [{\"marker\": {\"colorbar\": {\"outlinewidth\": 0, \"ticks\": \"\"}}, \"type\": \"scatterpolar\"}], \"scatterpolargl\": [{\"marker\": {\"colorbar\": {\"outlinewidth\": 0, \"ticks\": \"\"}}, \"type\": \"scatterpolargl\"}], \"scatterternary\": [{\"marker\": {\"colorbar\": {\"outlinewidth\": 0, \"ticks\": \"\"}}, \"type\": \"scatterternary\"}], \"surface\": [{\"colorbar\": {\"outlinewidth\": 0, \"ticks\": \"\"}, \"colorscale\": [[0.0, \"#0d0887\"], [0.1111111111111111, \"#46039f\"], [0.2222222222222222, \"#7201a8\"], [0.3333333333333333, \"#9c179e\"], [0.4444444444444444, \"#bd3786\"], [0.5555555555555556, \"#d8576b\"], [0.6666666666666666, \"#ed7953\"], [0.7777777777777778, \"#fb9f3a\"], [0.8888888888888888, \"#fdca26\"], [1.0, \"#f0f921\"]], \"type\": \"surface\"}], \"table\": [{\"cells\": {\"fill\": {\"color\": \"#EBF0F8\"}, \"line\": {\"color\": \"white\"}}, \"header\": {\"fill\": {\"color\": \"#C8D4E3\"}, \"line\": {\"color\": \"white\"}}, \"type\": \"table\"}]}, \"layout\": {\"annotationdefaults\": {\"arrowcolor\": \"#2a3f5f\", \"arrowhead\": 0, \"arrowwidth\": 1}, \"coloraxis\": {\"colorbar\": {\"outlinewidth\": 0, \"ticks\": \"\"}}, \"colorscale\": {\"diverging\": [[0, \"#8e0152\"], [0.1, \"#c51b7d\"], [0.2, \"#de77ae\"], [0.3, \"#f1b6da\"], [0.4, \"#fde0ef\"], [0.5, \"#f7f7f7\"], [0.6, \"#e6f5d0\"], [0.7, \"#b8e186\"], [0.8, \"#7fbc41\"], [0.9, \"#4d9221\"], [1, \"#276419\"]], \"sequential\": [[0.0, \"#0d0887\"], [0.1111111111111111, \"#46039f\"], [0.2222222222222222, \"#7201a8\"], [0.3333333333333333, \"#9c179e\"], [0.4444444444444444, \"#bd3786\"], [0.5555555555555556, \"#d8576b\"], [0.6666666666666666, \"#ed7953\"], [0.7777777777777778, \"#fb9f3a\"], [0.8888888888888888, \"#fdca26\"], [1.0, \"#f0f921\"]], \"sequentialminus\": [[0.0, \"#0d0887\"], [0.1111111111111111, \"#46039f\"], [0.2222222222222222, \"#7201a8\"], [0.3333333333333333, \"#9c179e\"], [0.4444444444444444, \"#bd3786\"], [0.5555555555555556, \"#d8576b\"], [0.6666666666666666, \"#ed7953\"], [0.7777777777777778, \"#fb9f3a\"], [0.8888888888888888, \"#fdca26\"], [1.0, \"#f0f921\"]]}, \"colorway\": [\"#636efa\", \"#EF553B\", \"#00cc96\", \"#ab63fa\", \"#FFA15A\", \"#19d3f3\", \"#FF6692\", \"#B6E880\", \"#FF97FF\", \"#FECB52\"], \"font\": {\"color\": \"#2a3f5f\"}, \"geo\": {\"bgcolor\": \"white\", \"lakecolor\": \"white\", \"landcolor\": \"#E5ECF6\", \"showlakes\": true, \"showland\": true, \"subunitcolor\": \"white\"}, \"hoverlabel\": {\"align\": \"left\"}, \"hovermode\": \"closest\", \"mapbox\": {\"style\": \"light\"}, \"paper_bgcolor\": \"white\", \"plot_bgcolor\": \"#E5ECF6\", \"polar\": {\"angularaxis\": {\"gridcolor\": \"white\", \"linecolor\": \"white\", \"ticks\": \"\"}, \"bgcolor\": \"#E5ECF6\", \"radialaxis\": {\"gridcolor\": \"white\", \"linecolor\": \"white\", \"ticks\": \"\"}}, \"scene\": {\"xaxis\": {\"backgroundcolor\": \"#E5ECF6\", \"gridcolor\": \"white\", \"gridwidth\": 2, \"linecolor\": \"white\", \"showbackground\": true, \"ticks\": \"\", \"zerolinecolor\": \"white\"}, \"yaxis\": {\"backgroundcolor\": \"#E5ECF6\", \"gridcolor\": \"white\", \"gridwidth\": 2, \"linecolor\": \"white\", \"showbackground\": true, \"ticks\": \"\", \"zerolinecolor\": \"white\"}, \"zaxis\": {\"backgroundcolor\": \"#E5ECF6\", \"gridcolor\": \"white\", \"gridwidth\": 2, \"linecolor\": \"white\", \"showbackground\": true, \"ticks\": \"\", \"zerolinecolor\": \"white\"}}, \"shapedefaults\": {\"line\": {\"color\": \"#2a3f5f\"}}, \"ternary\": {\"aaxis\": {\"gridcolor\": \"white\", \"linecolor\": \"white\", \"ticks\": \"\"}, \"baxis\": {\"gridcolor\": \"white\", \"linecolor\": \"white\", \"ticks\": \"\"}, \"bgcolor\": \"#E5ECF6\", \"caxis\": {\"gridcolor\": \"white\", \"linecolor\": \"white\", \"ticks\": \"\"}}, \"title\": {\"x\": 0.05}, \"xaxis\": {\"automargin\": true, \"gridcolor\": \"white\", \"linecolor\": \"white\", \"ticks\": \"\", \"title\": {\"standoff\": 15}, \"zerolinecolor\": \"white\", \"zerolinewidth\": 2}, \"yaxis\": {\"automargin\": true, \"gridcolor\": \"white\", \"linecolor\": \"white\", \"ticks\": \"\", \"title\": {\"standoff\": 15}, \"zerolinecolor\": \"white\", \"zerolinewidth\": 2}}}, \"title\": {\"text\": \"Distribution of book ratings (training set)\"}, \"xaxis\": {\"title\": {\"text\": \"Rating\"}}, \"yaxis\": {\"title\": {\"text\": \"Number of Ratings\"}}},\n",
       "                        {\"responsive\": true}\n",
       "                    ).then(function(){\n",
       "                            \n",
       "var gd = document.getElementById('48cf4bd7-71b2-4c8f-8612-666355ed5053');\n",
       "var x = new MutationObserver(function (mutations, observer) {{\n",
       "        var display = window.getComputedStyle(gd).display;\n",
       "        if (!display || display === 'none') {{\n",
       "            console.log([gd, 'removed!']);\n",
       "            Plotly.purge(gd);\n",
       "            observer.disconnect();\n",
       "        }}\n",
       "}});\n",
       "\n",
       "// Listen for the removal of the full notebook cells\n",
       "var notebookContainer = gd.closest('#notebook-container');\n",
       "if (notebookContainer) {{\n",
       "    x.observe(notebookContainer, {childList: true});\n",
       "}}\n",
       "\n",
       "// Listen for the clearing of the current output cell\n",
       "var outputEl = gd.closest('.output');\n",
       "if (outputEl) {{\n",
       "    x.observe(outputEl, {childList: true});\n",
       "}}\n",
       "\n",
       "                        })\n",
       "                };\n",
       "                });\n",
       "            </script>\n",
       "        </div>"
      ]
     },
     "metadata": {},
     "output_type": "display_data"
    }
   ],
   "source": [
    "data = users_ratings_df['Book_Rating'].value_counts().sort_index(ascending=False)\n",
    "\n",
    "trace = go.Bar(x=data.index,\n",
    "              text = ['{:.2f}%'.format(val) for val in (data.values/users_ratings_df.shape[0]*100)],\n",
    "              textposition = 'auto',\n",
    "              textfont = dict(color='#000000'),\n",
    "              y = data.values,)\n",
    "\n",
    "layout = dict(title= 'Distribution of book ratings (training set)',\n",
    "              xaxis= dict(title='Rating'),\n",
    "              yaxis= dict(title= 'Number of Ratings'))\n",
    "\n",
    "fig = go.Figure(data=[trace], layout= layout)\n",
    "iplot(fig)"
   ]
  },
  {
   "cell_type": "markdown",
   "metadata": {},
   "source": [
    "#### As it seems except from the majority of the ratings (62,15%) which are implicit (rating = 0) and we don't care about them, the most ratings seem to be somewhere from 7 to 10."
   ]
  },
  {
   "cell_type": "code",
   "execution_count": 70,
   "metadata": {},
   "outputs": [
    {
     "data": {
      "image/png": "[encoded data removed]",
      "text/plain": [
       "<Figure size 432x288 with 1 Axes>"
      ]
     },
     "metadata": {
      "needs_background": "light"
     },
     "output_type": "display_data"
    }
   ],
   "source": [
    "ratings =explicit_booksRatings_train.Book_Rating.value_counts().sort_index()\n",
    "\n",
    "\n",
    "plt.bar(ratings.index, ratings.values)\n",
    "plt.xlabel('Rating')\n",
    "plt.ylabel('Number of Ratings')\n",
    "plt.xticks(range(1, 11))\n",
    "plt.show()"
   ]
  },
  {
   "cell_type": "markdown",
   "metadata": {},
   "source": [
    "*As it seems, the most of the ratings are good. Somewhere between 7-10. Impressive!*"
   ]
  },
  {
   "cell_type": "code",
   "execution_count": 71,
   "metadata": {},
   "outputs": [
    {
     "data": {
      "image/png": "[encoded data removed]",
      "text/plain": [
       "<Figure size 576x288 with 1 Axes>"
      ]
     },
     "metadata": {
      "needs_background": "light"
     },
     "output_type": "display_data"
    }
   ],
   "source": [
    "ax = explicit_booksRatings_train.boxplot('Book_Rating', vert=False, figsize=(8, 4), \n",
    "                            widths=0.3, showmeans=True, meanline=True)"
   ]
  },
  {
   "cell_type": "markdown",
   "metadata": {},
   "source": [
    "*Again.. we are able to observe the following:*\n",
    "*The Book_Rating variable is depicted with the horizontal line that is inside the box.*\n",
    "*The circles show us that rating 1,2,3 are outliers (not common).*\n",
    "*The distribution is concentrated on high ratings.*"
   ]
  },
  {
   "cell_type": "markdown",
   "metadata": {},
   "source": [
    "### Books Ranking (Test) Dataframe"
   ]
  },
  {
   "cell_type": "markdown",
   "metadata": {},
   "source": [
    "#### First of all it is good to knwo the types of the frame and how its rows look like. \n",
    "#### The truth is that we already know, because this set is similar to the training set which we have already explored but in order to be sure we are doing a small check."
   ]
  },
  {
   "cell_type": "code",
   "execution_count": 72,
   "metadata": {},
   "outputs": [
    {
     "data": {
      "text/plain": [
       "User-ID        int64 \n",
       "ISBN           object\n",
       "Book-Rating    int64 \n",
       "dtype: object"
      ]
     },
     "execution_count": 72,
     "metadata": {},
     "output_type": "execute_result"
    }
   ],
   "source": [
    "booksRatings_test.dtypes"
   ]
  },
  {
   "cell_type": "code",
   "execution_count": 73,
   "metadata": {},
   "outputs": [
    {
     "data": {
      "text/html": [
       "<div>\n",
       "<style scoped>\n",
       "    .dataframe tbody tr th:only-of-type {\n",
       "        vertical-align: middle;\n",
       "    }\n",
       "\n",
       "    .dataframe tbody tr th {\n",
       "        vertical-align: top;\n",
       "    }\n",
       "\n",
       "    .dataframe thead th {\n",
       "        text-align: right;\n",
       "    }\n",
       "</style>\n",
       "<table border=\"1\" class=\"dataframe\">\n",
       "  <thead>\n",
       "    <tr style=\"text-align: right;\">\n",
       "      <th></th>\n",
       "      <th>User_ID</th>\n",
       "      <th>ISBN</th>\n",
       "      <th>Book_Rating</th>\n",
       "    </tr>\n",
       "  </thead>\n",
       "  <tbody>\n",
       "    <tr>\n",
       "      <td>0</td>\n",
       "      <td>240144</td>\n",
       "      <td>0373280033</td>\n",
       "      <td>0</td>\n",
       "    </tr>\n",
       "    <tr>\n",
       "      <td>1</td>\n",
       "      <td>240144</td>\n",
       "      <td>0373288980</td>\n",
       "      <td>0</td>\n",
       "    </tr>\n",
       "    <tr>\n",
       "      <td>2</td>\n",
       "      <td>240144</td>\n",
       "      <td>0375401091</td>\n",
       "      <td>0</td>\n",
       "    </tr>\n",
       "    <tr>\n",
       "      <td>3</td>\n",
       "      <td>240144</td>\n",
       "      <td>0375415661</td>\n",
       "      <td>0</td>\n",
       "    </tr>\n",
       "    <tr>\n",
       "      <td>4</td>\n",
       "      <td>240144</td>\n",
       "      <td>037570924X</td>\n",
       "      <td>0</td>\n",
       "    </tr>\n",
       "  </tbody>\n",
       "</table>\n",
       "</div>"
      ],
      "text/plain": [
       "   User_ID        ISBN  Book_Rating\n",
       "0  240144   0373280033  0          \n",
       "1  240144   0373288980  0          \n",
       "2  240144   0375401091  0          \n",
       "3  240144   0375415661  0          \n",
       "4  240144   037570924X  0          "
      ]
     },
     "execution_count": 73,
     "metadata": {},
     "output_type": "execute_result"
    }
   ],
   "source": [
    "booksRatings_test.columns = booksRatings_test.columns.str.replace('-', '_')\n",
    "booksRatings_test.head()"
   ]
  },
  {
   "cell_type": "markdown",
   "metadata": {},
   "source": [
    "#### Now let's check if there are any NaN values inside this dataset"
   ]
  },
  {
   "cell_type": "code",
   "execution_count": 74,
   "metadata": {},
   "outputs": [
    {
     "data": {
      "text/plain": [
       "User_ID        0\n",
       "ISBN           0\n",
       "Book_Rating    0\n",
       "dtype: int64"
      ]
     },
     "execution_count": 74,
     "metadata": {},
     "output_type": "execute_result"
    }
   ],
   "source": [
    "booksRatings_test.isna().sum()"
   ]
  },
  {
   "cell_type": "markdown",
   "metadata": {},
   "source": [
    "*There are not any NaN values which is great!*"
   ]
  },
  {
   "cell_type": "markdown",
   "metadata": {},
   "source": [
    "#### Now let's find out how many unique users are there in this dataset. "
   ]
  },
  {
   "cell_type": "code",
   "execution_count": 75,
   "metadata": {},
   "outputs": [
    {
     "name": "stdout",
     "output_type": "stream",
     "text": [
      "Number of unique users: 13877/149781\n"
     ]
    }
   ],
   "source": [
    "print(\"Number of unique users: \" + str(booksRatings_test.User_ID.nunique()) + \"/\" + str(booksRatings_test.User_ID.count()))\n"
   ]
  },
  {
   "cell_type": "markdown",
   "metadata": {},
   "source": [
    "*Reminder: Number of unique users in train set who have rated atleast a book: 13877/999999*"
   ]
  },
  {
   "cell_type": "code",
   "execution_count": 76,
   "metadata": {},
   "outputs": [
    {
     "data": {
      "text/html": [
       "<div>\n",
       "<style scoped>\n",
       "    .dataframe tbody tr th:only-of-type {\n",
       "        vertical-align: middle;\n",
       "    }\n",
       "\n",
       "    .dataframe tbody tr th {\n",
       "        vertical-align: top;\n",
       "    }\n",
       "\n",
       "    .dataframe thead th {\n",
       "        text-align: right;\n",
       "    }\n",
       "</style>\n",
       "<table border=\"1\" class=\"dataframe\">\n",
       "  <thead>\n",
       "    <tr style=\"text-align: right;\">\n",
       "      <th></th>\n",
       "      <th>User_ID</th>\n",
       "      <th>ISBN</th>\n",
       "      <th>Book_Rating</th>\n",
       "    </tr>\n",
       "  </thead>\n",
       "  <tbody>\n",
       "    <tr>\n",
       "      <td>0</td>\n",
       "      <td>240144</td>\n",
       "      <td>0373280033</td>\n",
       "      <td>NaN</td>\n",
       "    </tr>\n",
       "    <tr>\n",
       "      <td>1</td>\n",
       "      <td>240144</td>\n",
       "      <td>0373288980</td>\n",
       "      <td>NaN</td>\n",
       "    </tr>\n",
       "    <tr>\n",
       "      <td>2</td>\n",
       "      <td>240144</td>\n",
       "      <td>0375401091</td>\n",
       "      <td>NaN</td>\n",
       "    </tr>\n",
       "    <tr>\n",
       "      <td>3</td>\n",
       "      <td>240144</td>\n",
       "      <td>0375415661</td>\n",
       "      <td>NaN</td>\n",
       "    </tr>\n",
       "    <tr>\n",
       "      <td>4</td>\n",
       "      <td>240144</td>\n",
       "      <td>037570924X</td>\n",
       "      <td>NaN</td>\n",
       "    </tr>\n",
       "  </tbody>\n",
       "</table>\n",
       "</div>"
      ],
      "text/plain": [
       "   User_ID        ISBN  Book_Rating\n",
       "0  240144   0373280033 NaN         \n",
       "1  240144   0373288980 NaN         \n",
       "2  240144   0375401091 NaN         \n",
       "3  240144   0375415661 NaN         \n",
       "4  240144   037570924X NaN         "
      ]
     },
     "execution_count": 76,
     "metadata": {},
     "output_type": "execute_result"
    }
   ],
   "source": [
    "# Replacing 0 from Book-Ratings with NaN in order to be more easily understandable. We van do this \n",
    "# because ratings are in this scope: [1,10].\n",
    "explicit_booksRatings_test = booksRatings_test.copy()\n",
    "explicit_booksRatings_test[\"Book_Rating\"] = explicit_booksRatings_test[\"Book_Rating\"].replace(to_replace =0, value = np.nan,  regex=True)\n",
    "explicit_booksRatings_test.head()\n"
   ]
  },
  {
   "cell_type": "code",
   "execution_count": 77,
   "metadata": {},
   "outputs": [
    {
     "name": "stdout",
     "output_type": "stream",
     "text": [
      "User_ID        int64  \n",
      "ISBN           object \n",
      "Book_Rating    float64\n",
      "dtype: object\n"
     ]
    }
   ],
   "source": [
    "print(explicit_booksRatings_test.dtypes)"
   ]
  },
  {
   "cell_type": "code",
   "execution_count": 78,
   "metadata": {},
   "outputs": [
    {
     "data": {
      "text/plain": [
       "count    54651.000000\n",
       "mean     7.609943    \n",
       "std      1.879792    \n",
       "min      1.000000    \n",
       "25%      7.000000    \n",
       "50%      8.000000    \n",
       "75%      9.000000    \n",
       "max      10.000000   \n",
       "Name: Book_Rating, dtype: float64"
      ]
     },
     "execution_count": 78,
     "metadata": {},
     "output_type": "execute_result"
    }
   ],
   "source": [
    "explicit_booksRatings_test[\"Book_Rating\"].describe()"
   ]
  },
  {
   "cell_type": "code",
   "execution_count": 79,
   "metadata": {},
   "outputs": [
    {
     "name": "stdout",
     "output_type": "stream",
     "text": [
      "Number of unique users who have rated atleast a book: 13877/149781\n"
     ]
    }
   ],
   "source": [
    "print(\"Number of unique users who have rated atleast a book: \" + str(explicit_booksRatings_test.User_ID.nunique()) + \"/\" + str(explicit_booksRatings_test.ISBN.count()))"
   ]
  },
  {
   "cell_type": "code",
   "execution_count": 80,
   "metadata": {},
   "outputs": [
    {
     "name": "stdout",
     "output_type": "stream",
     "text": [
      "Number of all rows: \n"
     ]
    },
    {
     "data": {
      "text/plain": [
       "(149781, 3)"
      ]
     },
     "execution_count": 80,
     "metadata": {},
     "output_type": "execute_result"
    }
   ],
   "source": [
    "print(\"Number of all rows: \")\n",
    "booksRatings_test.shape"
   ]
  },
  {
   "cell_type": "markdown",
   "metadata": {},
   "source": [
    "#### So only 54.651/149.781 ratings are not 0, which is the actual portion of ratings from users."
   ]
  },
  {
   "cell_type": "code",
   "execution_count": 81,
   "metadata": {},
   "outputs": [
    {
     "data": {
      "text/html": [
       "<div>\n",
       "<style scoped>\n",
       "    .dataframe tbody tr th:only-of-type {\n",
       "        vertical-align: middle;\n",
       "    }\n",
       "\n",
       "    .dataframe tbody tr th {\n",
       "        vertical-align: top;\n",
       "    }\n",
       "\n",
       "    .dataframe thead th {\n",
       "        text-align: right;\n",
       "    }\n",
       "</style>\n",
       "<table border=\"1\" class=\"dataframe\">\n",
       "  <thead>\n",
       "    <tr style=\"text-align: right;\">\n",
       "      <th></th>\n",
       "      <th>User_ID</th>\n",
       "      <th>ISBN</th>\n",
       "    </tr>\n",
       "  </thead>\n",
       "  <tbody>\n",
       "    <tr>\n",
       "      <td>count</td>\n",
       "      <td>149781</td>\n",
       "      <td>149781</td>\n",
       "    </tr>\n",
       "    <tr>\n",
       "      <td>unique</td>\n",
       "      <td>13877</td>\n",
       "      <td>86259</td>\n",
       "    </tr>\n",
       "    <tr>\n",
       "      <td>top</td>\n",
       "      <td>245963</td>\n",
       "      <td>0971880107</td>\n",
       "    </tr>\n",
       "    <tr>\n",
       "      <td>freq</td>\n",
       "      <td>2507</td>\n",
       "      <td>359</td>\n",
       "    </tr>\n",
       "  </tbody>\n",
       "</table>\n",
       "</div>"
      ],
      "text/plain": [
       "       User_ID        ISBN\n",
       "count   149781  149781    \n",
       "unique  13877   86259     \n",
       "top     245963  0971880107\n",
       "freq    2507    359       "
      ]
     },
     "execution_count": 81,
     "metadata": {},
     "output_type": "execute_result"
    }
   ],
   "source": [
    "explicit_booksRatings_test.rename(columns = {'User-ID':'User_ID'}, inplace=True)\n",
    "explicit_booksRatings_test['User_ID'] = booksRatings_test['User_ID'].astype(str)\n",
    "explicit_booksRatings_test.loc[:, 'User_ID':'ISBN'].describe()"
   ]
  },
  {
   "cell_type": "markdown",
   "metadata": {},
   "source": [
    "*As is seems the testing dataset is a lot smaller than the training set. This is because fewer unique users and books exist in this. This is good, because we will have a serious training set in order to be able to wait for some serious predictions for the testing set.*"
   ]
  },
  {
   "cell_type": "markdown",
   "metadata": {},
   "source": [
    "## Unifying datasets"
   ]
  },
  {
   "cell_type": "markdown",
   "metadata": {},
   "source": [
    "###  Unifying books' and books' ratings datasets"
   ]
  },
  {
   "cell_type": "code",
   "execution_count": 82,
   "metadata": {},
   "outputs": [],
   "source": [
    "# Train Dataset\n",
    "onlyratings_booksRatings_train = explicit_booksRatings_train[explicit_booksRatings_train['Book_Rating'].notna()]\n",
    "books_with_ratings_train = onlyratings_booksRatings_train.join(books.set_index('ISBN'), on='ISBN')\n",
    "\n",
    "# Test Dataset\n",
    "onlyratings_booksRatings_test = explicit_booksRatings_test[explicit_booksRatings_test['Book_Rating'].notna()]\n",
    "books_with_ratings_test = onlyratings_booksRatings_test.join(books.set_index('ISBN'), on='ISBN')\n",
    "\n"
   ]
  },
  {
   "cell_type": "code",
   "execution_count": 83,
   "metadata": {
    "scrolled": true
   },
   "outputs": [
    {
     "data": {
      "text/html": [
       "<div>\n",
       "<style scoped>\n",
       "    .dataframe tbody tr th:only-of-type {\n",
       "        vertical-align: middle;\n",
       "    }\n",
       "\n",
       "    .dataframe tbody tr th {\n",
       "        vertical-align: top;\n",
       "    }\n",
       "\n",
       "    .dataframe thead th {\n",
       "        text-align: right;\n",
       "    }\n",
       "</style>\n",
       "<table border=\"1\" class=\"dataframe\">\n",
       "  <thead>\n",
       "    <tr style=\"text-align: right;\">\n",
       "      <th></th>\n",
       "      <th>User_ID</th>\n",
       "      <th>ISBN</th>\n",
       "      <th>Book_Rating</th>\n",
       "      <th>BookTitle</th>\n",
       "      <th>BookAuthor</th>\n",
       "      <th>YearOfPublication</th>\n",
       "      <th>Publisher</th>\n",
       "    </tr>\n",
       "  </thead>\n",
       "  <tbody>\n",
       "    <tr>\n",
       "      <td>1</td>\n",
       "      <td>276726</td>\n",
       "      <td>0155061224</td>\n",
       "      <td>5.0</td>\n",
       "      <td>Rites of Passage</td>\n",
       "      <td>Judith Rae</td>\n",
       "      <td>2001.0</td>\n",
       "      <td>Heinle</td>\n",
       "    </tr>\n",
       "    <tr>\n",
       "      <td>3</td>\n",
       "      <td>276729</td>\n",
       "      <td>052165615X</td>\n",
       "      <td>3.0</td>\n",
       "      <td>Help!: Level 1</td>\n",
       "      <td>Philip Prowse</td>\n",
       "      <td>1999.0</td>\n",
       "      <td>Cambridge University Press</td>\n",
       "    </tr>\n",
       "    <tr>\n",
       "      <td>4</td>\n",
       "      <td>276729</td>\n",
       "      <td>0521795028</td>\n",
       "      <td>6.0</td>\n",
       "      <td>The Amsterdam Connection : Level 4 (Cambridge English Readers)</td>\n",
       "      <td>Sue Leather</td>\n",
       "      <td>2001.0</td>\n",
       "      <td>Cambridge University Press</td>\n",
       "    </tr>\n",
       "    <tr>\n",
       "      <td>6</td>\n",
       "      <td>276736</td>\n",
       "      <td>3257224281</td>\n",
       "      <td>8.0</td>\n",
       "      <td>NaN</td>\n",
       "      <td>NaN</td>\n",
       "      <td>NaN</td>\n",
       "      <td>NaN</td>\n",
       "    </tr>\n",
       "    <tr>\n",
       "      <td>7</td>\n",
       "      <td>276737</td>\n",
       "      <td>0600570967</td>\n",
       "      <td>6.0</td>\n",
       "      <td>NaN</td>\n",
       "      <td>NaN</td>\n",
       "      <td>NaN</td>\n",
       "      <td>NaN</td>\n",
       "    </tr>\n",
       "  </tbody>\n",
       "</table>\n",
       "</div>"
      ],
      "text/plain": [
       "  User_ID        ISBN  Book_Rating  \\\n",
       "1  276726  0155061224  5.0           \n",
       "3  276729  052165615X  3.0           \n",
       "4  276729  0521795028  6.0           \n",
       "6  276736  3257224281  8.0           \n",
       "7  276737  0600570967  6.0           \n",
       "\n",
       "                                                        BookTitle  \\\n",
       "1  Rites of Passage                                                 \n",
       "3  Help!: Level 1                                                   \n",
       "4  The Amsterdam Connection : Level 4 (Cambridge English Readers)   \n",
       "6  NaN                                                              \n",
       "7  NaN                                                              \n",
       "\n",
       "      BookAuthor  YearOfPublication                   Publisher  \n",
       "1  Judith Rae     2001.0             Heinle                      \n",
       "3  Philip Prowse  1999.0             Cambridge University Press  \n",
       "4  Sue Leather    2001.0             Cambridge University Press  \n",
       "6  NaN           NaN                 NaN                         \n",
       "7  NaN           NaN                 NaN                         "
      ]
     },
     "execution_count": 83,
     "metadata": {},
     "output_type": "execute_result"
    }
   ],
   "source": [
    "books_with_ratings_train.head()"
   ]
  },
  {
   "cell_type": "code",
   "execution_count": 84,
   "metadata": {},
   "outputs": [
    {
     "data": {
      "text/plain": [
       "(379020, 7)"
      ]
     },
     "execution_count": 84,
     "metadata": {},
     "output_type": "execute_result"
    }
   ],
   "source": [
    "books_with_ratings_train.shape"
   ]
  },
  {
   "cell_type": "code",
   "execution_count": 85,
   "metadata": {},
   "outputs": [
    {
     "data": {
      "text/plain": [
       "array([[<matplotlib.axes._subplots.AxesSubplot object at 0x1a2435b3d0>]],\n",
       "      dtype=object)"
      ]
     },
     "execution_count": 85,
     "metadata": {},
     "output_type": "execute_result"
    },
    {
     "data": {
      "image/png": "[encoded data removed]",
      "text/plain": [
       "<Figure size 432x288 with 1 Axes>"
      ]
     },
     "metadata": {
      "needs_background": "light"
     },
     "output_type": "display_data"
    }
   ],
   "source": [
    "users_ratings_frequency = pd.DataFrame(books_with_ratings_train.groupby(['User_ID']).size(), columns = [\"Number_of_ratings\"])\n",
    "users_ratings_frequency.hist(bins=np.arange(0,9)+0.5, ec=\"k\")"
   ]
  },
  {
   "cell_type": "markdown",
   "metadata": {},
   "source": [
    "*It is really obvious that the most usershave rated only one book.*"
   ]
  },
  {
   "cell_type": "markdown",
   "metadata": {},
   "source": [
    "#### Now let's check if after the \"join\" we have any books without titles...\n"
   ]
  },
  {
   "cell_type": "code",
   "execution_count": 86,
   "metadata": {},
   "outputs": [
    {
     "name": "stdout",
     "output_type": "stream",
     "text": [
      "Number of books with raitings without title in Train Dataset: 43814\n",
      "Number of books with raitings without title in Test Dataset: 6014\n"
     ]
    }
   ],
   "source": [
    "# Train Dataset\n",
    "print(\"Number of books with raitings without title in Train Dataset: \" + str(books_with_ratings_train.BookTitle.isnull().sum()))\n",
    "\n",
    "# Test Dataset\n",
    "print(\"Number of books with raitings without title in Test Dataset: \" + str(books_with_ratings_test.BookTitle.isnull().sum()))"
   ]
  },
  {
   "cell_type": "markdown",
   "metadata": {},
   "source": [
    "*Indeed, there are some books in the \"books_with_ratings\" which have not a title. We have to remove them immidiately from the dataset because later they will be a problem for us. If we don't have a title of a book we cannot recommend it.*"
   ]
  },
  {
   "cell_type": "code",
   "execution_count": 87,
   "metadata": {},
   "outputs": [],
   "source": [
    "# Removing rows with missing title books\n",
    "\n",
    "# Train Dataset\n",
    "books_with_ratings_train.dropna(subset=['BookTitle'], inplace=True) \n",
    "\n",
    "# Test Dataset\n",
    "books_with_ratings_test.dropna(subset=['BookTitle'], inplace=True) \n",
    "\n"
   ]
  },
  {
   "cell_type": "code",
   "execution_count": 88,
   "metadata": {},
   "outputs": [
    {
     "data": {
      "text/plain": [
       "User_ID              0\n",
       "ISBN                 0\n",
       "Book_Rating          0\n",
       "BookTitle            0\n",
       "BookAuthor           1\n",
       "YearOfPublication    0\n",
       "Publisher            2\n",
       "dtype: int64"
      ]
     },
     "execution_count": 88,
     "metadata": {},
     "output_type": "execute_result"
    }
   ],
   "source": [
    "books_with_ratings_train.isna().sum()"
   ]
  },
  {
   "cell_type": "code",
   "execution_count": 89,
   "metadata": {},
   "outputs": [
    {
     "data": {
      "text/plain": [
       "User_ID              0\n",
       "ISBN                 0\n",
       "Book_Rating          0\n",
       "BookTitle            0\n",
       "BookAuthor           0\n",
       "YearOfPublication    0\n",
       "Publisher            0\n",
       "dtype: int64"
      ]
     },
     "execution_count": 89,
     "metadata": {},
     "output_type": "execute_result"
    }
   ],
   "source": [
    "books_with_ratings_test.isna().sum()"
   ]
  },
  {
   "cell_type": "code",
   "execution_count": 90,
   "metadata": {},
   "outputs": [
    {
     "name": "stdout",
     "output_type": "stream",
     "text": [
      "There are 124295 unique book titles with ratings in Train Dtaset.\n",
      "There are 29950 unique book titles with ratings in Test Dtaset.\n"
     ]
    }
   ],
   "source": [
    "# Train Dataset\n",
    "print(\"There are \" + str(books_with_ratings_train.BookTitle.nunique()) + \" unique book titles with ratings in Train Dtaset.\")\n",
    "\n",
    "# Test Dataset\n",
    "print(\"There are \" + str(books_with_ratings_test.BookTitle.nunique()) + \" unique book titles with ratings in Test Dtaset.\")"
   ]
  },
  {
   "cell_type": "code",
   "execution_count": 91,
   "metadata": {},
   "outputs": [
    {
     "data": {
      "text/plain": [
       "(335206, 7)"
      ]
     },
     "execution_count": 91,
     "metadata": {},
     "output_type": "execute_result"
    }
   ],
   "source": [
    "# Shape of Train Dataset\n",
    "books_with_ratings_train.shape"
   ]
  },
  {
   "cell_type": "code",
   "execution_count": 92,
   "metadata": {},
   "outputs": [
    {
     "data": {
      "text/plain": [
       "(48637, 7)"
      ]
     },
     "execution_count": 92,
     "metadata": {},
     "output_type": "execute_result"
    }
   ],
   "source": [
    "# Shape of Test Dataset\n",
    "books_with_ratings_test.shape"
   ]
  },
  {
   "cell_type": "code",
   "execution_count": 93,
   "metadata": {},
   "outputs": [
    {
     "data": {
      "text/html": [
       "<div>\n",
       "<style scoped>\n",
       "    .dataframe tbody tr th:only-of-type {\n",
       "        vertical-align: middle;\n",
       "    }\n",
       "\n",
       "    .dataframe tbody tr th {\n",
       "        vertical-align: top;\n",
       "    }\n",
       "\n",
       "    .dataframe thead th {\n",
       "        text-align: right;\n",
       "    }\n",
       "</style>\n",
       "<table border=\"1\" class=\"dataframe\">\n",
       "  <thead>\n",
       "    <tr style=\"text-align: right;\">\n",
       "      <th></th>\n",
       "      <th>Book_Rating</th>\n",
       "      <th>YearOfPublication</th>\n",
       "    </tr>\n",
       "  </thead>\n",
       "  <tbody>\n",
       "    <tr>\n",
       "      <td>Book_Rating</td>\n",
       "      <td>1.000000</td>\n",
       "      <td>-0.007433</td>\n",
       "    </tr>\n",
       "    <tr>\n",
       "      <td>YearOfPublication</td>\n",
       "      <td>-0.007433</td>\n",
       "      <td>1.000000</td>\n",
       "    </tr>\n",
       "  </tbody>\n",
       "</table>\n",
       "</div>"
      ],
      "text/plain": [
       "                   Book_Rating  YearOfPublication\n",
       "Book_Rating        1.000000    -0.007433         \n",
       "YearOfPublication -0.007433     1.000000         "
      ]
     },
     "execution_count": 93,
     "metadata": {},
     "output_type": "execute_result"
    }
   ],
   "source": [
    "books_with_ratings_train.corr()"
   ]
  },
  {
   "cell_type": "markdown",
   "metadata": {},
   "source": [
    "*Year of publication of a book does not seem to have a strong correlation with Book Rating so we will not use this metric for our predictions later.*"
   ]
  },
  {
   "cell_type": "markdown",
   "metadata": {},
   "source": [
    "#### This is a good moment to take a quick look at the average ratings of the books."
   ]
  },
  {
   "cell_type": "markdown",
   "metadata": {},
   "source": [
    "#### Lets find the top 10 rated books.\n",
    "#### We will keep only books (let's say) with at least 30 ratings, because if we take into concideration even books with 1 or 2 ratings, then it is likely for the top-10 to be full of 10s which probably won't be representative of the truth."
   ]
  },
  {
   "cell_type": "code",
   "execution_count": 94,
   "metadata": {},
   "outputs": [
    {
     "data": {
      "text/plain": [
       "BookTitle\n",
       "The Two Towers (The Lord of the Rings, Part 2)            9.328125\n",
       "The Return of the King (The Lord of the Rings, Part 3)    9.271739\n",
       "The Hobbit                                                9.204545\n",
       "Love You Forever                                          9.187500\n",
       "Charlotte's Web (Trophy Newbery)                          9.155172\n",
       "The Stand (The Complete and Uncut Edition)                9.121212\n",
       "Lonesome Dove                                             9.121212\n",
       "Harry Potter and the Goblet of Fire (Book 4)              9.117647\n",
       "Harry Potter and the Prisoner of Azkaban (Book 3)         9.108225\n",
       "84 Charing Cross Road                                     9.075472\n",
       "Name: Book_Rating, dtype: float64"
      ]
     },
     "execution_count": 94,
     "metadata": {},
     "output_type": "execute_result"
    }
   ],
   "source": [
    "counter_ratings = books_with_ratings_train.BookTitle.value_counts()\n",
    "mean_rtg = books_with_ratings_train[books_with_ratings_train.BookTitle.isin(counter_ratings[counter_ratings>30].index)].groupby('BookTitle')['Book_Rating'].mean()\n",
    "mean_rtg.sort_values(ascending=False)[:10] "
   ]
  },
  {
   "cell_type": "markdown",
   "metadata": {},
   "source": [
    "#### And as about the worst 10 books..."
   ]
  },
  {
   "cell_type": "code",
   "execution_count": 95,
   "metadata": {
    "scrolled": true
   },
   "outputs": [
    {
     "data": {
      "text/plain": [
       "BookTitle\n",
       "Dr. Atkins' New Diet Revolution    6.500000\n",
       "My Gal Sunday                      6.468085\n",
       "The Sky Is Falling                 6.378378\n",
       "The Little Friend                  6.325000\n",
       "Sex &amp; the City                 6.222222\n",
       "Violin                             5.921053\n",
       "4 Blondes                          5.634146\n",
       "Four Blondes                       5.533333\n",
       "Isle of Dogs                       5.356322\n",
       "Wild Animus                        4.461538\n",
       "Name: Book_Rating, dtype: float64"
      ]
     },
     "execution_count": 95,
     "metadata": {},
     "output_type": "execute_result"
    }
   ],
   "source": [
    "mean_rtg.sort_values(ascending=False)[-10:]"
   ]
  },
  {
   "cell_type": "markdown",
   "metadata": {},
   "source": [
    "*So...in general we can see that the average ratings of the books are quit good. The worst average rating is 4.46 for books with over 29 ratings and then it keeps going up to 9.33. Intresting!*"
   ]
  },
  {
   "cell_type": "markdown",
   "metadata": {},
   "source": [
    "### Unifying books_with_ratings and users' datasets"
   ]
  },
  {
   "cell_type": "code",
   "execution_count": null,
   "metadata": {},
   "outputs": [],
   "source": []
  },
  {
   "cell_type": "code",
   "execution_count": 96,
   "metadata": {
    "scrolled": true
   },
   "outputs": [
    {
     "data": {
      "text/html": [
       "<div>\n",
       "<style scoped>\n",
       "    .dataframe tbody tr th:only-of-type {\n",
       "        vertical-align: middle;\n",
       "    }\n",
       "\n",
       "    .dataframe tbody tr th {\n",
       "        vertical-align: top;\n",
       "    }\n",
       "\n",
       "    .dataframe thead th {\n",
       "        text-align: right;\n",
       "    }\n",
       "</style>\n",
       "<table border=\"1\" class=\"dataframe\">\n",
       "  <thead>\n",
       "    <tr style=\"text-align: right;\">\n",
       "      <th></th>\n",
       "      <th>User_ID</th>\n",
       "      <th>ISBN</th>\n",
       "      <th>Book_Rating</th>\n",
       "      <th>BookTitle</th>\n",
       "      <th>BookAuthor</th>\n",
       "      <th>YearOfPublication</th>\n",
       "      <th>Publisher</th>\n",
       "      <th>Age</th>\n",
       "      <th>City</th>\n",
       "      <th>Region</th>\n",
       "      <th>Country</th>\n",
       "    </tr>\n",
       "  </thead>\n",
       "  <tbody>\n",
       "    <tr>\n",
       "      <td>1</td>\n",
       "      <td>276726</td>\n",
       "      <td>0155061224</td>\n",
       "      <td>5.0</td>\n",
       "      <td>Rites of Passage</td>\n",
       "      <td>Judith Rae</td>\n",
       "      <td>2001.0</td>\n",
       "      <td>Heinle</td>\n",
       "      <td>NaN</td>\n",
       "      <td>seattle</td>\n",
       "      <td>washington</td>\n",
       "      <td>usa</td>\n",
       "    </tr>\n",
       "    <tr>\n",
       "      <td>3</td>\n",
       "      <td>276729</td>\n",
       "      <td>052165615X</td>\n",
       "      <td>3.0</td>\n",
       "      <td>Help!: Level 1</td>\n",
       "      <td>Philip Prowse</td>\n",
       "      <td>1999.0</td>\n",
       "      <td>Cambridge University Press</td>\n",
       "      <td>16.0</td>\n",
       "      <td>rijeka</td>\n",
       "      <td>n/a</td>\n",
       "      <td>croatia</td>\n",
       "    </tr>\n",
       "    <tr>\n",
       "      <td>4</td>\n",
       "      <td>276729</td>\n",
       "      <td>0521795028</td>\n",
       "      <td>6.0</td>\n",
       "      <td>The Amsterdam Connection : Level 4 (Cambridge English Readers)</td>\n",
       "      <td>Sue Leather</td>\n",
       "      <td>2001.0</td>\n",
       "      <td>Cambridge University Press</td>\n",
       "      <td>16.0</td>\n",
       "      <td>rijeka</td>\n",
       "      <td>n/a</td>\n",
       "      <td>croatia</td>\n",
       "    </tr>\n",
       "    <tr>\n",
       "      <td>8</td>\n",
       "      <td>276744</td>\n",
       "      <td>038550120X</td>\n",
       "      <td>7.0</td>\n",
       "      <td>A Painted House</td>\n",
       "      <td>JOHN GRISHAM</td>\n",
       "      <td>2001.0</td>\n",
       "      <td>Doubleday</td>\n",
       "      <td>NaN</td>\n",
       "      <td>torrance</td>\n",
       "      <td>california</td>\n",
       "      <td>usa</td>\n",
       "    </tr>\n",
       "    <tr>\n",
       "      <td>16</td>\n",
       "      <td>276747</td>\n",
       "      <td>0060517794</td>\n",
       "      <td>9.0</td>\n",
       "      <td>Little Altars Everywhere</td>\n",
       "      <td>Rebecca Wells</td>\n",
       "      <td>2003.0</td>\n",
       "      <td>HarperTorch</td>\n",
       "      <td>25.0</td>\n",
       "      <td>iowa city</td>\n",
       "      <td>iowa</td>\n",
       "      <td>usa</td>\n",
       "    </tr>\n",
       "  </tbody>\n",
       "</table>\n",
       "</div>"
      ],
      "text/plain": [
       "    User_ID        ISBN  Book_Rating  \\\n",
       "1   276726   0155061224  5.0           \n",
       "3   276729   052165615X  3.0           \n",
       "4   276729   0521795028  6.0           \n",
       "8   276744   038550120X  7.0           \n",
       "16  276747   0060517794  9.0           \n",
       "\n",
       "                                                         BookTitle  \\\n",
       "1   Rites of Passage                                                 \n",
       "3   Help!: Level 1                                                   \n",
       "4   The Amsterdam Connection : Level 4 (Cambridge English Readers)   \n",
       "8   A Painted House                                                  \n",
       "16  Little Altars Everywhere                                         \n",
       "\n",
       "       BookAuthor  YearOfPublication                   Publisher   Age  \\\n",
       "1   Judith Rae     2001.0             Heinle                     NaN     \n",
       "3   Philip Prowse  1999.0             Cambridge University Press  16.0   \n",
       "4   Sue Leather    2001.0             Cambridge University Press  16.0   \n",
       "8   JOHN GRISHAM   2001.0             Doubleday                  NaN     \n",
       "16  Rebecca Wells  2003.0             HarperTorch                 25.0   \n",
       "\n",
       "         City       Region   Country  \n",
       "1   seattle     washington   usa      \n",
       "3   rijeka      n/a          croatia  \n",
       "4   rijeka      n/a          croatia  \n",
       "8   torrance    california   usa      \n",
       "16  iowa city   iowa         usa      "
      ]
     },
     "execution_count": 96,
     "metadata": {},
     "output_type": "execute_result"
    }
   ],
   "source": [
    "# Train Dataset\n",
    "books_with_ratings_train['User_ID'] = books_with_ratings_train['User_ID'].astype(int)\n",
    "users_books_with_ratings_train = books_with_ratings_train.join(new_users.set_index('User_ID'), on='User_ID')\n",
    "users_books_with_ratings_train.head()"
   ]
  },
  {
   "cell_type": "code",
   "execution_count": 97,
   "metadata": {},
   "outputs": [
    {
     "data": {
      "text/html": [
       "<div>\n",
       "<style scoped>\n",
       "    .dataframe tbody tr th:only-of-type {\n",
       "        vertical-align: middle;\n",
       "    }\n",
       "\n",
       "    .dataframe tbody tr th {\n",
       "        vertical-align: top;\n",
       "    }\n",
       "\n",
       "    .dataframe thead th {\n",
       "        text-align: right;\n",
       "    }\n",
       "</style>\n",
       "<table border=\"1\" class=\"dataframe\">\n",
       "  <thead>\n",
       "    <tr style=\"text-align: right;\">\n",
       "      <th></th>\n",
       "      <th>User_ID</th>\n",
       "      <th>ISBN</th>\n",
       "      <th>Book_Rating</th>\n",
       "      <th>BookTitle</th>\n",
       "      <th>BookAuthor</th>\n",
       "      <th>YearOfPublication</th>\n",
       "      <th>Publisher</th>\n",
       "      <th>Age</th>\n",
       "      <th>City</th>\n",
       "      <th>Region</th>\n",
       "      <th>Country</th>\n",
       "    </tr>\n",
       "  </thead>\n",
       "  <tbody>\n",
       "    <tr>\n",
       "      <td>5</td>\n",
       "      <td>240144</td>\n",
       "      <td>0375815260</td>\n",
       "      <td>7.0</td>\n",
       "      <td>Charlie and the Chocolate Factory</td>\n",
       "      <td>ROALD DAHL</td>\n",
       "      <td>2001.0</td>\n",
       "      <td>Knopf Books for Young Readers</td>\n",
       "      <td>34.0</td>\n",
       "      <td>muskego</td>\n",
       "      <td>wisconsin</td>\n",
       "      <td>usa</td>\n",
       "    </tr>\n",
       "    <tr>\n",
       "      <td>21</td>\n",
       "      <td>240144</td>\n",
       "      <td>038073186X</td>\n",
       "      <td>7.0</td>\n",
       "      <td>Shutter Island</td>\n",
       "      <td>Dennis Lehane</td>\n",
       "      <td>2004.0</td>\n",
       "      <td>HarperTorch</td>\n",
       "      <td>34.0</td>\n",
       "      <td>muskego</td>\n",
       "      <td>wisconsin</td>\n",
       "      <td>usa</td>\n",
       "    </tr>\n",
       "    <tr>\n",
       "      <td>25</td>\n",
       "      <td>240144</td>\n",
       "      <td>0380782391</td>\n",
       "      <td>8.0</td>\n",
       "      <td>Larceny and Old Lace (Den of Antiquity)</td>\n",
       "      <td>Tamar Myers</td>\n",
       "      <td>1996.0</td>\n",
       "      <td>Avon</td>\n",
       "      <td>34.0</td>\n",
       "      <td>muskego</td>\n",
       "      <td>wisconsin</td>\n",
       "      <td>usa</td>\n",
       "    </tr>\n",
       "    <tr>\n",
       "      <td>26</td>\n",
       "      <td>240144</td>\n",
       "      <td>0380784491</td>\n",
       "      <td>8.0</td>\n",
       "      <td>Murder Runs in the Family: A Southern Sisters Mystery</td>\n",
       "      <td>Anne George</td>\n",
       "      <td>1997.0</td>\n",
       "      <td>Avon</td>\n",
       "      <td>34.0</td>\n",
       "      <td>muskego</td>\n",
       "      <td>wisconsin</td>\n",
       "      <td>usa</td>\n",
       "    </tr>\n",
       "    <tr>\n",
       "      <td>28</td>\n",
       "      <td>240144</td>\n",
       "      <td>0380788217</td>\n",
       "      <td>9.0</td>\n",
       "      <td>Accessory to Murder: A Brenda Midnight Mystery (Brenda Midnight Mysteries)</td>\n",
       "      <td>Barbara Jaye Wilson</td>\n",
       "      <td>1998.0</td>\n",
       "      <td>Avon Books</td>\n",
       "      <td>34.0</td>\n",
       "      <td>muskego</td>\n",
       "      <td>wisconsin</td>\n",
       "      <td>usa</td>\n",
       "    </tr>\n",
       "  </tbody>\n",
       "</table>\n",
       "</div>"
      ],
      "text/plain": [
       "    User_ID        ISBN  Book_Rating  \\\n",
       "5   240144   0375815260  7.0           \n",
       "21  240144   038073186X  7.0           \n",
       "25  240144   0380782391  8.0           \n",
       "26  240144   0380784491  8.0           \n",
       "28  240144   0380788217  9.0           \n",
       "\n",
       "                                                                     BookTitle  \\\n",
       "5   Charlie and the Chocolate Factory                                            \n",
       "21  Shutter Island                                                               \n",
       "25  Larceny and Old Lace (Den of Antiquity)                                      \n",
       "26  Murder Runs in the Family: A Southern Sisters Mystery                        \n",
       "28  Accessory to Murder: A Brenda Midnight Mystery (Brenda Midnight Mysteries)   \n",
       "\n",
       "             BookAuthor  YearOfPublication                      Publisher  \\\n",
       "5   ROALD DAHL           2001.0             Knopf Books for Young Readers   \n",
       "21  Dennis Lehane        2004.0             HarperTorch                     \n",
       "25  Tamar Myers          1996.0             Avon                            \n",
       "26  Anne George          1997.0             Avon                            \n",
       "28  Barbara Jaye Wilson  1998.0             Avon Books                      \n",
       "\n",
       "     Age     City      Region Country  \n",
       "5   34.0  muskego   wisconsin   usa    \n",
       "21  34.0  muskego   wisconsin   usa    \n",
       "25  34.0  muskego   wisconsin   usa    \n",
       "26  34.0  muskego   wisconsin   usa    \n",
       "28  34.0  muskego   wisconsin   usa    "
      ]
     },
     "execution_count": 97,
     "metadata": {},
     "output_type": "execute_result"
    }
   ],
   "source": [
    "# Test Dataset\n",
    "books_with_ratings_test['User_ID'] = books_with_ratings_test['User_ID'].astype(int)\n",
    "users_books_with_ratings_test = books_with_ratings_test.join(new_users.set_index('User_ID'), on='User_ID')\n",
    "users_books_with_ratings_test.head()"
   ]
  },
  {
   "cell_type": "code",
   "execution_count": 98,
   "metadata": {},
   "outputs": [
    {
     "data": {
      "text/plain": [
       "User_ID              int64  \n",
       "ISBN                 object \n",
       "Book_Rating          float64\n",
       "BookTitle            object \n",
       "BookAuthor           object \n",
       "YearOfPublication    float64\n",
       "Publisher            object \n",
       "Age                  float64\n",
       "City                 object \n",
       "Region               object \n",
       "Country              object \n",
       "dtype: object"
      ]
     },
     "execution_count": 98,
     "metadata": {},
     "output_type": "execute_result"
    }
   ],
   "source": [
    "# Train Dataset\n",
    "users_books_with_ratings_train.dtypes"
   ]
  },
  {
   "cell_type": "code",
   "execution_count": 99,
   "metadata": {},
   "outputs": [
    {
     "data": {
      "text/plain": [
       "User_ID              int64  \n",
       "ISBN                 object \n",
       "Book_Rating          float64\n",
       "BookTitle            object \n",
       "BookAuthor           object \n",
       "YearOfPublication    float64\n",
       "Publisher            object \n",
       "Age                  float64\n",
       "City                 object \n",
       "Region               object \n",
       "Country              object \n",
       "dtype: object"
      ]
     },
     "execution_count": 99,
     "metadata": {},
     "output_type": "execute_result"
    }
   ],
   "source": [
    "# Test Dataset\n",
    "users_books_with_ratings_test.dtypes"
   ]
  },
  {
   "cell_type": "code",
   "execution_count": 100,
   "metadata": {},
   "outputs": [
    {
     "data": {
      "text/plain": [
       "User_ID              0     \n",
       "ISBN                 0     \n",
       "Book_Rating          0     \n",
       "BookTitle            0     \n",
       "BookAuthor           1     \n",
       "YearOfPublication    0     \n",
       "Publisher            2     \n",
       "Age                  101572\n",
       "City                 114   \n",
       "Region               404   \n",
       "Country              9057  \n",
       "dtype: int64"
      ]
     },
     "execution_count": 100,
     "metadata": {},
     "output_type": "execute_result"
    }
   ],
   "source": [
    "# Train Dataset\n",
    "users_books_with_ratings_train.isna().sum()"
   ]
  },
  {
   "cell_type": "code",
   "execution_count": 101,
   "metadata": {},
   "outputs": [
    {
     "data": {
      "text/plain": [
       "User_ID              0    \n",
       "ISBN                 0    \n",
       "Book_Rating          0    \n",
       "BookTitle            0    \n",
       "BookAuthor           0    \n",
       "YearOfPublication    0    \n",
       "Publisher            0    \n",
       "Age                  14253\n",
       "City                 4    \n",
       "Region               11   \n",
       "Country              1423 \n",
       "dtype: int64"
      ]
     },
     "execution_count": 101,
     "metadata": {},
     "output_type": "execute_result"
    }
   ],
   "source": [
    "# Test Dataset\n",
    "users_books_with_ratings_test.isna().sum()"
   ]
  },
  {
   "cell_type": "markdown",
   "metadata": {},
   "source": [
    "*Although we have some missing values, the important columns of User_ID, ISBN, and Book Rating do not have any unknown values, which is good!*"
   ]
  },
  {
   "cell_type": "markdown",
   "metadata": {},
   "source": [
    "## Recommendation Systems"
   ]
  },
  {
   "cell_type": "markdown",
   "metadata": {},
   "source": [
    "## Suprprise\n",
    "*Surprise is designed only for explicit documents, so we will not consider 0 rated books in neither of the training and testing sets.*"
   ]
  },
  {
   "cell_type": "code",
   "execution_count": 102,
   "metadata": {},
   "outputs": [],
   "source": [
    "from surprise.model_selection import train_test_split\n",
    "from surprise.model_selection import PredefinedKFold\n"
   ]
  },
  {
   "cell_type": "markdown",
   "metadata": {},
   "source": [
    "#### First of all we are going to reduce the size of the dataset. We will do this by filtering out the most rarely rated books as well as the users who rarely rating. I decided to only keep books with more than 5 ratings and users who have rated more than 5 books. I did not want to make this minimun number bigger than 5, because as we have already seen from the plots above, the most users have given fewer that 10 ratings, so if we drop all of them of, we will lose an imoprtant amount of the distribution. Thus our estimations will not represent the reallity so much."
   ]
  },
  {
   "cell_type": "code",
   "execution_count": 103,
   "metadata": {},
   "outputs": [
    {
     "name": "stdout",
     "output_type": "stream",
     "text": [
      "Original training dataframe shape: (335206, 11)\n",
      "Modified training dataframe shape: (106525, 3)\n"
     ]
    }
   ],
   "source": [
    "min_book_ratings=5\n",
    "filter_books = users_books_with_ratings_train['ISBN'].value_counts() > min_book_ratings\n",
    "filter_books = filter_books[filter_books].index.tolist()\n",
    "\n",
    "min_user_ratings=5\n",
    "filter_users = users_books_with_ratings_train['User_ID'].value_counts() > min_user_ratings \n",
    "filter_users = filter_users[filter_users].index.tolist()\n",
    "\n",
    "filtered_df= users_books_with_ratings_train[(users_books_with_ratings_train['ISBN'].isin(filter_books)) & (users_books_with_ratings_train['User_ID'].isin(filter_users))]\n",
    "filtered_df = filtered_df.filter(['User_ID', 'ISBN', 'Book_Rating']) \n",
    "print('Original training dataframe shape: {}'.format(users_books_with_ratings_train.shape))\n",
    "print('Modified training dataframe shape: {}'.format(filtered_df.shape))"
   ]
  },
  {
   "cell_type": "markdown",
   "metadata": {},
   "source": [
    "*The choice is to keep books with more ratings than 5 and users who have given more ratings than 5 because the dataset is really huge and we want to reduce it a lot in order for the next steps to take locigal amount of time.*"
   ]
  },
  {
   "cell_type": "markdown",
   "metadata": {},
   "source": [
    "#### To load a dataset from a pandas dataframe, we will use the load_from_df() method, we will also need a Reader object, and the rating_scale parameter must be specified. The dataframe must have three columns, corresponding to the user ids, the item ids, and the ratings in this order. Each row thus corresponds to a given rating."
   ]
  },
  {
   "cell_type": "code",
   "execution_count": 104,
   "metadata": {},
   "outputs": [],
   "source": [
    "reader = Reader(rating_scale=(1,10))\n",
    "\n",
    "# Train Dataset\n",
    "training_set = filtered_df[['User_ID','ISBN','Book_Rating']].copy()\n",
    "data_train = Dataset.load_from_df(training_set,reader)\n",
    "\n",
    "# Test Dataset\n",
    "testing_set = users_books_with_ratings_test.filter(['User_ID', 'ISBN', 'Book_Rating']).copy()\n",
    "data_test = Dataset.load_from_df(testing_set, reader)\n"
   ]
  },
  {
   "cell_type": "markdown",
   "metadata": {},
   "source": [
    "#### Now we are going to collect some benchmarks of the different algorithms which can be used by LightFm. Our intetion ofcourse is to finally keep the one which fits the most with our dataset, the one with the best root-mean-square error (RMSE)."
   ]
  },
  {
   "cell_type": "code",
   "execution_count": 105,
   "metadata": {},
   "outputs": [
    {
     "name": "stdout",
     "output_type": "stream",
     "text": [
      "Estimating biases using als...\n",
      "Computing the msd similarity matrix...\n",
      "Done computing similarity matrix.\n",
      "Estimating biases using als...\n",
      "Computing the msd similarity matrix...\n",
      "Done computing similarity matrix.\n",
      "Estimating biases using als...\n",
      "Computing the msd similarity matrix...\n",
      "Done computing similarity matrix.\n",
      "Computing the msd similarity matrix...\n",
      "Done computing similarity matrix.\n",
      "Computing the msd similarity matrix...\n",
      "Done computing similarity matrix.\n",
      "Computing the msd similarity matrix...\n",
      "Done computing similarity matrix.\n",
      "Computing the msd similarity matrix...\n",
      "Done computing similarity matrix.\n",
      "Computing the msd similarity matrix...\n",
      "Done computing similarity matrix.\n",
      "Computing the msd similarity matrix...\n",
      "Done computing similarity matrix.\n",
      "Computing the msd similarity matrix...\n",
      "Done computing similarity matrix.\n",
      "Computing the msd similarity matrix...\n",
      "Done computing similarity matrix.\n",
      "Computing the msd similarity matrix...\n",
      "Done computing similarity matrix.\n",
      "Estimating biases using als...\n",
      "Estimating biases using als...\n",
      "Estimating biases using als...\n",
      "Total time needed for benchmarks: 407.09888315200806seconds.\n"
     ]
    }
   ],
   "source": [
    "start = time.time()\n",
    "benchmark = []\n",
    "for algorithm in [SVD(), SVDpp(), SlopeOne(), NMF(), NormalPredictor(), KNNBaseline(), KNNBasic(), KNNWithMeans()\n",
    "                 ,KNNWithZScore(),BaselineOnly(), CoClustering()]:\n",
    "    results = cross_validate(algorithm, data_train, measures=['RMSE'], cv=3, verbose=False)\n",
    "    tmp= pd.DataFrame.from_dict(results).mean(axis=0)\n",
    "    tmp= tmp.append(pd.Series([str(algorithm).split(' ')[0].split('.')[-1]],index=['Algorithm']))\n",
    "    benchmark.append(tmp)\n",
    "    \n",
    "end = time.time()\n",
    "elapsed = end - start\n",
    "print(\"Total time needed for benchmarks: \" + str(elapsed) + \"seconds.\")"
   ]
  },
  {
   "cell_type": "code",
   "execution_count": 106,
   "metadata": {
    "scrolled": true
   },
   "outputs": [
    {
     "data": {
      "text/html": [
       "<div>\n",
       "<style scoped>\n",
       "    .dataframe tbody tr th:only-of-type {\n",
       "        vertical-align: middle;\n",
       "    }\n",
       "\n",
       "    .dataframe tbody tr th {\n",
       "        vertical-align: top;\n",
       "    }\n",
       "\n",
       "    .dataframe thead th {\n",
       "        text-align: right;\n",
       "    }\n",
       "</style>\n",
       "<table border=\"1\" class=\"dataframe\">\n",
       "  <thead>\n",
       "    <tr style=\"text-align: right;\">\n",
       "      <th></th>\n",
       "      <th>test_rmse</th>\n",
       "      <th>fit_time</th>\n",
       "      <th>test_time</th>\n",
       "    </tr>\n",
       "    <tr>\n",
       "      <th>Algorithm</th>\n",
       "      <th></th>\n",
       "      <th></th>\n",
       "      <th></th>\n",
       "    </tr>\n",
       "  </thead>\n",
       "  <tbody>\n",
       "    <tr>\n",
       "      <td>SVD</td>\n",
       "      <td>1.586308</td>\n",
       "      <td>4.840535</td>\n",
       "      <td>0.319714</td>\n",
       "    </tr>\n",
       "    <tr>\n",
       "      <td>BaselineOnly</td>\n",
       "      <td>1.591357</td>\n",
       "      <td>0.292153</td>\n",
       "      <td>0.347798</td>\n",
       "    </tr>\n",
       "    <tr>\n",
       "      <td>SVDpp</td>\n",
       "      <td>1.593497</td>\n",
       "      <td>88.642809</td>\n",
       "      <td>3.286418</td>\n",
       "    </tr>\n",
       "    <tr>\n",
       "      <td>CoClustering</td>\n",
       "      <td>1.756066</td>\n",
       "      <td>3.499204</td>\n",
       "      <td>0.295589</td>\n",
       "    </tr>\n",
       "    <tr>\n",
       "      <td>KNNBaseline</td>\n",
       "      <td>1.784985</td>\n",
       "      <td>3.360911</td>\n",
       "      <td>1.430690</td>\n",
       "    </tr>\n",
       "    <tr>\n",
       "      <td>KNNWithZScore</td>\n",
       "      <td>1.788828</td>\n",
       "      <td>3.395253</td>\n",
       "      <td>1.397071</td>\n",
       "    </tr>\n",
       "    <tr>\n",
       "      <td>KNNWithMeans</td>\n",
       "      <td>1.798040</td>\n",
       "      <td>3.160341</td>\n",
       "      <td>1.309504</td>\n",
       "    </tr>\n",
       "    <tr>\n",
       "      <td>SlopeOne</td>\n",
       "      <td>1.925324</td>\n",
       "      <td>3.773239</td>\n",
       "      <td>2.105195</td>\n",
       "    </tr>\n",
       "    <tr>\n",
       "      <td>KNNBasic</td>\n",
       "      <td>1.947471</td>\n",
       "      <td>3.049625</td>\n",
       "      <td>1.323247</td>\n",
       "    </tr>\n",
       "    <tr>\n",
       "      <td>NormalPredictor</td>\n",
       "      <td>2.404620</td>\n",
       "      <td>0.130964</td>\n",
       "      <td>0.315708</td>\n",
       "    </tr>\n",
       "    <tr>\n",
       "      <td>NMF</td>\n",
       "      <td>2.605268</td>\n",
       "      <td>6.163867</td>\n",
       "      <td>0.323013</td>\n",
       "    </tr>\n",
       "  </tbody>\n",
       "</table>\n",
       "</div>"
      ],
      "text/plain": [
       "                 test_rmse   fit_time  test_time\n",
       "Algorithm                                       \n",
       "SVD              1.586308   4.840535   0.319714 \n",
       "BaselineOnly     1.591357   0.292153   0.347798 \n",
       "SVDpp            1.593497   88.642809  3.286418 \n",
       "CoClustering     1.756066   3.499204   0.295589 \n",
       "KNNBaseline      1.784985   3.360911   1.430690 \n",
       "KNNWithZScore    1.788828   3.395253   1.397071 \n",
       "KNNWithMeans     1.798040   3.160341   1.309504 \n",
       "SlopeOne         1.925324   3.773239   2.105195 \n",
       "KNNBasic         1.947471   3.049625   1.323247 \n",
       "NormalPredictor  2.404620   0.130964   0.315708 \n",
       "NMF              2.605268   6.163867   0.323013 "
      ]
     },
     "execution_count": 106,
     "metadata": {},
     "output_type": "execute_result"
    }
   ],
   "source": [
    "surprise_results = pd.DataFrame(benchmark).set_index('Algorithm').sort_values('test_rmse')\n",
    "surprise_results"
   ]
  },
  {
   "cell_type": "markdown",
   "metadata": {},
   "source": [
    "*SVD gave the best RMSE, but as we can observe from the benchmarks above, BaselineOnly algorithm's values of rmse, fit_time and test_time are really close to SVD's. So we are going to take a closer look of those two methods in order to compare their results.*"
   ]
  },
  {
   "cell_type": "markdown",
   "metadata": {},
   "source": [
    "### SVD"
   ]
  },
  {
   "cell_type": "code",
   "execution_count": 107,
   "metadata": {},
   "outputs": [
    {
     "name": "stdout",
     "output_type": "stream",
     "text": [
      "Using ALS\n"
     ]
    }
   ],
   "source": [
    "algo = SVD()\n",
    "print('Using ALS')\n",
    "svd_als_cv = cross_validate(algo, data_train, measures=['RMSE', 'MSE', 'MAE', 'FCP'], cv=5, verbose=False)"
   ]
  },
  {
   "cell_type": "markdown",
   "metadata": {},
   "source": [
    "#### No we are going to use fit() and test() methods which are going to train the algorithm and return the predictions for the testset, respectively.\n",
    "\n"
   ]
  },
  {
   "cell_type": "code",
   "execution_count": 108,
   "metadata": {},
   "outputs": [
    {
     "name": "stdout",
     "output_type": "stream",
     "text": [
      "RMSE: 1.8584\n",
      "MSE: 3.4537\n",
      "MAE:  1.4754\n",
      "FCP:  0.3115\n",
      "\n",
      "Total time needed for prediction: 9.170643091201782 seconds.\n"
     ]
    }
   ],
   "source": [
    "\n",
    "\n",
    "start = time.time()\n",
    "\n",
    "# Converting Train & Test Dataframes to csv files.\n",
    "# I am doing this because I couldn't find an other way to pass the two dataframes for prediction.\n",
    "filtered_df[['User_ID','ISBN','Book_Rating']].to_csv(r'TempTrainSet.csv',index=False, header=None)\n",
    "users_books_with_ratings_test.filter(['User_ID', 'ISBN', 'Book_Rating']).to_csv(r'TempTestSet.csv', index = False, header = False)\n",
    "\n",
    "# Creating a list of a pair of these to csv files.\n",
    "folds_files = [(\"TempTrainSet.csv\",\"TempTestSet.csv\")]\n",
    "\n",
    "# Making the reader to understand different column words when they are separated by ','\n",
    "reader = Reader( sep=',',rating_scale=(1,10))\n",
    "\n",
    "# Loading the cvs files which contain Train and Test Dataset  in order to be able to be used in Surprise\n",
    "data = Dataset.load_from_folds(folds_files, reader=reader)\n",
    "pkf = PredefinedKFold()\n",
    "\n",
    "algo = SVD()\n",
    "\n",
    "for trainset, testset in pkf.split(data):\n",
    "    #Training & Testing algorithm\n",
    "    algo.fit(trainset)\n",
    "    predictions_svd = algo.test(testset)\n",
    "\n",
    "    # Computing and printing Root Mean Squared Error (RMSE)\n",
    "    accuracy.rmse(predictions_svd, verbose=True) # Root Mean Squared Error\n",
    "    accuracy.mse(predictions_svd, verbose=True)  # Mean Squared Error\n",
    "    accuracy.mae(predictions_svd, verbose=True)  # Mean Absolute Error\n",
    "    accuracy.fcp(predictions_svd, verbose=True)  # Fraction of Concordant Pairs\n",
    "    \n",
    "    \n",
    "\n",
    "end = time.time()\n",
    "elapsed = end - start\n",
    "print(\"\\nTotal time needed for prediction: \" + str(elapsed) + \" seconds.\")\n",
    "#print(\"Number of predictions made: \" + str(len(predictions)))\n"
   ]
  },
  {
   "cell_type": "code",
   "execution_count": 109,
   "metadata": {},
   "outputs": [
    {
     "data": {
      "text/plain": [
       "[Prediction(uid='240144', iid='0375815260', r_ui=7.0, est=7.711884962916146, details={'was_impossible': False}),\n",
       " Prediction(uid='240144', iid='038073186X', r_ui=7.0, est=7.625738307401234, details={'was_impossible': False}),\n",
       " Prediction(uid='240144', iid='0380782391', r_ui=8.0, est=7.711884962916146, details={'was_impossible': False}),\n",
       " Prediction(uid='240144', iid='0380784491', r_ui=8.0, est=7.615176752929879, details={'was_impossible': False}),\n",
       " Prediction(uid='240144', iid='0380788217', r_ui=9.0, est=7.711884962916146, details={'was_impossible': False}),\n",
       " Prediction(uid='240144', iid='0380788225', r_ui=9.0, est=7.711884962916146, details={'was_impossible': False}),\n",
       " Prediction(uid='240144', iid='0380793660', r_ui=8.0, est=7.711884962916146, details={'was_impossible': False}),\n",
       " Prediction(uid='240144', iid='038080056X', r_ui=9.0, est=7.711884962916146, details={'was_impossible': False}),\n",
       " Prediction(uid='240144', iid='0380801493', r_ui=7.0, est=8.115579914613848, details={'was_impossible': False}),\n",
       " Prediction(uid='240144', iid='0380802457', r_ui=8.0, est=7.711884962916146, details={'was_impossible': False})]"
      ]
     },
     "execution_count": 109,
     "metadata": {},
     "output_type": "execute_result"
    }
   ],
   "source": [
    "predictions_svd[:10]\n"
   ]
  },
  {
   "cell_type": "markdown",
   "metadata": {},
   "source": [
    "#### Let's check randomly if the predictions are well expressed. We will check for example if User with ID 240144 from above has rated book with ISBN 0380788225 with a 9 as said."
   ]
  },
  {
   "cell_type": "code",
   "execution_count": 110,
   "metadata": {},
   "outputs": [
    {
     "data": {
      "text/html": [
       "<div>\n",
       "<style scoped>\n",
       "    .dataframe tbody tr th:only-of-type {\n",
       "        vertical-align: middle;\n",
       "    }\n",
       "\n",
       "    .dataframe tbody tr th {\n",
       "        vertical-align: top;\n",
       "    }\n",
       "\n",
       "    .dataframe thead th {\n",
       "        text-align: right;\n",
       "    }\n",
       "</style>\n",
       "<table border=\"1\" class=\"dataframe\">\n",
       "  <thead>\n",
       "    <tr style=\"text-align: right;\">\n",
       "      <th></th>\n",
       "      <th>User_ID</th>\n",
       "      <th>ISBN</th>\n",
       "      <th>Book_Rating</th>\n",
       "      <th>BookTitle</th>\n",
       "      <th>BookAuthor</th>\n",
       "      <th>YearOfPublication</th>\n",
       "      <th>Publisher</th>\n",
       "      <th>Age</th>\n",
       "      <th>City</th>\n",
       "      <th>Region</th>\n",
       "      <th>Country</th>\n",
       "    </tr>\n",
       "  </thead>\n",
       "  <tbody>\n",
       "    <tr>\n",
       "      <td>29</td>\n",
       "      <td>240144</td>\n",
       "      <td>0380788225</td>\n",
       "      <td>9.0</td>\n",
       "      <td>Death Flips Its Lid : A Brenda Midnight Mystery (Brenda Midnight Mysteries)</td>\n",
       "      <td>Barbara J. Wilson</td>\n",
       "      <td>1998.0</td>\n",
       "      <td>Avon</td>\n",
       "      <td>34.0</td>\n",
       "      <td>muskego</td>\n",
       "      <td>wisconsin</td>\n",
       "      <td>usa</td>\n",
       "    </tr>\n",
       "  </tbody>\n",
       "</table>\n",
       "</div>"
      ],
      "text/plain": [
       "    User_ID        ISBN  Book_Rating  \\\n",
       "29  240144   0380788225  9.0           \n",
       "\n",
       "                                                                      BookTitle  \\\n",
       "29  Death Flips Its Lid : A Brenda Midnight Mystery (Brenda Midnight Mysteries)   \n",
       "\n",
       "           BookAuthor  YearOfPublication Publisher   Age     City      Region  \\\n",
       "29  Barbara J. Wilson  1998.0             Avon      34.0  muskego   wisconsin   \n",
       "\n",
       "   Country  \n",
       "29   usa    "
      ]
     },
     "execution_count": 110,
     "metadata": {},
     "output_type": "execute_result"
    }
   ],
   "source": [
    "users_books_with_ratings_test.loc[(users_books_with_ratings_test['User_ID'] == 240144) & (users_books_with_ratings_test['ISBN'] == '0380788225')]"
   ]
  },
  {
   "cell_type": "markdown",
   "metadata": {},
   "source": [
    "*Indeed this user has rated this book with 9 so everything seems to work fine.*"
   ]
  },
  {
   "cell_type": "markdown",
   "metadata": {},
   "source": [
    "#### Next step is to create a Panda Dataframe in order to inspect the predictions. We are also using two functions (get_Iu() , get_Ui() ) to help us keep even more information."
   ]
  },
  {
   "cell_type": "code",
   "execution_count": 111,
   "metadata": {},
   "outputs": [],
   "source": [
    "\n",
    "# This function takes the ID of a user and returns\n",
    "# the number of books he has rated.\n",
    "def get_Iu(uid):\n",
    "    try:\n",
    "        return len(trainset.ur[trainset.to_inner_uid(uid)])\n",
    "    except ValueError:\n",
    "        return 0\n",
    "\n",
    "    \n",
    "# This function takes the ISBN of a book and returns\n",
    "# the number of users who have rated it.\n",
    "def get_Ui(iid):\n",
    "\n",
    "    try:\n",
    "        return len(trainset.ir[trainset.to_inner_iid(iid)])\n",
    "    except ValueError:\n",
    "        return 0\n",
    "    \n",
    "df_extentedPredictions = pd.DataFrame(predictions_svd, columns=['uid','iid','rui','est','details'])\n",
    "df_extentedPredictions['Iu']= df_extentedPredictions.uid.apply(get_Iu)\n",
    "df_extentedPredictions['Ui']= df_extentedPredictions.iid.apply(get_Ui)\n",
    "df_extentedPredictions['err'] = abs(df_extentedPredictions.est - df_extentedPredictions.rui)"
   ]
  },
  {
   "cell_type": "code",
   "execution_count": 112,
   "metadata": {},
   "outputs": [
    {
     "data": {
      "text/html": [
       "<div>\n",
       "<style scoped>\n",
       "    .dataframe tbody tr th:only-of-type {\n",
       "        vertical-align: middle;\n",
       "    }\n",
       "\n",
       "    .dataframe tbody tr th {\n",
       "        vertical-align: top;\n",
       "    }\n",
       "\n",
       "    .dataframe thead th {\n",
       "        text-align: right;\n",
       "    }\n",
       "</style>\n",
       "<table border=\"1\" class=\"dataframe\">\n",
       "  <thead>\n",
       "    <tr style=\"text-align: right;\">\n",
       "      <th></th>\n",
       "      <th>uid</th>\n",
       "      <th>iid</th>\n",
       "      <th>rui</th>\n",
       "      <th>est</th>\n",
       "      <th>details</th>\n",
       "      <th>Iu</th>\n",
       "      <th>Ui</th>\n",
       "      <th>err</th>\n",
       "    </tr>\n",
       "  </thead>\n",
       "  <tbody>\n",
       "    <tr>\n",
       "      <td>0</td>\n",
       "      <td>240144</td>\n",
       "      <td>0375815260</td>\n",
       "      <td>7.0</td>\n",
       "      <td>7.711885</td>\n",
       "      <td>{'was_impossible': False}</td>\n",
       "      <td>10</td>\n",
       "      <td>0</td>\n",
       "      <td>0.711885</td>\n",
       "    </tr>\n",
       "    <tr>\n",
       "      <td>1</td>\n",
       "      <td>240144</td>\n",
       "      <td>038073186X</td>\n",
       "      <td>7.0</td>\n",
       "      <td>7.625738</td>\n",
       "      <td>{'was_impossible': False}</td>\n",
       "      <td>10</td>\n",
       "      <td>6</td>\n",
       "      <td>0.625738</td>\n",
       "    </tr>\n",
       "    <tr>\n",
       "      <td>2</td>\n",
       "      <td>240144</td>\n",
       "      <td>0380782391</td>\n",
       "      <td>8.0</td>\n",
       "      <td>7.711885</td>\n",
       "      <td>{'was_impossible': False}</td>\n",
       "      <td>10</td>\n",
       "      <td>0</td>\n",
       "      <td>0.288115</td>\n",
       "    </tr>\n",
       "    <tr>\n",
       "      <td>3</td>\n",
       "      <td>240144</td>\n",
       "      <td>0380784491</td>\n",
       "      <td>8.0</td>\n",
       "      <td>7.615177</td>\n",
       "      <td>{'was_impossible': False}</td>\n",
       "      <td>10</td>\n",
       "      <td>8</td>\n",
       "      <td>0.384823</td>\n",
       "    </tr>\n",
       "    <tr>\n",
       "      <td>4</td>\n",
       "      <td>240144</td>\n",
       "      <td>0380788217</td>\n",
       "      <td>9.0</td>\n",
       "      <td>7.711885</td>\n",
       "      <td>{'was_impossible': False}</td>\n",
       "      <td>10</td>\n",
       "      <td>0</td>\n",
       "      <td>1.288115</td>\n",
       "    </tr>\n",
       "  </tbody>\n",
       "</table>\n",
       "</div>"
      ],
      "text/plain": [
       "      uid         iid  rui       est                    details  Iu  Ui  \\\n",
       "0  240144  0375815260  7.0  7.711885  {'was_impossible': False}  10  0    \n",
       "1  240144  038073186X  7.0  7.625738  {'was_impossible': False}  10  6    \n",
       "2  240144  0380782391  8.0  7.711885  {'was_impossible': False}  10  0    \n",
       "3  240144  0380784491  8.0  7.615177  {'was_impossible': False}  10  8    \n",
       "4  240144  0380788217  9.0  7.711885  {'was_impossible': False}  10  0    \n",
       "\n",
       "        err  \n",
       "0  0.711885  \n",
       "1  0.625738  \n",
       "2  0.288115  \n",
       "3  0.384823  \n",
       "4  1.288115  "
      ]
     },
     "execution_count": 112,
     "metadata": {},
     "output_type": "execute_result"
    }
   ],
   "source": [
    "df_extentedPredictions.head()"
   ]
  },
  {
   "cell_type": "code",
   "execution_count": 113,
   "metadata": {},
   "outputs": [],
   "source": [
    "best_svd=df_extentedPredictions.sort_values(by='err')[:10]\n",
    "worst_svd=df_extentedPredictions.sort_values(by='err')[-10:]"
   ]
  },
  {
   "cell_type": "code",
   "execution_count": 114,
   "metadata": {},
   "outputs": [
    {
     "name": "stdout",
     "output_type": "stream",
     "text": [
      "These are the 10 best predicted ratings: \n"
     ]
    },
    {
     "data": {
      "text/html": [
       "<div>\n",
       "<style scoped>\n",
       "    .dataframe tbody tr th:only-of-type {\n",
       "        vertical-align: middle;\n",
       "    }\n",
       "\n",
       "    .dataframe tbody tr th {\n",
       "        vertical-align: top;\n",
       "    }\n",
       "\n",
       "    .dataframe thead th {\n",
       "        text-align: right;\n",
       "    }\n",
       "</style>\n",
       "<table border=\"1\" class=\"dataframe\">\n",
       "  <thead>\n",
       "    <tr style=\"text-align: right;\">\n",
       "      <th></th>\n",
       "      <th>uid</th>\n",
       "      <th>iid</th>\n",
       "      <th>rui</th>\n",
       "      <th>est</th>\n",
       "      <th>details</th>\n",
       "      <th>Iu</th>\n",
       "      <th>Ui</th>\n",
       "      <th>err</th>\n",
       "    </tr>\n",
       "  </thead>\n",
       "  <tbody>\n",
       "    <tr>\n",
       "      <td>46887</td>\n",
       "      <td>275154</td>\n",
       "      <td>038533334X</td>\n",
       "      <td>7.0</td>\n",
       "      <td>6.999959</td>\n",
       "      <td>{'was_impossible': False}</td>\n",
       "      <td>0</td>\n",
       "      <td>32</td>\n",
       "      <td>0.000041</td>\n",
       "    </tr>\n",
       "    <tr>\n",
       "      <td>14806</td>\n",
       "      <td>249894</td>\n",
       "      <td>0345368940</td>\n",
       "      <td>8.0</td>\n",
       "      <td>7.999808</td>\n",
       "      <td>{'was_impossible': False}</td>\n",
       "      <td>0</td>\n",
       "      <td>4</td>\n",
       "      <td>0.000192</td>\n",
       "    </tr>\n",
       "    <tr>\n",
       "      <td>8294</td>\n",
       "      <td>245410</td>\n",
       "      <td>0312983867</td>\n",
       "      <td>8.0</td>\n",
       "      <td>7.999729</td>\n",
       "      <td>{'was_impossible': False}</td>\n",
       "      <td>0</td>\n",
       "      <td>44</td>\n",
       "      <td>0.000271</td>\n",
       "    </tr>\n",
       "    <tr>\n",
       "      <td>1061</td>\n",
       "      <td>240567</td>\n",
       "      <td>0312983867</td>\n",
       "      <td>8.0</td>\n",
       "      <td>7.999729</td>\n",
       "      <td>{'was_impossible': False}</td>\n",
       "      <td>0</td>\n",
       "      <td>44</td>\n",
       "      <td>0.000271</td>\n",
       "    </tr>\n",
       "    <tr>\n",
       "      <td>25093</td>\n",
       "      <td>257454</td>\n",
       "      <td>0312983867</td>\n",
       "      <td>8.0</td>\n",
       "      <td>7.999729</td>\n",
       "      <td>{'was_impossible': False}</td>\n",
       "      <td>0</td>\n",
       "      <td>44</td>\n",
       "      <td>0.000271</td>\n",
       "    </tr>\n",
       "    <tr>\n",
       "      <td>23463</td>\n",
       "      <td>256167</td>\n",
       "      <td>0312983867</td>\n",
       "      <td>8.0</td>\n",
       "      <td>7.999729</td>\n",
       "      <td>{'was_impossible': False}</td>\n",
       "      <td>0</td>\n",
       "      <td>44</td>\n",
       "      <td>0.000271</td>\n",
       "    </tr>\n",
       "    <tr>\n",
       "      <td>22395</td>\n",
       "      <td>254995</td>\n",
       "      <td>0385493622</td>\n",
       "      <td>8.0</td>\n",
       "      <td>7.999652</td>\n",
       "      <td>{'was_impossible': False}</td>\n",
       "      <td>0</td>\n",
       "      <td>4</td>\n",
       "      <td>0.000348</td>\n",
       "    </tr>\n",
       "    <tr>\n",
       "      <td>42880</td>\n",
       "      <td>271516</td>\n",
       "      <td>3257208626</td>\n",
       "      <td>8.0</td>\n",
       "      <td>8.000353</td>\n",
       "      <td>{'was_impossible': False}</td>\n",
       "      <td>0</td>\n",
       "      <td>5</td>\n",
       "      <td>0.000353</td>\n",
       "    </tr>\n",
       "    <tr>\n",
       "      <td>5212</td>\n",
       "      <td>243206</td>\n",
       "      <td>0413537900</td>\n",
       "      <td>8.0</td>\n",
       "      <td>8.000518</td>\n",
       "      <td>{'was_impossible': False}</td>\n",
       "      <td>0</td>\n",
       "      <td>22</td>\n",
       "      <td>0.000518</td>\n",
       "    </tr>\n",
       "    <tr>\n",
       "      <td>36268</td>\n",
       "      <td>266588</td>\n",
       "      <td>0413537900</td>\n",
       "      <td>8.0</td>\n",
       "      <td>8.000518</td>\n",
       "      <td>{'was_impossible': False}</td>\n",
       "      <td>0</td>\n",
       "      <td>22</td>\n",
       "      <td>0.000518</td>\n",
       "    </tr>\n",
       "  </tbody>\n",
       "</table>\n",
       "</div>"
      ],
      "text/plain": [
       "          uid         iid  rui       est                    details  Iu  Ui  \\\n",
       "46887  275154  038533334X  7.0  6.999959  {'was_impossible': False}  0   32   \n",
       "14806  249894  0345368940  8.0  7.999808  {'was_impossible': False}  0   4    \n",
       "8294   245410  0312983867  8.0  7.999729  {'was_impossible': False}  0   44   \n",
       "1061   240567  0312983867  8.0  7.999729  {'was_impossible': False}  0   44   \n",
       "25093  257454  0312983867  8.0  7.999729  {'was_impossible': False}  0   44   \n",
       "23463  256167  0312983867  8.0  7.999729  {'was_impossible': False}  0   44   \n",
       "22395  254995  0385493622  8.0  7.999652  {'was_impossible': False}  0   4    \n",
       "42880  271516  3257208626  8.0  8.000353  {'was_impossible': False}  0   5    \n",
       "5212   243206  0413537900  8.0  8.000518  {'was_impossible': False}  0   22   \n",
       "36268  266588  0413537900  8.0  8.000518  {'was_impossible': False}  0   22   \n",
       "\n",
       "            err  \n",
       "46887  0.000041  \n",
       "14806  0.000192  \n",
       "8294   0.000271  \n",
       "1061   0.000271  \n",
       "25093  0.000271  \n",
       "23463  0.000271  \n",
       "22395  0.000348  \n",
       "42880  0.000353  \n",
       "5212   0.000518  \n",
       "36268  0.000518  "
      ]
     },
     "execution_count": 114,
     "metadata": {},
     "output_type": "execute_result"
    }
   ],
   "source": [
    "print(\"These are the 10 best predicted ratings: \")\n",
    "best_svd"
   ]
  },
  {
   "cell_type": "code",
   "execution_count": 115,
   "metadata": {},
   "outputs": [
    {
     "name": "stdout",
     "output_type": "stream",
     "text": [
      "These are the worst 10 predicted ratings: \n"
     ]
    },
    {
     "data": {
      "text/html": [
       "<div>\n",
       "<style scoped>\n",
       "    .dataframe tbody tr th:only-of-type {\n",
       "        vertical-align: middle;\n",
       "    }\n",
       "\n",
       "    .dataframe tbody tr th {\n",
       "        vertical-align: top;\n",
       "    }\n",
       "\n",
       "    .dataframe thead th {\n",
       "        text-align: right;\n",
       "    }\n",
       "</style>\n",
       "<table border=\"1\" class=\"dataframe\">\n",
       "  <thead>\n",
       "    <tr style=\"text-align: right;\">\n",
       "      <th></th>\n",
       "      <th>uid</th>\n",
       "      <th>iid</th>\n",
       "      <th>rui</th>\n",
       "      <th>est</th>\n",
       "      <th>details</th>\n",
       "      <th>Iu</th>\n",
       "      <th>Ui</th>\n",
       "      <th>err</th>\n",
       "    </tr>\n",
       "  </thead>\n",
       "  <tbody>\n",
       "    <tr>\n",
       "      <td>22989</td>\n",
       "      <td>255544</td>\n",
       "      <td>0553283685</td>\n",
       "      <td>1.0</td>\n",
       "      <td>8.127118</td>\n",
       "      <td>{'was_impossible': False}</td>\n",
       "      <td>0</td>\n",
       "      <td>16</td>\n",
       "      <td>7.127118</td>\n",
       "    </tr>\n",
       "    <tr>\n",
       "      <td>46549</td>\n",
       "      <td>274766</td>\n",
       "      <td>0385486804</td>\n",
       "      <td>1.0</td>\n",
       "      <td>8.144206</td>\n",
       "      <td>{'was_impossible': False}</td>\n",
       "      <td>0</td>\n",
       "      <td>64</td>\n",
       "      <td>7.144206</td>\n",
       "    </tr>\n",
       "    <tr>\n",
       "      <td>29938</td>\n",
       "      <td>261829</td>\n",
       "      <td>0316776963</td>\n",
       "      <td>1.0</td>\n",
       "      <td>8.186290</td>\n",
       "      <td>{'was_impossible': False}</td>\n",
       "      <td>0</td>\n",
       "      <td>98</td>\n",
       "      <td>7.186290</td>\n",
       "    </tr>\n",
       "    <tr>\n",
       "      <td>5410</td>\n",
       "      <td>243312</td>\n",
       "      <td>0765342987</td>\n",
       "      <td>1.0</td>\n",
       "      <td>8.199365</td>\n",
       "      <td>{'was_impossible': False}</td>\n",
       "      <td>0</td>\n",
       "      <td>19</td>\n",
       "      <td>7.199365</td>\n",
       "    </tr>\n",
       "    <tr>\n",
       "      <td>45098</td>\n",
       "      <td>273898</td>\n",
       "      <td>0451191153</td>\n",
       "      <td>1.0</td>\n",
       "      <td>8.205697</td>\n",
       "      <td>{'was_impossible': False}</td>\n",
       "      <td>0</td>\n",
       "      <td>19</td>\n",
       "      <td>7.205697</td>\n",
       "    </tr>\n",
       "    <tr>\n",
       "      <td>41367</td>\n",
       "      <td>270605</td>\n",
       "      <td>1558506462</td>\n",
       "      <td>1.0</td>\n",
       "      <td>8.258964</td>\n",
       "      <td>{'was_impossible': False}</td>\n",
       "      <td>0</td>\n",
       "      <td>11</td>\n",
       "      <td>7.258964</td>\n",
       "    </tr>\n",
       "    <tr>\n",
       "      <td>17624</td>\n",
       "      <td>251541</td>\n",
       "      <td>0316168815</td>\n",
       "      <td>1.0</td>\n",
       "      <td>8.288843</td>\n",
       "      <td>{'was_impossible': False}</td>\n",
       "      <td>0</td>\n",
       "      <td>26</td>\n",
       "      <td>7.288843</td>\n",
       "    </tr>\n",
       "    <tr>\n",
       "      <td>40931</td>\n",
       "      <td>270154</td>\n",
       "      <td>0316168815</td>\n",
       "      <td>1.0</td>\n",
       "      <td>8.288843</td>\n",
       "      <td>{'was_impossible': False}</td>\n",
       "      <td>0</td>\n",
       "      <td>26</td>\n",
       "      <td>7.288843</td>\n",
       "    </tr>\n",
       "    <tr>\n",
       "      <td>6147</td>\n",
       "      <td>243930</td>\n",
       "      <td>0349101779</td>\n",
       "      <td>1.0</td>\n",
       "      <td>8.387777</td>\n",
       "      <td>{'was_impossible': False}</td>\n",
       "      <td>0</td>\n",
       "      <td>19</td>\n",
       "      <td>7.387777</td>\n",
       "    </tr>\n",
       "    <tr>\n",
       "      <td>17876</td>\n",
       "      <td>251754</td>\n",
       "      <td>0385504209</td>\n",
       "      <td>1.0</td>\n",
       "      <td>8.518469</td>\n",
       "      <td>{'was_impossible': False}</td>\n",
       "      <td>0</td>\n",
       "      <td>272</td>\n",
       "      <td>7.518469</td>\n",
       "    </tr>\n",
       "  </tbody>\n",
       "</table>\n",
       "</div>"
      ],
      "text/plain": [
       "          uid         iid  rui       est                    details  Iu   Ui  \\\n",
       "22989  255544  0553283685  1.0  8.127118  {'was_impossible': False}  0   16    \n",
       "46549  274766  0385486804  1.0  8.144206  {'was_impossible': False}  0   64    \n",
       "29938  261829  0316776963  1.0  8.186290  {'was_impossible': False}  0   98    \n",
       "5410   243312  0765342987  1.0  8.199365  {'was_impossible': False}  0   19    \n",
       "45098  273898  0451191153  1.0  8.205697  {'was_impossible': False}  0   19    \n",
       "41367  270605  1558506462  1.0  8.258964  {'was_impossible': False}  0   11    \n",
       "17624  251541  0316168815  1.0  8.288843  {'was_impossible': False}  0   26    \n",
       "40931  270154  0316168815  1.0  8.288843  {'was_impossible': False}  0   26    \n",
       "6147   243930  0349101779  1.0  8.387777  {'was_impossible': False}  0   19    \n",
       "17876  251754  0385504209  1.0  8.518469  {'was_impossible': False}  0   272   \n",
       "\n",
       "            err  \n",
       "22989  7.127118  \n",
       "46549  7.144206  \n",
       "29938  7.186290  \n",
       "5410   7.199365  \n",
       "45098  7.205697  \n",
       "41367  7.258964  \n",
       "17624  7.288843  \n",
       "40931  7.288843  \n",
       "6147   7.387777  \n",
       "17876  7.518469  "
      ]
     },
     "execution_count": 115,
     "metadata": {},
     "output_type": "execute_result"
    }
   ],
   "source": [
    "print(\"These are the worst 10 predicted ratings: \")\n",
    "worst_svd"
   ]
  },
  {
   "cell_type": "markdown",
   "metadata": {},
   "source": [
    "#### As we can see the worst prediction here is 8,55 which is really far from the real rating of book with ISBN: 0971880107 which is 1,0. It would be a nice idea to try to find out why this bad prediction happened..."
   ]
  },
  {
   "cell_type": "code",
   "execution_count": 116,
   "metadata": {},
   "outputs": [
    {
     "data": {
      "image/png": "[encoded data removed]",
      "text/plain": [
       "<Figure size 432x288 with 1 Axes>"
      ]
     },
     "metadata": {
      "needs_background": "light"
     },
     "output_type": "display_data"
    }
   ],
   "source": [
    "filtered_df.loc[filtered_df['ISBN'] == '0385504209']['Book_Rating'].hist()\n",
    "plt.xlabel('Rating')\n",
    "plt.ylabel('Number of Ratings')\n",
    "plt.title('Number of ratings for book with ISBN:0385504209')\n",
    "plt.show();"
   ]
  },
  {
   "cell_type": "markdown",
   "metadata": {},
   "source": [
    "*The reason for the previous wrong prediction is now obvious. As we can understand from the plot, rating with 10 this specific book is an outlier. In fact it is the least common rating for this book. The most users have rated it with 1,2,3,5 or 6! So that is why the prediction was around 4...*"
   ]
  },
  {
   "cell_type": "markdown",
   "metadata": {},
   "source": [
    "### BaselineOnly"
   ]
  },
  {
   "cell_type": "markdown",
   "metadata": {},
   "source": [
    "### Firstly we are ipmlementing BaselineOnly using SGD"
   ]
  },
  {
   "cell_type": "code",
   "execution_count": 117,
   "metadata": {},
   "outputs": [
    {
     "name": "stdout",
     "output_type": "stream",
     "text": [
      "Using SGD\n",
      "Estimating biases using sgd...\n",
      "Estimating biases using sgd...\n",
      "Estimating biases using sgd...\n",
      "Estimating biases using sgd...\n",
      "Estimating biases using sgd...\n"
     ]
    }
   ],
   "source": [
    "print('Using SGD')\n",
    "\n",
    "bsl_options = {'method': 'sgd'}\n",
    "algo = BaselineOnly(bsl_options=bsl_options)\n",
    "\n",
    "\n",
    "bsl_als_cv = cross_validate(algo, data_train, measures=['RMSE', 'MSE', 'MAE', 'FCP'], cv=5, verbose=False)"
   ]
  },
  {
   "cell_type": "code",
   "execution_count": 118,
   "metadata": {},
   "outputs": [
    {
     "name": "stdout",
     "output_type": "stream",
     "text": [
      "Estimating biases using sgd...\n",
      "RMSE: 1.8588\n",
      "MSE: 3.4552\n",
      "MAE:  1.4758\n",
      "FCP:  0.3115\n",
      "\n",
      "Total time needed for prediction: 2.5423920154571533 seconds.\n"
     ]
    }
   ],
   "source": [
    "start = time.time()\n",
    "\n",
    "# Converting Train & Test Dataframes to csv files.\n",
    "# I am doing this because I couldn't find an other way to pass the two dataframes for prediction.\n",
    "filtered_df[['User_ID','ISBN','Book_Rating']].to_csv(r'TempTrainSet.csv',index=False, header=None)\n",
    "users_books_with_ratings_test.filter(['User_ID', 'ISBN', 'Book_Rating']).to_csv(r'TempTestSet.csv', index = False, header = False)\n",
    "\n",
    "# Creating a list of a pair of these to csv files.\n",
    "folds_files = [(\"TempTrainSet.csv\",\"TempTestSet.csv\")]\n",
    "\n",
    "# Making the reader to understand different column words when they are separated by ','\n",
    "reader = Reader( sep=',',rating_scale=(1,10))\n",
    "\n",
    "# Loading the cvs files which contain Train and Test Dataset  in order to be able to be used in Surprise\n",
    "data = Dataset.load_from_folds(folds_files, reader=reader)\n",
    "pkf = PredefinedKFold()\n",
    "\n",
    "\n",
    "for trainset, testset in pkf.split(data):\n",
    "    #Training & Testing algorithm\n",
    "    algo.fit(trainset)\n",
    "    predictions_bsl_sgd = algo.test(testset)\n",
    "\n",
    "    # Computing and printing Root Mean Squared Error (RMSE)\n",
    "    accuracy.rmse(predictions_bsl_sgd, verbose=True) # Root Mean Squared Error\n",
    "    accuracy.mse(predictions_bsl_sgd, verbose=True)  # Mean Squared Error\n",
    "    accuracy.mae(predictions_bsl_sgd, verbose=True)  # Mean Absolute Error\n",
    "    accuracy.fcp(predictions_bsl_sgd, verbose=True)  # Fraction of Concordant Pairs\n",
    "    \n",
    "    \n",
    "\n",
    "end = time.time()\n",
    "elapsed = end - start\n",
    "print(\"\\nTotal time needed for prediction: \" + str(elapsed) + \" seconds.\")\n",
    "#print(\"Number of predictions made: \" + str(len(predictions)))"
   ]
  },
  {
   "cell_type": "markdown",
   "metadata": {},
   "source": [
    "### Then we are ipmlementing Baselineonly using ALS"
   ]
  },
  {
   "cell_type": "code",
   "execution_count": 119,
   "metadata": {},
   "outputs": [
    {
     "name": "stdout",
     "output_type": "stream",
     "text": [
      "Using ALS\n",
      "Estimating biases using als...\n",
      "Estimating biases using als...\n",
      "Estimating biases using als...\n",
      "Estimating biases using als...\n",
      "Estimating biases using als...\n"
     ]
    }
   ],
   "source": [
    "print('Using ALS')\n",
    "\n",
    "bsl_options = {'method': 'als'}\n",
    "algo = BaselineOnly(bsl_options = bsl_options)\n",
    "\n",
    "\n",
    "bsl_als_cv = cross_validate(algo, data_train, measures=['RMSE', 'MSE', 'MAE', 'FCP'], cv=5, verbose=False)"
   ]
  },
  {
   "cell_type": "code",
   "execution_count": 120,
   "metadata": {},
   "outputs": [
    {
     "name": "stdout",
     "output_type": "stream",
     "text": [
      "Estimating biases using als...\n",
      "RMSE: 1.8581\n",
      "MSE: 3.4526\n",
      "MAE:  1.4748\n",
      "FCP:  0.3114\n",
      "\n",
      "Total time needed for prediction: 2.52274489402771 seconds.\n"
     ]
    }
   ],
   "source": [
    "start = time.time()\n",
    "\n",
    "# Converting Train & Test Dataframes to csv files.\n",
    "# I am doing this because I couldn't find an other way to pass the two dataframes for prediction.\n",
    "filtered_df[['User_ID','ISBN','Book_Rating']].to_csv(r'TempTrainSet.csv',index=False, header=None)\n",
    "users_books_with_ratings_test.filter(['User_ID', 'ISBN', 'Book_Rating']).to_csv(r'TempTestSet.csv', index = False, header = False)\n",
    "\n",
    "# Creating a list of a pair of these to csv files.\n",
    "folds_files = [(\"TempTrainSet.csv\",\"TempTestSet.csv\")]\n",
    "\n",
    "# Making the reader to understand different column words when they are separated by ','\n",
    "reader = Reader( sep=',',rating_scale=(1,10))\n",
    "\n",
    "# Loading the cvs files which contain Train and Test Dataset  in order to be able to be used in Surprise\n",
    "data = Dataset.load_from_folds(folds_files, reader=reader)\n",
    "pkf = PredefinedKFold()\n",
    "\n",
    "\n",
    "for trainset, testset in pkf.split(data):\n",
    "    #Training & Testing algorithm\n",
    "    algo.fit(trainset)\n",
    "    predictions_bsl_als = algo.test(testset)\n",
    "\n",
    "    # Computing and printing Root Mean Squared Error (RMSE)\n",
    "    accuracy.rmse(predictions_bsl_als, verbose=True) # Root Mean Squared Error\n",
    "    accuracy.mse(predictions_bsl_als, verbose=True)  # Mean Squared Error\n",
    "    accuracy.mae(predictions_bsl_als, verbose=True)  # Mean Absolute Error\n",
    "    accuracy.fcp(predictions_bsl_als, verbose=True)  # Fraction of Concordant Pairs\n",
    "    \n",
    "    \n",
    "\n",
    "end = time.time()\n",
    "elapsed = end - start\n",
    "print(\"\\nTotal time needed for prediction: \" + str(elapsed) + \" seconds.\")\n",
    "#print(\"Number of predictions made: \" + str(len(predictions)))\n",
    "\n"
   ]
  },
  {
   "cell_type": "markdown",
   "metadata": {},
   "source": [
    "#### BaselineOnly algorithm with ALS gives slightly better metrics than BaselineOnly with SGD, so we are continuing with ALS."
   ]
  },
  {
   "cell_type": "code",
   "execution_count": 121,
   "metadata": {},
   "outputs": [],
   "source": [
    "df_extentedPredictions = pd.DataFrame(predictions_bsl_als, columns=['uid','iid','rui','est','details'])\n",
    "df_extentedPredictions['Iu']= df_extentedPredictions.uid.apply(get_Iu)\n",
    "df_extentedPredictions['Ui']= df_extentedPredictions.iid.apply(get_Ui)\n",
    "df_extentedPredictions['err'] = abs(df_extentedPredictions.est - df_extentedPredictions.rui)"
   ]
  },
  {
   "cell_type": "code",
   "execution_count": 122,
   "metadata": {},
   "outputs": [],
   "source": [
    "best_bsl_als=df_extentedPredictions.sort_values(by='err')[:10]\n",
    "worst_bsl_als=df_extentedPredictions.sort_values(by='err')[-10:]"
   ]
  },
  {
   "cell_type": "code",
   "execution_count": 123,
   "metadata": {},
   "outputs": [
    {
     "name": "stdout",
     "output_type": "stream",
     "text": [
      "These are the 10 best predicted ratings: \n"
     ]
    },
    {
     "data": {
      "text/html": [
       "<div>\n",
       "<style scoped>\n",
       "    .dataframe tbody tr th:only-of-type {\n",
       "        vertical-align: middle;\n",
       "    }\n",
       "\n",
       "    .dataframe tbody tr th {\n",
       "        vertical-align: top;\n",
       "    }\n",
       "\n",
       "    .dataframe thead th {\n",
       "        text-align: right;\n",
       "    }\n",
       "</style>\n",
       "<table border=\"1\" class=\"dataframe\">\n",
       "  <thead>\n",
       "    <tr style=\"text-align: right;\">\n",
       "      <th></th>\n",
       "      <th>uid</th>\n",
       "      <th>iid</th>\n",
       "      <th>rui</th>\n",
       "      <th>est</th>\n",
       "      <th>details</th>\n",
       "      <th>Iu</th>\n",
       "      <th>Ui</th>\n",
       "      <th>err</th>\n",
       "    </tr>\n",
       "  </thead>\n",
       "  <tbody>\n",
       "    <tr>\n",
       "      <td>35701</td>\n",
       "      <td>266164</td>\n",
       "      <td>0425146413</td>\n",
       "      <td>8.0</td>\n",
       "      <td>7.999937</td>\n",
       "      <td>{'was_impossible': False}</td>\n",
       "      <td>0</td>\n",
       "      <td>16</td>\n",
       "      <td>0.000063</td>\n",
       "    </tr>\n",
       "    <tr>\n",
       "      <td>10665</td>\n",
       "      <td>247151</td>\n",
       "      <td>068486424X</td>\n",
       "      <td>8.0</td>\n",
       "      <td>8.000577</td>\n",
       "      <td>{'was_impossible': False}</td>\n",
       "      <td>0</td>\n",
       "      <td>6</td>\n",
       "      <td>0.000577</td>\n",
       "    </tr>\n",
       "    <tr>\n",
       "      <td>38784</td>\n",
       "      <td>268622</td>\n",
       "      <td>068486424X</td>\n",
       "      <td>8.0</td>\n",
       "      <td>8.000577</td>\n",
       "      <td>{'was_impossible': False}</td>\n",
       "      <td>0</td>\n",
       "      <td>6</td>\n",
       "      <td>0.000577</td>\n",
       "    </tr>\n",
       "    <tr>\n",
       "      <td>48338</td>\n",
       "      <td>276563</td>\n",
       "      <td>0061093653</td>\n",
       "      <td>8.0</td>\n",
       "      <td>7.999219</td>\n",
       "      <td>{'was_impossible': False}</td>\n",
       "      <td>0</td>\n",
       "      <td>5</td>\n",
       "      <td>0.000781</td>\n",
       "    </tr>\n",
       "    <tr>\n",
       "      <td>37114</td>\n",
       "      <td>267259</td>\n",
       "      <td>0061093653</td>\n",
       "      <td>8.0</td>\n",
       "      <td>7.999219</td>\n",
       "      <td>{'was_impossible': False}</td>\n",
       "      <td>0</td>\n",
       "      <td>5</td>\n",
       "      <td>0.000781</td>\n",
       "    </tr>\n",
       "    <tr>\n",
       "      <td>34579</td>\n",
       "      <td>265313</td>\n",
       "      <td>0061093653</td>\n",
       "      <td>8.0</td>\n",
       "      <td>7.999219</td>\n",
       "      <td>{'was_impossible': False}</td>\n",
       "      <td>0</td>\n",
       "      <td>5</td>\n",
       "      <td>0.000781</td>\n",
       "    </tr>\n",
       "    <tr>\n",
       "      <td>13308</td>\n",
       "      <td>248718</td>\n",
       "      <td>0804118558</td>\n",
       "      <td>8.0</td>\n",
       "      <td>8.000970</td>\n",
       "      <td>{'was_impossible': False}</td>\n",
       "      <td>0</td>\n",
       "      <td>5</td>\n",
       "      <td>0.000970</td>\n",
       "    </tr>\n",
       "    <tr>\n",
       "      <td>6109</td>\n",
       "      <td>243929</td>\n",
       "      <td>0679761837</td>\n",
       "      <td>8.0</td>\n",
       "      <td>8.001037</td>\n",
       "      <td>{'was_impossible': False}</td>\n",
       "      <td>0</td>\n",
       "      <td>6</td>\n",
       "      <td>0.001037</td>\n",
       "    </tr>\n",
       "    <tr>\n",
       "      <td>37185</td>\n",
       "      <td>267313</td>\n",
       "      <td>0316316962</td>\n",
       "      <td>8.0</td>\n",
       "      <td>7.998957</td>\n",
       "      <td>{'was_impossible': False}</td>\n",
       "      <td>0</td>\n",
       "      <td>10</td>\n",
       "      <td>0.001043</td>\n",
       "    </tr>\n",
       "    <tr>\n",
       "      <td>35189</td>\n",
       "      <td>265889</td>\n",
       "      <td>006008460X</td>\n",
       "      <td>8.0</td>\n",
       "      <td>8.001212</td>\n",
       "      <td>{'was_impossible': False}</td>\n",
       "      <td>0</td>\n",
       "      <td>6</td>\n",
       "      <td>0.001212</td>\n",
       "    </tr>\n",
       "  </tbody>\n",
       "</table>\n",
       "</div>"
      ],
      "text/plain": [
       "          uid         iid  rui       est                    details  Iu  Ui  \\\n",
       "35701  266164  0425146413  8.0  7.999937  {'was_impossible': False}  0   16   \n",
       "10665  247151  068486424X  8.0  8.000577  {'was_impossible': False}  0   6    \n",
       "38784  268622  068486424X  8.0  8.000577  {'was_impossible': False}  0   6    \n",
       "48338  276563  0061093653  8.0  7.999219  {'was_impossible': False}  0   5    \n",
       "37114  267259  0061093653  8.0  7.999219  {'was_impossible': False}  0   5    \n",
       "34579  265313  0061093653  8.0  7.999219  {'was_impossible': False}  0   5    \n",
       "13308  248718  0804118558  8.0  8.000970  {'was_impossible': False}  0   5    \n",
       "6109   243929  0679761837  8.0  8.001037  {'was_impossible': False}  0   6    \n",
       "37185  267313  0316316962  8.0  7.998957  {'was_impossible': False}  0   10   \n",
       "35189  265889  006008460X  8.0  8.001212  {'was_impossible': False}  0   6    \n",
       "\n",
       "            err  \n",
       "35701  0.000063  \n",
       "10665  0.000577  \n",
       "38784  0.000577  \n",
       "48338  0.000781  \n",
       "37114  0.000781  \n",
       "34579  0.000781  \n",
       "13308  0.000970  \n",
       "6109   0.001037  \n",
       "37185  0.001043  \n",
       "35189  0.001212  "
      ]
     },
     "execution_count": 123,
     "metadata": {},
     "output_type": "execute_result"
    }
   ],
   "source": [
    "print(\"These are the 10 best predicted ratings: \")\n",
    "best_bsl_als"
   ]
  },
  {
   "cell_type": "code",
   "execution_count": 124,
   "metadata": {},
   "outputs": [
    {
     "name": "stdout",
     "output_type": "stream",
     "text": [
      "These are the worst 10 predicted ratings: \n"
     ]
    },
    {
     "data": {
      "text/html": [
       "<div>\n",
       "<style scoped>\n",
       "    .dataframe tbody tr th:only-of-type {\n",
       "        vertical-align: middle;\n",
       "    }\n",
       "\n",
       "    .dataframe tbody tr th {\n",
       "        vertical-align: top;\n",
       "    }\n",
       "\n",
       "    .dataframe thead th {\n",
       "        text-align: right;\n",
       "    }\n",
       "</style>\n",
       "<table border=\"1\" class=\"dataframe\">\n",
       "  <thead>\n",
       "    <tr style=\"text-align: right;\">\n",
       "      <th></th>\n",
       "      <th>uid</th>\n",
       "      <th>iid</th>\n",
       "      <th>rui</th>\n",
       "      <th>est</th>\n",
       "      <th>details</th>\n",
       "      <th>Iu</th>\n",
       "      <th>Ui</th>\n",
       "      <th>err</th>\n",
       "    </tr>\n",
       "  </thead>\n",
       "  <tbody>\n",
       "    <tr>\n",
       "      <td>46852</td>\n",
       "      <td>275111</td>\n",
       "      <td>034530988X</td>\n",
       "      <td>1.0</td>\n",
       "      <td>8.105849</td>\n",
       "      <td>{'was_impossible': False}</td>\n",
       "      <td>0</td>\n",
       "      <td>11</td>\n",
       "      <td>7.105849</td>\n",
       "    </tr>\n",
       "    <tr>\n",
       "      <td>48058</td>\n",
       "      <td>276264</td>\n",
       "      <td>0849932017</td>\n",
       "      <td>1.0</td>\n",
       "      <td>8.115468</td>\n",
       "      <td>{'was_impossible': False}</td>\n",
       "      <td>0</td>\n",
       "      <td>8</td>\n",
       "      <td>7.115468</td>\n",
       "    </tr>\n",
       "    <tr>\n",
       "      <td>5410</td>\n",
       "      <td>243312</td>\n",
       "      <td>0765342987</td>\n",
       "      <td>1.0</td>\n",
       "      <td>8.155581</td>\n",
       "      <td>{'was_impossible': False}</td>\n",
       "      <td>0</td>\n",
       "      <td>19</td>\n",
       "      <td>7.155581</td>\n",
       "    </tr>\n",
       "    <tr>\n",
       "      <td>45098</td>\n",
       "      <td>273898</td>\n",
       "      <td>0451191153</td>\n",
       "      <td>1.0</td>\n",
       "      <td>8.160499</td>\n",
       "      <td>{'was_impossible': False}</td>\n",
       "      <td>0</td>\n",
       "      <td>19</td>\n",
       "      <td>7.160499</td>\n",
       "    </tr>\n",
       "    <tr>\n",
       "      <td>29938</td>\n",
       "      <td>261829</td>\n",
       "      <td>0316776963</td>\n",
       "      <td>1.0</td>\n",
       "      <td>8.168661</td>\n",
       "      <td>{'was_impossible': False}</td>\n",
       "      <td>0</td>\n",
       "      <td>98</td>\n",
       "      <td>7.168661</td>\n",
       "    </tr>\n",
       "    <tr>\n",
       "      <td>41367</td>\n",
       "      <td>270605</td>\n",
       "      <td>1558506462</td>\n",
       "      <td>1.0</td>\n",
       "      <td>8.172186</td>\n",
       "      <td>{'was_impossible': False}</td>\n",
       "      <td>0</td>\n",
       "      <td>11</td>\n",
       "      <td>7.172186</td>\n",
       "    </tr>\n",
       "    <tr>\n",
       "      <td>40931</td>\n",
       "      <td>270154</td>\n",
       "      <td>0316168815</td>\n",
       "      <td>1.0</td>\n",
       "      <td>8.182130</td>\n",
       "      <td>{'was_impossible': False}</td>\n",
       "      <td>0</td>\n",
       "      <td>26</td>\n",
       "      <td>7.182130</td>\n",
       "    </tr>\n",
       "    <tr>\n",
       "      <td>17624</td>\n",
       "      <td>251541</td>\n",
       "      <td>0316168815</td>\n",
       "      <td>1.0</td>\n",
       "      <td>8.182130</td>\n",
       "      <td>{'was_impossible': False}</td>\n",
       "      <td>0</td>\n",
       "      <td>26</td>\n",
       "      <td>7.182130</td>\n",
       "    </tr>\n",
       "    <tr>\n",
       "      <td>6147</td>\n",
       "      <td>243930</td>\n",
       "      <td>0349101779</td>\n",
       "      <td>1.0</td>\n",
       "      <td>8.282639</td>\n",
       "      <td>{'was_impossible': False}</td>\n",
       "      <td>0</td>\n",
       "      <td>19</td>\n",
       "      <td>7.282639</td>\n",
       "    </tr>\n",
       "    <tr>\n",
       "      <td>17876</td>\n",
       "      <td>251754</td>\n",
       "      <td>0385504209</td>\n",
       "      <td>1.0</td>\n",
       "      <td>8.548353</td>\n",
       "      <td>{'was_impossible': False}</td>\n",
       "      <td>0</td>\n",
       "      <td>272</td>\n",
       "      <td>7.548353</td>\n",
       "    </tr>\n",
       "  </tbody>\n",
       "</table>\n",
       "</div>"
      ],
      "text/plain": [
       "          uid         iid  rui       est                    details  Iu   Ui  \\\n",
       "46852  275111  034530988X  1.0  8.105849  {'was_impossible': False}  0   11    \n",
       "48058  276264  0849932017  1.0  8.115468  {'was_impossible': False}  0   8     \n",
       "5410   243312  0765342987  1.0  8.155581  {'was_impossible': False}  0   19    \n",
       "45098  273898  0451191153  1.0  8.160499  {'was_impossible': False}  0   19    \n",
       "29938  261829  0316776963  1.0  8.168661  {'was_impossible': False}  0   98    \n",
       "41367  270605  1558506462  1.0  8.172186  {'was_impossible': False}  0   11    \n",
       "40931  270154  0316168815  1.0  8.182130  {'was_impossible': False}  0   26    \n",
       "17624  251541  0316168815  1.0  8.182130  {'was_impossible': False}  0   26    \n",
       "6147   243930  0349101779  1.0  8.282639  {'was_impossible': False}  0   19    \n",
       "17876  251754  0385504209  1.0  8.548353  {'was_impossible': False}  0   272   \n",
       "\n",
       "            err  \n",
       "46852  7.105849  \n",
       "48058  7.115468  \n",
       "5410   7.155581  \n",
       "45098  7.160499  \n",
       "29938  7.168661  \n",
       "41367  7.172186  \n",
       "40931  7.182130  \n",
       "17624  7.182130  \n",
       "6147   7.282639  \n",
       "17876  7.548353  "
      ]
     },
     "execution_count": 124,
     "metadata": {},
     "output_type": "execute_result"
    }
   ],
   "source": [
    "print(\"These are the worst 10 predicted ratings: \")\n",
    "worst_bsl_als"
   ]
  },
  {
   "cell_type": "markdown",
   "metadata": {},
   "source": [
    "#### Again, as with SVD-ALS , we can see the worst prediction here is 8,54 which is really far from the real rating of book with ISBN: 0385504209 which is 1,0. It would be a nice idea to try to find out why this bad prediction happened..."
   ]
  },
  {
   "cell_type": "code",
   "execution_count": 125,
   "metadata": {},
   "outputs": [
    {
     "data": {
      "image/png": "[encoded data removed]",
      "text/plain": [
       "<Figure size 432x288 with 1 Axes>"
      ]
     },
     "metadata": {
      "needs_background": "light"
     },
     "output_type": "display_data"
    }
   ],
   "source": [
    "filtered_df.loc[filtered_df['ISBN'] == '0385504209']['Book_Rating'].hist()\n",
    "plt.xlabel('Rating')\n",
    "plt.ylabel('Number of Ratings')\n",
    "plt.title('Number of ratings for book with ISBN: 0385504209')\n",
    "plt.show();"
   ]
  },
  {
   "cell_type": "markdown",
   "metadata": {},
   "source": [
    "*The reason for the previous wrong prediction is now obvious again. As we can understand from the plot, rating with 10 this specific book is an outlier. In fact it is the least common rating for this book. The most users have rated it with 1,2,3,5 or 6! So that is why the prediction was around 4...*"
   ]
  },
  {
   "cell_type": "markdown",
   "metadata": {},
   "source": [
    "## Comparison between SVD-ALS and BaselineOnly-ALS"
   ]
  },
  {
   "cell_type": "code",
   "execution_count": 126,
   "metadata": {},
   "outputs": [],
   "source": [
    "x_algo = ['SVD-ALS', 'BaselineOnly-ALS']\n",
    "all_algos_cv = [svd_als_cv, bsl_als_cv]\n",
    "\n",
    "rmse_cv = [round(res['test_rmse'].mean(), 6) for res in all_algos_cv]\n",
    "mae_cv = [round(res['test_mae'].mean(), 6) for res in all_algos_cv]\n",
    "fcp_cv = [round(res['test_fcp'].mean(), 6) for res in all_algos_cv]\n"
   ]
  },
  {
   "cell_type": "code",
   "execution_count": 127,
   "metadata": {},
   "outputs": [
    {
     "data": {
      "image/png": "[encoded data removed]",
      "text/plain": [
       "<Figure size 432x288 with 1 Axes>"
      ]
     },
     "metadata": {
      "needs_background": "light"
     },
     "output_type": "display_data"
    }
   ],
   "source": [
    "\n",
    "plt.title('Comparison of Algorithms on RMSE', loc='center', fontsize=20)\n",
    "plt.plot(x_algo, rmse_cv, label='RMSE', color='darkgreen', marker='o')\n",
    "plt.xlabel('Algorithms', fontsize=15)\n",
    "plt.ylabel('RMSE Value', fontsize=15)\n",
    "plt.legend()\n",
    "plt.grid(ls='dashed')"
   ]
  },
  {
   "cell_type": "code",
   "execution_count": 128,
   "metadata": {},
   "outputs": [
    {
     "data": {
      "image/png": "[encoded data removed]",
      "text/plain": [
       "<Figure size 432x288 with 1 Axes>"
      ]
     },
     "metadata": {
      "needs_background": "light"
     },
     "output_type": "display_data"
    }
   ],
   "source": [
    "\n",
    "plt.title('Comparison of Algorithms on MAE', loc='center', fontsize=20)\n",
    "plt.plot(x_algo, mae_cv, label='MAE', color='navy', marker='o')\n",
    "plt.xlabel('Algorithms', fontsize=15)\n",
    "plt.ylabel('MAE Value', fontsize=15)\n",
    "plt.legend()\n",
    "plt.grid(ls='dashed')"
   ]
  },
  {
   "cell_type": "code",
   "execution_count": 129,
   "metadata": {},
   "outputs": [
    {
     "data": {
      "image/png": "[encoded data removed]",
      "text/plain": [
       "<Figure size 432x288 with 1 Axes>"
      ]
     },
     "metadata": {
      "needs_background": "light"
     },
     "output_type": "display_data"
    }
   ],
   "source": [
    "plt.show()\n",
    "\n",
    "plt.title('Comparison of Algorithms on FCP', loc='center', fontsize=20)\n",
    "plt.plot(x_algo, fcp_cv, label='FCP', color='navy', marker='o')\n",
    "plt.xlabel('Algorithms', fontsize=15)\n",
    "plt.ylabel('FCP Value', fontsize=15)\n",
    "plt.legend()\n",
    "plt.grid(ls='dashed')\n",
    "\n",
    "plt.show()"
   ]
  },
  {
   "cell_type": "markdown",
   "metadata": {},
   "source": [
    "*All the plots above show us that SVD-ALS has smaller RMSE and MAE than BaselineOnly. But BaselineOnly has a greater FCP value. Of course we must have in mind that RMSE and MAE the smaller values they have the better it is for the algorithm whereas for FCP is the opposite. The greater it is the better for the algorithm. But looking at the values closely, we have to admit that the differences between them are tiny.*\n",
    "\n",
    "*The only difference we could say that it is obvious is that SVD is slower because it takes almost 9 seconds to predict the test set while BaselineOnly takes approximately 3 seconds to predict the same test set*\n",
    "\n"
   ]
  },
  {
   "cell_type": "markdown",
   "metadata": {},
   "source": [
    "## LightFM\n",
    "### I decided to check one more method, which is totally different from the previous.\n",
    "*A hybrid content/collaborative recommender system*"
   ]
  },
  {
   "cell_type": "code",
   "execution_count": 180,
   "metadata": {},
   "outputs": [],
   "source": [
    "\n",
    "from lightfm.datasets import fetch_movielens\n",
    "from sklearn import preprocessing\n",
    "from scipy.sparse import coo_matrix \n",
    "from lightfm import LightFM\n",
    "from lightfm.evaluation import precision_at_k\n",
    "\n",
    "import pandas as pd\n",
    "\n",
    "import matplotlib.pyplot as plt\n",
    "from datetime import datetime, timedelta\n",
    "from sklearn import preprocessing\n",
    "from lightfm import LightFM\n",
    "from scipy.sparse import csr_matrix \n",
    "from scipy.sparse import coo_matrix \n",
    "from sklearn.metrics import roc_auc_score\n",
    "import time\n",
    "from lightfm.evaluation import auc_score\n",
    "import pickle\n",
    "import re\n",
    "import seaborn as sns\n",
    "\n"
   ]
  },
  {
   "cell_type": "markdown",
   "metadata": {},
   "source": [
    "#### Keeping only exlicit ratings (from 1 to 10)."
   ]
  },
  {
   "cell_type": "code",
   "execution_count": 181,
   "metadata": {},
   "outputs": [],
   "source": [
    "# Train Dataset\n",
    "ratings_new_train = booksRatings_train[booksRatings_train.ISBN.isin(books.ISBN)]\n",
    "ratings_train = booksRatings_train[booksRatings_train.User_ID.isin(users.User_ID)]\n",
    "ratings_explicit_train = ratings_new_train[ratings_new_train.Book_Rating != 0]\n",
    "\n",
    "# Test Dataset\n",
    "ratings_new_test = booksRatings_test[booksRatings_test.ISBN.isin(books.ISBN)]\n",
    "ratings_test = booksRatings_test[booksRatings_test.User_ID.isin(users.User_ID)]\n",
    "ratings_explicit_test = ratings_new_test[ratings_new_test.Book_Rating != 0]"
   ]
  },
  {
   "cell_type": "markdown",
   "metadata": {},
   "source": [
    "#### Reducing the dataset by keeping only books with 5 or more ratings and users who have rated 5 or more books."
   ]
  },
  {
   "cell_type": "code",
   "execution_count": 182,
   "metadata": {},
   "outputs": [],
   "source": [
    "min_book_ratings = 5\n",
    "min_users = 5\n",
    "\n",
    "# Train Dataset\n",
    "counts1_train = ratings_explicit_train['User_ID'].value_counts()\n",
    "ratings_explicit_train = ratings_explicit_train[ratings_explicit_train['User_ID'].isin(counts1_train[counts1_train >= min_users].index)]\n",
    "counts_train = ratings_explicit_train['Book_Rating'].value_counts()\n",
    "ratings_explicit_train = ratings_explicit_train[ratings_explicit_train['Book_Rating'].isin(counts_train[counts_train >= min_book_ratings].index)]\n",
    "\n",
    "\n",
    "# Test Dataset\n",
    "counts1_test = ratings_explicit_test['User_ID'].value_counts()\n",
    "ratings_explicit_test = ratings_explicit_test[ratings_explicit_test['User_ID'].isin(counts1_test[counts1_test >= min_users].index)]\n",
    "counts_test = ratings_explicit_test['Book_Rating'].value_counts()\n",
    "ratings_explicit_test = ratings_explicit_test[ratings_explicit_test['Book_Rating'].isin(counts_test[counts_test >= min_book_ratings].index)]"
   ]
  },
  {
   "cell_type": "markdown",
   "metadata": {},
   "source": [
    "#### Preparing training and test sets, for the training of the algorithm and then for the predictions."
   ]
  },
  {
   "cell_type": "code",
   "execution_count": 183,
   "metadata": {},
   "outputs": [],
   "source": [
    "\n",
    "def prepare_train_test(rating_train,rating_test):\n",
    "    col_names = ['User_ID', 'ISBN']\n",
    "    rating_test = rating_test[(rating_test['User_ID'].isin(rating_train['User_ID'])) & (rating_test['ISBN'].isin(rating_train['ISBN']))]\n",
    "    trans_cat_train = dict()\n",
    "    trans_cat_test = dict()\n",
    "    for i in  col_names:\n",
    "        cate_enc = preprocessing.LabelEncoder()\n",
    "        trans_cat_train[i] = cate_enc.fit_transform(rating_train[i].values)\n",
    "        trans_cat_test[i] = cate_enc.transform(rating_test[i].values)\n",
    "    \n",
    "    # Encoding \n",
    "    cate_enc = preprocessing.LabelEncoder()\n",
    "    ratings = dict()\n",
    "    ratings['train'] = cate_enc.fit_transform(rating_train.Book_Rating)\n",
    "    ratings['test'] = cate_enc.transform(rating_test.Book_Rating)\n",
    "    \n",
    "    n_users = len(np.unique(trans_cat_train['User_ID']))\n",
    "    n_items = len(np.unique(trans_cat_train['ISBN']))\n",
    "    train = coo_matrix((ratings['train'], (trans_cat_train['User_ID'], trans_cat_train['ISBN'])), shape=(n_users, n_items))\n",
    "    test = coo_matrix((ratings['test'], (trans_cat_test['User_ID'],trans_cat_test['ISBN'])), shape=(n_users, n_items))\n",
    "    return train, test"
   ]
  },
  {
   "cell_type": "code",
   "execution_count": 184,
   "metadata": {},
   "outputs": [],
   "source": [
    "train, test = prepare_train_test(ratings_explicit_train,ratings_explicit_test)"
   ]
  },
  {
   "cell_type": "code",
   "execution_count": 185,
   "metadata": {},
   "outputs": [
    {
     "data": {
      "text/plain": [
       "(11114, 120261)"
      ]
     },
     "execution_count": 185,
     "metadata": {},
     "output_type": "execute_result"
    }
   ],
   "source": [
    "see = test.toarray()\n",
    "see.shape\n"
   ]
  },
  {
   "cell_type": "markdown",
   "metadata": {},
   "source": [
    "### I will now use this code  which finds the optimal parameters for LightFM calling.\n"
   ]
  },
  {
   "cell_type": "markdown",
   "metadata": {},
   "source": [
    "### WARP\n",
    "#### Our first attempt on LightFM will be with WARP (Weighted Approximate-Rank Pairwise loss). It maximises the rank of positive examples by repeatedly sampling negative examples until rank violating one is found. Useful when only positive interactions are present and optimising the top of the recommendation list (precision@k) is desired."
   ]
  },
  {
   "cell_type": "markdown",
   "metadata": {},
   "source": [
    "#### First of all we are going to find the optimal parameters for calling LightFM with WARP."
   ]
  },
  {
   "cell_type": "code",
   "execution_count": 186,
   "metadata": {},
   "outputs": [
    {
     "name": "stdout",
     "output_type": "stream",
     "text": [
      "Iteration No: 1 started. Evaluating function at random point.\n",
      "Epoch 0\n",
      "Epoch 1\n",
      "Epoch 2\n",
      "Epoch 3\n",
      "Epoch 4\n",
      "Epoch 5\n",
      "Epoch 6\n",
      "Epoch 7\n",
      "Epoch 8\n",
      "Epoch 9\n",
      "Epoch 10\n",
      "Epoch 11\n",
      "Epoch 12\n",
      "Epoch 13\n",
      "Epoch 14\n",
      "Epoch 15\n",
      "Epoch 16\n",
      "Epoch 17\n",
      "Epoch 18\n",
      "Epoch 19\n",
      "Epoch 20\n",
      "Epoch 21\n",
      "Epoch 22\n",
      "Epoch 23\n",
      "Epoch 24\n",
      "Epoch 25\n",
      "Epoch 26\n",
      "Epoch 27\n",
      "Epoch 28\n",
      "Epoch 29\n",
      "Epoch 30\n",
      "Epoch 31\n",
      "Epoch 32\n",
      "Epoch 33\n",
      "Epoch 34\n",
      "Epoch 35\n",
      "Epoch 36\n",
      "Epoch 37\n",
      "Epoch 38\n",
      "Epoch 39\n",
      "Epoch 40\n",
      "Epoch 41\n",
      "Epoch 42\n",
      "Epoch 43\n",
      "Epoch 44\n",
      "Epoch 45\n",
      "Epoch 46\n",
      "Epoch 47\n",
      "Iteration No: 1 ended. Evaluation done at random point.\n",
      "Time taken: 57.3704\n",
      "Function value obtained: -0.7443\n",
      "Current minimum: -0.7443\n",
      "Iteration No: 2 started. Evaluating function at random point.\n",
      "Epoch 0\n",
      "Epoch 1\n",
      "Epoch 2\n",
      "Epoch 3\n",
      "Iteration No: 2 ended. Evaluation done at random point.\n",
      "Time taken: 3.4889\n",
      "Function value obtained: -0.6214\n",
      "Current minimum: -0.7443\n",
      "Iteration No: 3 started. Evaluating function at random point.\n",
      "Epoch 0\n",
      "Epoch 1\n",
      "Epoch 2\n",
      "Epoch 3\n",
      "Epoch 4\n",
      "Epoch 5\n",
      "Epoch 6\n",
      "Epoch 7\n",
      "Epoch 8\n",
      "Epoch 9\n",
      "Epoch 10\n",
      "Epoch 11\n",
      "Epoch 12\n",
      "Epoch 13\n",
      "Epoch 14\n",
      "Epoch 15\n",
      "Epoch 16\n",
      "Epoch 17\n",
      "Epoch 18\n",
      "Epoch 19\n",
      "Epoch 20\n",
      "Epoch 21\n",
      "Epoch 22\n",
      "Epoch 23\n",
      "Epoch 24\n",
      "Epoch 25\n",
      "Epoch 26\n",
      "Epoch 27\n",
      "Epoch 28\n",
      "Epoch 29\n",
      "Epoch 30\n",
      "Epoch 31\n",
      "Epoch 32\n",
      "Epoch 33\n",
      "Epoch 34\n",
      "Epoch 35\n",
      "Epoch 36\n",
      "Iteration No: 3 ended. Evaluation done at random point.\n",
      "Time taken: 54.3708\n",
      "Function value obtained: -0.7596\n",
      "Current minimum: -0.7596\n",
      "Iteration No: 4 started. Evaluating function at random point.\n",
      "Epoch 0\n",
      "Epoch 1\n",
      "Epoch 2\n",
      "Epoch 3\n",
      "Epoch 4\n",
      "Epoch 5\n",
      "Epoch 6\n",
      "Epoch 7\n",
      "Epoch 8\n",
      "Epoch 9\n",
      "Epoch 10\n",
      "Epoch 11\n",
      "Epoch 12\n",
      "Iteration No: 4 ended. Evaluation done at random point.\n",
      "Time taken: 11.0672\n",
      "Function value obtained: -0.7468\n",
      "Current minimum: -0.7596\n",
      "Iteration No: 5 started. Evaluating function at random point.\n",
      "Epoch 0\n",
      "Epoch 1\n",
      "Epoch 2\n",
      "Epoch 3\n",
      "Epoch 4\n",
      "Epoch 5\n",
      "Epoch 6\n",
      "Epoch 7\n",
      "Epoch 8\n",
      "Epoch 9\n",
      "Epoch 10\n",
      "Epoch 11\n",
      "Epoch 12\n",
      "Epoch 13\n",
      "Epoch 14\n",
      "Epoch 15\n",
      "Epoch 16\n",
      "Epoch 17\n",
      "Epoch 18\n",
      "Epoch 19\n",
      "Epoch 20\n",
      "Epoch 21\n",
      "Epoch 22\n",
      "Epoch 23\n",
      "Iteration No: 5 ended. Evaluation done at random point.\n",
      "Time taken: 33.0613\n",
      "Function value obtained: -0.8272\n",
      "Current minimum: -0.8272\n",
      "Iteration No: 6 started. Evaluating function at random point.\n",
      "Epoch 0\n",
      "Epoch 1\n",
      "Epoch 2\n",
      "Epoch 3\n",
      "Epoch 4\n",
      "Epoch 5\n",
      "Epoch 6\n",
      "Epoch 7\n",
      "Epoch 8\n",
      "Epoch 9\n",
      "Epoch 10\n",
      "Epoch 11\n",
      "Epoch 12\n",
      "Epoch 13\n",
      "Epoch 14\n",
      "Epoch 15\n",
      "Epoch 16\n",
      "Epoch 17\n",
      "Epoch 18\n",
      "Epoch 19\n",
      "Epoch 20\n",
      "Epoch 21\n",
      "Epoch 22\n",
      "Epoch 23\n",
      "Epoch 24\n",
      "Epoch 25\n",
      "Epoch 26\n",
      "Epoch 27\n",
      "Epoch 28\n",
      "Epoch 29\n",
      "Epoch 30\n",
      "Epoch 31\n",
      "Epoch 32\n",
      "Epoch 33\n",
      "Epoch 34\n",
      "Epoch 35\n",
      "Epoch 36\n",
      "Epoch 37\n",
      "Iteration No: 6 ended. Evaluation done at random point.\n",
      "Time taken: 39.7768\n",
      "Function value obtained: -0.6282\n",
      "Current minimum: -0.8272\n",
      "Iteration No: 7 started. Evaluating function at random point.\n",
      "Epoch 0\n",
      "Epoch 1\n",
      "Epoch 2\n",
      "Epoch 3\n",
      "Epoch 4\n",
      "Epoch 5\n",
      "Epoch 6\n",
      "Epoch 7\n",
      "Epoch 8\n",
      "Epoch 9\n",
      "Iteration No: 7 ended. Evaluation done at random point.\n",
      "Time taken: 23.0161\n",
      "Function value obtained: -0.6773\n",
      "Current minimum: -0.8272\n",
      "Iteration No: 8 started. Evaluating function at random point.\n",
      "Epoch 0\n",
      "Epoch 1\n",
      "Epoch 2\n",
      "Epoch 3\n",
      "Epoch 4\n",
      "Epoch 5\n",
      "Epoch 6\n",
      "Epoch 7\n",
      "Epoch 8\n",
      "Epoch 9\n",
      "Epoch 10\n",
      "Epoch 11\n",
      "Epoch 12\n",
      "Epoch 13\n",
      "Epoch 14\n",
      "Epoch 15\n",
      "Iteration No: 8 ended. Evaluation done at random point.\n",
      "Time taken: 21.4089\n",
      "Function value obtained: -0.5021\n",
      "Current minimum: -0.8272\n",
      "Iteration No: 9 started. Evaluating function at random point.\n",
      "Epoch 0\n",
      "Epoch 1\n",
      "Epoch 2\n",
      "Epoch 3\n",
      "Epoch 4\n",
      "Epoch 5\n",
      "Epoch 6\n",
      "Epoch 7\n",
      "Epoch 8\n",
      "Epoch 9\n",
      "Epoch 10\n",
      "Epoch 11\n",
      "Epoch 12\n",
      "Epoch 13\n",
      "Epoch 14\n",
      "Epoch 15\n",
      "Epoch 16\n",
      "Epoch 17\n",
      "Epoch 18\n",
      "Epoch 19\n",
      "Epoch 20\n",
      "Epoch 21\n",
      "Epoch 22\n",
      "Epoch 23\n",
      "Epoch 24\n",
      "Epoch 25\n",
      "Epoch 26\n",
      "Epoch 27\n",
      "Epoch 28\n",
      "Epoch 29\n",
      "Epoch 30\n",
      "Epoch 31\n",
      "Epoch 32\n",
      "Epoch 33\n",
      "Epoch 34\n",
      "Epoch 35\n",
      "Iteration No: 9 ended. Evaluation done at random point.\n",
      "Time taken: 38.4998\n",
      "Function value obtained: -0.7092\n",
      "Current minimum: -0.8272\n",
      "Iteration No: 10 started. Evaluating function at random point.\n",
      "Epoch 0\n",
      "Epoch 1\n",
      "Epoch 2\n",
      "Epoch 3\n",
      "Epoch 4\n",
      "Epoch 5\n",
      "Epoch 6\n",
      "Epoch 7\n",
      "Epoch 8\n",
      "Epoch 9\n",
      "Epoch 10\n",
      "Epoch 11\n",
      "Epoch 12\n",
      "Epoch 13\n",
      "Epoch 14\n",
      "Epoch 15\n",
      "Epoch 16\n",
      "Epoch 17\n",
      "Epoch 18\n",
      "Epoch 19\n",
      "Iteration No: 10 ended. Evaluation done at random point.\n",
      "Time taken: 38.7971\n",
      "Function value obtained: -0.7270\n",
      "Current minimum: -0.8272\n",
      "Iteration No: 11 started. Searching for the next optimal point.\n",
      "Epoch 0\n",
      "Epoch 1\n",
      "Epoch 2\n",
      "Epoch 3\n",
      "Epoch 4\n",
      "Epoch 5\n",
      "Epoch 6\n",
      "Epoch 7\n",
      "Epoch 8\n",
      "Epoch 9\n",
      "Epoch 10\n",
      "Epoch 11\n",
      "Epoch 12\n",
      "Epoch 13\n",
      "Epoch 14\n",
      "Epoch 15\n",
      "Iteration No: 11 ended. Search finished for the next optimal point.\n",
      "Time taken: 19.2869\n",
      "Function value obtained: -0.8166\n",
      "Current minimum: -0.8272\n",
      "Iteration No: 12 started. Searching for the next optimal point.\n",
      "Epoch 0\n",
      "Epoch 1\n",
      "Epoch 2\n",
      "Epoch 3\n",
      "Epoch 4\n",
      "Epoch 5\n",
      "Epoch 6\n",
      "Epoch 7\n",
      "Epoch 8\n",
      "Epoch 9\n",
      "Epoch 10\n",
      "Epoch 11\n",
      "Epoch 12\n",
      "Epoch 13\n",
      "Epoch 14\n",
      "Epoch 15\n",
      "Iteration No: 12 ended. Search finished for the next optimal point.\n",
      "Time taken: 22.7341\n",
      "Function value obtained: -0.7564\n",
      "Current minimum: -0.8272\n",
      "Iteration No: 13 started. Searching for the next optimal point.\n",
      "Epoch 0\n",
      "Epoch 1\n",
      "Epoch 2\n",
      "Epoch 3\n",
      "Epoch 4\n",
      "Epoch 5\n",
      "Epoch 6\n",
      "Epoch 7\n",
      "Epoch 8\n",
      "Epoch 9\n",
      "Epoch 10\n",
      "Epoch 11\n",
      "Epoch 12\n",
      "Epoch 13\n",
      "Epoch 14\n",
      "Epoch 15\n",
      "Iteration No: 13 ended. Search finished for the next optimal point.\n",
      "Time taken: 20.9198\n",
      "Function value obtained: -0.8026\n",
      "Current minimum: -0.8272\n",
      "Iteration No: 14 started. Searching for the next optimal point.\n",
      "Epoch 0\n",
      "Epoch 1\n",
      "Epoch 2\n",
      "Epoch 3\n",
      "Epoch 4\n",
      "Epoch 5\n",
      "Epoch 6\n",
      "Epoch 7\n",
      "Epoch 8\n",
      "Epoch 9\n",
      "Epoch 10\n",
      "Epoch 11\n",
      "Epoch 12\n",
      "Epoch 13\n",
      "Epoch 14\n",
      "Iteration No: 14 ended. Search finished for the next optimal point.\n",
      "Time taken: 30.4113\n",
      "Function value obtained: -0.8045\n",
      "Current minimum: -0.8272\n",
      "Iteration No: 15 started. Searching for the next optimal point.\n",
      "Epoch 0\n",
      "Epoch 1\n",
      "Epoch 2\n",
      "Epoch 3\n",
      "Epoch 4\n",
      "Epoch 5\n",
      "Epoch 6\n",
      "Epoch 7\n",
      "Epoch 8\n",
      "Epoch 9\n",
      "Epoch 10\n",
      "Epoch 11\n",
      "Epoch 12\n",
      "Epoch 13\n",
      "Epoch 14\n",
      "Epoch 15\n",
      "Epoch 16\n",
      "Iteration No: 15 ended. Search finished for the next optimal point.\n",
      "Time taken: 25.7557\n",
      "Function value obtained: -0.7532\n",
      "Current minimum: -0.8272\n",
      "Iteration No: 16 started. Searching for the next optimal point.\n",
      "Epoch 0\n",
      "Epoch 1\n",
      "Epoch 2\n",
      "Epoch 3\n",
      "Epoch 4\n",
      "Epoch 5\n",
      "Epoch 6\n",
      "Epoch 7\n",
      "Epoch 8\n",
      "Epoch 9\n",
      "Epoch 10\n",
      "Epoch 11\n",
      "Epoch 12\n",
      "Epoch 13\n",
      "Epoch 14\n",
      "Epoch 15\n",
      "Iteration No: 16 ended. Search finished for the next optimal point.\n",
      "Time taken: 20.7129\n",
      "Function value obtained: -0.8263\n",
      "Current minimum: -0.8272\n",
      "Iteration No: 17 started. Searching for the next optimal point.\n",
      "Epoch 0\n",
      "Epoch 1\n",
      "Epoch 2\n",
      "Epoch 3\n",
      "Epoch 4\n",
      "Epoch 5\n",
      "Epoch 6\n",
      "Epoch 7\n",
      "Epoch 8\n",
      "Epoch 9\n",
      "Epoch 10\n",
      "Epoch 11\n",
      "Epoch 12\n",
      "Epoch 13\n",
      "Epoch 14\n",
      "Epoch 15\n",
      "Iteration No: 17 ended. Search finished for the next optimal point.\n",
      "Time taken: 20.6496\n",
      "Function value obtained: -0.8369\n",
      "Current minimum: -0.8369\n",
      "Iteration No: 18 started. Searching for the next optimal point.\n",
      "Epoch 0\n",
      "Epoch 1\n",
      "Epoch 2\n",
      "Epoch 3\n",
      "Epoch 4\n",
      "Epoch 5\n",
      "Epoch 6\n",
      "Epoch 7\n",
      "Epoch 8\n",
      "Epoch 9\n",
      "Epoch 10\n",
      "Epoch 11\n",
      "Epoch 12\n",
      "Epoch 13\n",
      "Epoch 14\n",
      "Epoch 15\n",
      "Iteration No: 18 ended. Search finished for the next optimal point.\n",
      "Time taken: 22.4175\n",
      "Function value obtained: -0.7931\n",
      "Current minimum: -0.8369\n",
      "Iteration No: 19 started. Searching for the next optimal point.\n",
      "Epoch 0\n",
      "Epoch 1\n",
      "Epoch 2\n",
      "Epoch 3\n",
      "Epoch 4\n",
      "Epoch 5\n",
      "Epoch 6\n",
      "Epoch 7\n",
      "Epoch 8\n",
      "Epoch 9\n",
      "Epoch 10\n",
      "Epoch 11\n",
      "Epoch 12\n",
      "Epoch 13\n",
      "Epoch 14\n",
      "Epoch 15\n",
      "Iteration No: 19 ended. Search finished for the next optimal point.\n",
      "Time taken: 20.6245\n",
      "Function value obtained: -0.8170\n",
      "Current minimum: -0.8369\n",
      "Iteration No: 20 started. Searching for the next optimal point.\n",
      "Epoch 0\n",
      "Epoch 1\n",
      "Epoch 2\n",
      "Epoch 3\n",
      "Epoch 4\n",
      "Epoch 5\n",
      "Epoch 6\n",
      "Epoch 7\n",
      "Epoch 8\n",
      "Epoch 9\n",
      "Epoch 10\n",
      "Epoch 11\n",
      "Epoch 12\n",
      "Epoch 13\n",
      "Epoch 14\n",
      "Iteration No: 20 ended. Search finished for the next optimal point.\n",
      "Time taken: 19.7758\n",
      "Function value obtained: -0.8247\n",
      "Current minimum: -0.8369\n",
      "Maximimum auc found: 0.83693\n",
      "Optimal parameters:\n",
      "epochs: 16\n",
      "learning_rate: 0.012788099122531888\n",
      "no_components: 80\n"
     ]
    }
   ],
   "source": [
    "\n",
    "from skopt import forest_minimize\n",
    "\n",
    "\n",
    "def findOptParams(params):\n",
    "   \n",
    "    epochs, learning_rate, no_components = params\n",
    "\n",
    "    WARP_model = LightFM(loss='warp',learning_rate=learning_rate,no_components=no_components)\n",
    "    WARP_model.fit(train, epochs=epochs, num_threads=4, verbose=True)\n",
    "\n",
    "    patks = auc_score(WARP_model, test, num_threads=4)\n",
    "    maptk = np.mean(patks)\n",
    "    \n",
    "    res = -maptk\n",
    "    \n",
    "    # Just to get rid of some unwanted values\n",
    "    if np.abs(res + 1) < 0.01 or res < -1.0:\n",
    "        return 0.0\n",
    "    else:\n",
    "        return res\n",
    "\n",
    "\n",
    "# space = [number of epochs, learning_rate, no_components]\n",
    "possParams = [(1, 50), (0.0001, 0.5, 'log-uniform'), (1,200 )]\n",
    "\n",
    "result = forest_minimize(findOptParams, possParams, n_calls=20,random_state=0,verbose=True)\n",
    "\n",
    "print('Maximimum auc found: {:6.5f}'.format(-result.fun))\n",
    "print('Optimal parameters:')\n",
    "parList = ['epochs', 'learning_rate', 'no_components']\n",
    "for (p, x_) in zip(parList, result.x):\n",
    "    print('{}: {}'.format(p, x_))"
   ]
  },
  {
   "cell_type": "code",
   "execution_count": 187,
   "metadata": {},
   "outputs": [
    {
     "name": "stdout",
     "output_type": "stream",
     "text": [
      "Total time needed for LightFM (WARP) 263.9456171989441 seconds.\n",
      "Train AUC Score: 0.8605564832687378\n",
      "Test AUC Score: 0.8343704342842102\n",
      "Train Precission Score: 0.0335792675614357\n",
      "Test Precission Score: 0.20000000298023224\n"
     ]
    }
   ],
   "source": [
    "start_time = time.time()\n",
    "\n",
    "\n",
    "\n",
    "WARP_model=LightFM(learning_rate=0.0067,loss='warp', no_components=76)\n",
    "\n",
    "\n",
    "WARP_model.fit(train,epochs=39,num_threads=4)\n",
    "auc_train = auc_score(WARP_model, train).mean()\n",
    "auc_test = auc_score(WARP_model, test).mean()\n",
    "\n",
    "\n",
    "precision_train = precision_at_k(WARP_model, train, k=10).mean()\n",
    "precision_test = precision_at_k(WARP_model, test, k=10).mean()\n",
    "\n",
    "\n",
    "end_time = time.time()\n",
    "elapsed_time = end_time - start_time\n",
    "print(\"Total time needed for LightFM (WARP) \" + str(elapsed_time) + \" seconds.\")\n",
    "\n",
    "# Printing AUC Scores\n",
    "print(\"Train AUC Score: {}\".format(auc_train))\n",
    "print(\"Test AUC Score: {}\".format(auc_test))\n",
    "\n",
    "# Printing Precision Scores\n",
    "print(\"Train Precission Score: {}\".format(precision_train))\n",
    "print(\"Test Precission Score: {}\".format(precision_test))\n",
    "\n"
   ]
  },
  {
   "cell_type": "code",
   "execution_count": 188,
   "metadata": {},
   "outputs": [],
   "source": [
    "epochs = 39\n",
    "WARP_duration = []\n",
    "WARP_auc = []\n",
    "WARP_precision = []\n",
    "\n",
    "for epoch in range(epochs):\n",
    "    start = time.time()\n",
    "    WARP_model.fit_partial(train, epochs=1)\n",
    "    WARP_duration.append(time.time() - start)\n",
    "    WARP_auc.append(auc_score(WARP_model, test, train_interactions=train).mean())\n",
    "    WARP_precision.append(precision_at_k(WARP_model, test, train_interactions=train, k=10).mean())\n"
   ]
  },
  {
   "cell_type": "markdown",
   "metadata": {},
   "source": [
    "### BPR \n",
    "#### Now, we are going to try BPR (Bayesian Personalised Ranking  pairwise loss).  It Maximises the prediction difference between a positive example and a randomly chosen negative example. Useful when only positive interactions are present and optimising ROC AUC is desired.\n"
   ]
  },
  {
   "cell_type": "markdown",
   "metadata": {},
   "source": [
    "#### We are now using the same parameters for BPR as with WARP, in order to compare them later."
   ]
  },
  {
   "cell_type": "code",
   "execution_count": 189,
   "metadata": {},
   "outputs": [
    {
     "name": "stdout",
     "output_type": "stream",
     "text": [
      "Total time needed for LightFM (BPR) 268.3083860874176 seconds.\n",
      "Train AUC Score: 0.6222692728042603\n",
      "Test AUC Score: 0.4642690122127533\n",
      "Train Precission Score: 0.02208925597369671\n",
      "Test Precission Score: 0.0\n"
     ]
    }
   ],
   "source": [
    "start_time = time.time()\n",
    "\n",
    "BPR_model=LightFM(learning_rate=0.0067,loss='bpr', no_components=76)\n",
    "BPR_model.fit(train,epochs=39,num_threads=4)\n",
    "auc_train = auc_score(BPR_model, train).mean()\n",
    "auc_test = auc_score(BPR_model, test).mean()\n",
    "\n",
    "\n",
    "precision_train = precision_at_k(BPR_model, train, k=10).mean()\n",
    "precision_test = precision_at_k(BPR_model, test, k=10).mean()\n",
    "\n",
    "\n",
    "end_time = time.time()\n",
    "elapsed_time = end_time - start_time\n",
    "print(\"Total time needed for LightFM (BPR) \" + str(elapsed_time) + \" seconds.\")\n",
    "\n",
    "# Printing AUC Scores\n",
    "print(\"Train AUC Score: {}\".format(auc_train))\n",
    "print(\"Test AUC Score: {}\".format(auc_test))\n",
    "\n",
    "# Printing Precision Scores\n",
    "print(\"Train Precission Score: {}\".format(precision_train))\n",
    "print(\"Test Precission Score: {}\".format(precision_test))"
   ]
  },
  {
   "cell_type": "code",
   "execution_count": 190,
   "metadata": {},
   "outputs": [],
   "source": [
    "epochs = 39\n",
    "BPR_duration = []\n",
    "BPR_auc = []\n",
    "BPR_precision = []\n",
    "\n",
    "for epoch in range(epochs):\n",
    "    start = time.time()\n",
    "    BPR_model.fit_partial(train, epochs=1)\n",
    "    BPR_duration.append(time.time() - start)\n",
    "    BPR_auc.append(auc_score(BPR_model, test, train_interactions=train).mean())\n",
    "    BPR_precision.append(precision_at_k(BPR_model, test, train_interactions=train, k=10).mean())\n",
    "    "
   ]
  },
  {
   "cell_type": "markdown",
   "metadata": {},
   "source": [
    "#### Have in mind that Precision scores are focused on the quality of ranking of the top of the list. So, the important thing is that the top K items are mostly positive.\n",
    "\n",
    "#### On the other hand...\n",
    "\n",
    "#### AUC scores are focused on the quality of all rankings in general.\" It can be interpreted as the probability that a randomly chosen positive item is ranked  higher than a randomly chosen negative item\" and also \"a high AUC score will then give you confidence that your ranking is of high quality throughout\" as mentioned here: \"https://stackoverflow.com/questions/45451161/evaluating-the-lightfm-recommendation-model\" .\n",
    "\n"
   ]
  },
  {
   "cell_type": "markdown",
   "metadata": {},
   "source": [
    "####  Plotting AUCs of WARP and BPR"
   ]
  },
  {
   "cell_type": "code",
   "execution_count": 191,
   "metadata": {},
   "outputs": [
    {
     "data": {
      "image/png": "[encoded data removed]",
      "text/plain": [
       "<Figure size 432x288 with 1 Axes>"
      ]
     },
     "metadata": {
      "needs_background": "light"
     },
     "output_type": "display_data"
    }
   ],
   "source": [
    "x = np.arange(epochs)\n",
    "plt.plot(x, np.array(WARP_auc))\n",
    "plt.plot(x, np.array(BPR_auc))\n",
    "plt.legend(['WARP AUC', 'BPR AUC'], loc='upper right')\n",
    "plt.show()"
   ]
  },
  {
   "cell_type": "markdown",
   "metadata": {},
   "source": [
    "*And of course, it is pretty much obvious from the plot above, that WARP produces better results than BPR. As it also seems, after the 20th epoch it starts to decrease a little bit which means that it would be better to stop somewhere there when fitting.*"
   ]
  },
  {
   "cell_type": "markdown",
   "metadata": {},
   "source": [
    "#### Plotting Precisions of WARP and BPR"
   ]
  },
  {
   "cell_type": "code",
   "execution_count": 192,
   "metadata": {},
   "outputs": [
    {
     "data": {
      "image/png": "[encoded data removed]",
      "text/plain": [
       "<Figure size 432x288 with 1 Axes>"
      ]
     },
     "metadata": {
      "needs_background": "light"
     },
     "output_type": "display_data"
    }
   ],
   "source": [
    "x = np.arange(epochs)\n",
    "plt.plot(x, np.array(WARP_precision))\n",
    "plt.plot(x, np.array(BPR_precision))\n",
    "plt.legend(['WARP precision', 'BPR precision'], loc='upper right')\n",
    "plt.show()"
   ]
  },
  {
   "cell_type": "markdown",
   "metadata": {},
   "source": [
    "*WARP appears to hae a better precision at all for k=10.*"
   ]
  },
  {
   "cell_type": "markdown",
   "metadata": {},
   "source": [
    "#### Plotting duration times of WARP and BPR"
   ]
  },
  {
   "cell_type": "code",
   "execution_count": 193,
   "metadata": {
    "scrolled": true
   },
   "outputs": [
    {
     "data": {
      "image/png": "[encoded data removed]",
      "text/plain": [
       "<Figure size 432x288 with 1 Axes>"
      ]
     },
     "metadata": {
      "needs_background": "light"
     },
     "output_type": "display_data"
    }
   ],
   "source": [
    "x = np.arange(epochs)\n",
    "plt.plot(x, np.array(WARP_duration))\n",
    "plt.plot(x, np.array(BPR_duration))\n",
    "plt.legend(['WARP duration', 'BPR duration'], loc='upper right')\n",
    "plt.show()"
   ]
  },
  {
   "cell_type": "markdown",
   "metadata": {},
   "source": [
    "*It is interesting that WARP is slower than BPR for all epochs except from around 7th epoch when suddenly BPR increases its duration a lot and then it decreases again.*"
   ]
  },
  {
   "cell_type": "markdown",
   "metadata": {},
   "source": [
    "### Since at this moment we care more about good predictions and less about duration times, we consider WARP as the optimal method for LightFM."
   ]
  }
 ],
 "metadata": {
  "kernelspec": {
   "display_name": "Python 3",
   "language": "python",
   "name": "python3"
  },
  "language_info": {
   "codemirror_mode": {
    "name": "ipython",
    "version": 3
   },
   "file_extension": ".py",
   "mimetype": "text/x-python",
   "name": "python",
   "nbconvert_exporter": "python",
   "pygments_lexer": "ipython3",
   "version": "3.7.4"
  }
 },
 "nbformat": 4,
 "nbformat_minor": 2
}
